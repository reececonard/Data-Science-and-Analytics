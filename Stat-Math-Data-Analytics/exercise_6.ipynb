{
 "cells": [
  {
   "cell_type": "markdown",
   "metadata": {},
   "source": [
    "<span style=\"color:#04c921; font-size:24px; font-weight:700\"> Module 6 - Classification Exercises</span>\n",
    "\n",
    "We saw why linear regression is not an ideal choice for classification. \n",
    "We audited the following classification algorithms logistic regression, LDA and SVM \n",
    "which are widely used for data analysis. \n",
    "\n",
    "For this exercise, you will apply the classification algorithms you came across in lab \n",
    "and practice notebooks on **songs** and **glass** datasets. \n",
    "The songs dataset captures details about a song:\n",
    "year when it is released, title, artist name, loudness pitch, tempo, timbre values etc. \n",
    "All these independent values are used to predict if the song has made it to the top 10 of the list. \n",
    "Apply a logistic regression model to this dataset."
   ]
  },
  {
   "cell_type": "markdown",
   "metadata": {},
   "source": [
    "Read the data from dataset located at `/dsa/data/all_datasets/songs/songs.csv`."
   ]
  },
  {
   "cell_type": "code",
   "execution_count": 3,
   "metadata": {},
   "outputs": [
    {
     "data": {
      "text/html": [
       "<table>\n",
       "<caption>A data.frame: 6 × 39</caption>\n",
       "<thead>\n",
       "\t<tr><th scope=col>year</th><th scope=col>songtitle</th><th scope=col>artistname</th><th scope=col>songID</th><th scope=col>artistID</th><th scope=col>timesignature</th><th scope=col>timesignature_confidence</th><th scope=col>loudness</th><th scope=col>tempo</th><th scope=col>tempo_confidence</th><th scope=col>⋯</th><th scope=col>timbre_7_max</th><th scope=col>timbre_8_min</th><th scope=col>timbre_8_max</th><th scope=col>timbre_9_min</th><th scope=col>timbre_9_max</th><th scope=col>timbre_10_min</th><th scope=col>timbre_10_max</th><th scope=col>timbre_11_min</th><th scope=col>timbre_11_max</th><th scope=col>Top10</th></tr>\n",
       "\t<tr><th scope=col>&lt;int&gt;</th><th scope=col>&lt;fct&gt;</th><th scope=col>&lt;fct&gt;</th><th scope=col>&lt;fct&gt;</th><th scope=col>&lt;fct&gt;</th><th scope=col>&lt;int&gt;</th><th scope=col>&lt;dbl&gt;</th><th scope=col>&lt;dbl&gt;</th><th scope=col>&lt;dbl&gt;</th><th scope=col>&lt;dbl&gt;</th><th scope=col>⋯</th><th scope=col>&lt;dbl&gt;</th><th scope=col>&lt;dbl&gt;</th><th scope=col>&lt;dbl&gt;</th><th scope=col>&lt;dbl&gt;</th><th scope=col>&lt;dbl&gt;</th><th scope=col>&lt;dbl&gt;</th><th scope=col>&lt;dbl&gt;</th><th scope=col>&lt;dbl&gt;</th><th scope=col>&lt;dbl&gt;</th><th scope=col>&lt;int&gt;</th></tr>\n",
       "</thead>\n",
       "<tbody>\n",
       "\t<tr><td>2010</td><td>This Is the House That Doubt Built</td><td>A Day to Remember</td><td>SOBGGAB12C5664F054</td><td>AROBSHL1187B9AFB01</td><td>3</td><td>0.853</td><td>-4.262</td><td> 91.525</td><td>0.953</td><td>⋯</td><td> 82.475</td><td>-52.025</td><td>39.116</td><td>-35.368</td><td>71.642</td><td>-126.440</td><td> 18.658</td><td>-44.770</td><td>25.989</td><td>0</td></tr>\n",
       "\t<tr><td>2010</td><td><span style=white-space:pre-wrap>Sticks &amp; Bricks                   </span></td><td>A Day to Remember</td><td>SOPAQHU1315CD47F31</td><td>AROBSHL1187B9AFB01</td><td>4</td><td>1.000</td><td>-4.051</td><td>140.048</td><td>0.921</td><td>⋯</td><td>106.918</td><td>-61.320</td><td>35.378</td><td>-81.928</td><td>74.574</td><td>-103.808</td><td>121.935</td><td>-38.892</td><td>22.513</td><td>0</td></tr>\n",
       "\t<tr><td>2010</td><td>All I Want                        </td><td>A Day to Remember</td><td>SOOIZOU1376E7C6386</td><td>AROBSHL1187B9AFB01</td><td>4</td><td>1.000</td><td>-3.571</td><td>160.512</td><td>0.489</td><td>⋯</td><td> 80.621</td><td>-59.773</td><td>45.979</td><td>-46.293</td><td>59.904</td><td>-108.313</td><td> 33.300</td><td>-43.733</td><td>25.744</td><td>0</td></tr>\n",
       "\t<tr><td>2010</td><td>It's Complicated                  </td><td>A Day to Remember</td><td>SODRYWD1315CD49DBE</td><td>AROBSHL1187B9AFB01</td><td>4</td><td>1.000</td><td>-3.815</td><td> 97.525</td><td>0.794</td><td>⋯</td><td> 96.675</td><td>-78.660</td><td>41.088</td><td>-49.194</td><td>95.440</td><td>-102.676</td><td> 46.422</td><td>-59.439</td><td>37.082</td><td>0</td></tr>\n",
       "\t<tr><td>2010</td><td>2nd Sucks                         </td><td>A Day to Remember</td><td>SOICMQB1315CD46EE3</td><td>AROBSHL1187B9AFB01</td><td>4</td><td>0.788</td><td>-4.707</td><td>140.053</td><td>0.286</td><td>⋯</td><td>110.332</td><td>-56.450</td><td>37.555</td><td>-48.588</td><td>67.570</td><td> -52.796</td><td> 22.888</td><td>-50.414</td><td>32.758</td><td>0</td></tr>\n",
       "\t<tr><td>2010</td><td>Better Off This Way               </td><td>A Day to Remember</td><td>SOCEYON1315CD4A23E</td><td>AROBSHL1187B9AFB01</td><td>4</td><td>1.000</td><td>-3.807</td><td>160.366</td><td>0.347</td><td>⋯</td><td> 91.117</td><td>-54.378</td><td>53.808</td><td>-33.183</td><td>54.657</td><td> -64.478</td><td> 34.522</td><td>-40.922</td><td>36.453</td><td>0</td></tr>\n",
       "</tbody>\n",
       "</table>\n"
      ],
      "text/latex": [
       "A data.frame: 6 × 39\n",
       "\\begin{tabular}{r|lllllllllllllllllllllllllllllllllllllll}\n",
       " year & songtitle & artistname & songID & artistID & timesignature & timesignature\\_confidence & loudness & tempo & tempo\\_confidence & key & key\\_confidence & energy & pitch & timbre\\_0\\_min & timbre\\_0\\_max & timbre\\_1\\_min & timbre\\_1\\_max & timbre\\_2\\_min & timbre\\_2\\_max & timbre\\_3\\_min & timbre\\_3\\_max & timbre\\_4\\_min & timbre\\_4\\_max & timbre\\_5\\_min & timbre\\_5\\_max & timbre\\_6\\_min & timbre\\_6\\_max & timbre\\_7\\_min & timbre\\_7\\_max & timbre\\_8\\_min & timbre\\_8\\_max & timbre\\_9\\_min & timbre\\_9\\_max & timbre\\_10\\_min & timbre\\_10\\_max & timbre\\_11\\_min & timbre\\_11\\_max & Top10\\\\\n",
       " <int> & <fct> & <fct> & <fct> & <fct> & <int> & <dbl> & <dbl> & <dbl> & <dbl> & <int> & <dbl> & <dbl> & <dbl> & <dbl> & <dbl> & <dbl> & <dbl> & <dbl> & <dbl> & <dbl> & <dbl> & <dbl> & <dbl> & <dbl> & <dbl> & <dbl> & <dbl> & <dbl> & <dbl> & <dbl> & <dbl> & <dbl> & <dbl> & <dbl> & <dbl> & <dbl> & <dbl> & <int>\\\\\n",
       "\\hline\n",
       "\t 2010 & This Is the House That Doubt Built & A Day to Remember & SOBGGAB12C5664F054 & AROBSHL1187B9AFB01 & 3 & 0.853 & -4.262 &  91.525 & 0.953 & 11 & 0.453 & 0.9666556 & 0.024 & 0.002 & 57.342 &   -6.496 & 171.093 &  -81.664 &  95.117 & -285.049 & 259.426 & -40.385 &  73.630 & -104.683 & 183.089 &  -88.771 & 73.549 & -71.127 &  82.475 & -52.025 & 39.116 & -35.368 & 71.642 & -126.440 &  18.658 & -44.770 & 25.989 & 0\\\\\n",
       "\t 2010 & Sticks \\& Bricks                    & A Day to Remember & SOPAQHU1315CD47F31 & AROBSHL1187B9AFB01 & 4 & 1.000 & -4.051 & 140.048 & 0.921 & 10 & 0.469 & 0.9847095 & 0.025 & 0.000 & 57.414 &  -37.351 & 171.130 & -149.589 & 180.334 & -380.143 & 384.166 & -48.662 & 100.414 &  -87.267 &  42.798 &  -86.895 & 75.455 & -65.807 & 106.918 & -61.320 & 35.378 & -81.928 & 74.574 & -103.808 & 121.935 & -38.892 & 22.513 & 0\\\\\n",
       "\t 2010 & All I Want                         & A Day to Remember & SOOIZOU1376E7C6386 & AROBSHL1187B9AFB01 & 4 & 1.000 & -3.571 & 160.512 & 0.489 &  2 & 0.209 & 0.9899004 & 0.026 & 0.003 & 57.422 &  -17.222 & 171.060 &  -72.912 & 157.925 & -203.984 & 251.258 & -66.044 & 152.095 &  -98.673 & 141.365 &  -88.874 & 66.504 & -67.433 &  80.621 & -59.773 & 45.979 & -46.293 & 59.904 & -108.313 &  33.300 & -43.733 & 25.744 & 0\\\\\n",
       "\t 2010 & It's Complicated                   & A Day to Remember & SODRYWD1315CD49DBE & AROBSHL1187B9AFB01 & 4 & 1.000 & -3.815 &  97.525 & 0.794 &  1 & 0.632 & 0.9392072 & 0.013 & 0.000 & 57.765 &  -32.083 & 220.895 & -138.596 & 173.365 &  -73.490 & 373.492 & -55.607 & 119.158 &  -77.515 & 141.178 &  -70.790 & 64.540 & -63.667 &  96.675 & -78.660 & 41.088 & -49.194 & 95.440 & -102.676 &  46.422 & -59.439 & 37.082 & 0\\\\\n",
       "\t 2010 & 2nd Sucks                          & A Day to Remember & SOICMQB1315CD46EE3 & AROBSHL1187B9AFB01 & 4 & 0.788 & -4.707 & 140.053 & 0.286 &  6 & 0.483 & 0.9877376 & 0.063 & 0.000 & 56.872 & -223.922 & 171.130 & -147.153 & 166.008 & -128.082 & 389.419 & -43.908 &  99.332 &  -96.147 &  38.303 & -110.757 & 72.391 & -55.935 & 110.332 & -56.450 & 37.555 & -48.588 & 67.570 &  -52.796 &  22.888 & -50.414 & 32.758 & 0\\\\\n",
       "\t 2010 & Better Off This Way                & A Day to Remember & SOCEYON1315CD4A23E & AROBSHL1187B9AFB01 & 4 & 1.000 & -3.807 & 160.366 & 0.347 &  4 & 0.627 & 0.9799530 & 0.038 & 0.000 & 57.083 &  -40.408 & 174.002 &  -83.829 & 126.879 & -100.119 & 173.607 & -33.789 &  66.904 &  -84.451 &  47.268 &  -71.219 & 71.239 & -79.948 &  91.117 & -54.378 & 53.808 & -33.183 & 54.657 &  -64.478 &  34.522 & -40.922 & 36.453 & 0\\\\\n",
       "\\end{tabular}\n"
      ],
      "text/markdown": [
       "\n",
       "A data.frame: 6 × 39\n",
       "\n",
       "| year &lt;int&gt; | songtitle &lt;fct&gt; | artistname &lt;fct&gt; | songID &lt;fct&gt; | artistID &lt;fct&gt; | timesignature &lt;int&gt; | timesignature_confidence &lt;dbl&gt; | loudness &lt;dbl&gt; | tempo &lt;dbl&gt; | tempo_confidence &lt;dbl&gt; | ⋯ ⋯ | timbre_7_max &lt;dbl&gt; | timbre_8_min &lt;dbl&gt; | timbre_8_max &lt;dbl&gt; | timbre_9_min &lt;dbl&gt; | timbre_9_max &lt;dbl&gt; | timbre_10_min &lt;dbl&gt; | timbre_10_max &lt;dbl&gt; | timbre_11_min &lt;dbl&gt; | timbre_11_max &lt;dbl&gt; | Top10 &lt;int&gt; |\n",
       "|---|---|---|---|---|---|---|---|---|---|---|---|---|---|---|---|---|---|---|---|---|\n",
       "| 2010 | This Is the House That Doubt Built | A Day to Remember | SOBGGAB12C5664F054 | AROBSHL1187B9AFB01 | 3 | 0.853 | -4.262 |  91.525 | 0.953 | ⋯ |  82.475 | -52.025 | 39.116 | -35.368 | 71.642 | -126.440 |  18.658 | -44.770 | 25.989 | 0 |\n",
       "| 2010 | Sticks &amp; Bricks                    | A Day to Remember | SOPAQHU1315CD47F31 | AROBSHL1187B9AFB01 | 4 | 1.000 | -4.051 | 140.048 | 0.921 | ⋯ | 106.918 | -61.320 | 35.378 | -81.928 | 74.574 | -103.808 | 121.935 | -38.892 | 22.513 | 0 |\n",
       "| 2010 | All I Want                         | A Day to Remember | SOOIZOU1376E7C6386 | AROBSHL1187B9AFB01 | 4 | 1.000 | -3.571 | 160.512 | 0.489 | ⋯ |  80.621 | -59.773 | 45.979 | -46.293 | 59.904 | -108.313 |  33.300 | -43.733 | 25.744 | 0 |\n",
       "| 2010 | It's Complicated                   | A Day to Remember | SODRYWD1315CD49DBE | AROBSHL1187B9AFB01 | 4 | 1.000 | -3.815 |  97.525 | 0.794 | ⋯ |  96.675 | -78.660 | 41.088 | -49.194 | 95.440 | -102.676 |  46.422 | -59.439 | 37.082 | 0 |\n",
       "| 2010 | 2nd Sucks                          | A Day to Remember | SOICMQB1315CD46EE3 | AROBSHL1187B9AFB01 | 4 | 0.788 | -4.707 | 140.053 | 0.286 | ⋯ | 110.332 | -56.450 | 37.555 | -48.588 | 67.570 |  -52.796 |  22.888 | -50.414 | 32.758 | 0 |\n",
       "| 2010 | Better Off This Way                | A Day to Remember | SOCEYON1315CD4A23E | AROBSHL1187B9AFB01 | 4 | 1.000 | -3.807 | 160.366 | 0.347 | ⋯ |  91.117 | -54.378 | 53.808 | -33.183 | 54.657 |  -64.478 |  34.522 | -40.922 | 36.453 | 0 |\n",
       "\n"
      ],
      "text/plain": [
       "  year songtitle                          artistname        songID            \n",
       "1 2010 This Is the House That Doubt Built A Day to Remember SOBGGAB12C5664F054\n",
       "2 2010 Sticks & Bricks                    A Day to Remember SOPAQHU1315CD47F31\n",
       "3 2010 All I Want                         A Day to Remember SOOIZOU1376E7C6386\n",
       "4 2010 It's Complicated                   A Day to Remember SODRYWD1315CD49DBE\n",
       "5 2010 2nd Sucks                          A Day to Remember SOICMQB1315CD46EE3\n",
       "6 2010 Better Off This Way                A Day to Remember SOCEYON1315CD4A23E\n",
       "  artistID           timesignature timesignature_confidence loudness tempo  \n",
       "1 AROBSHL1187B9AFB01 3             0.853                    -4.262    91.525\n",
       "2 AROBSHL1187B9AFB01 4             1.000                    -4.051   140.048\n",
       "3 AROBSHL1187B9AFB01 4             1.000                    -3.571   160.512\n",
       "4 AROBSHL1187B9AFB01 4             1.000                    -3.815    97.525\n",
       "5 AROBSHL1187B9AFB01 4             0.788                    -4.707   140.053\n",
       "6 AROBSHL1187B9AFB01 4             1.000                    -3.807   160.366\n",
       "  tempo_confidence ⋯ timbre_7_max timbre_8_min timbre_8_max timbre_9_min\n",
       "1 0.953            ⋯  82.475      -52.025      39.116       -35.368     \n",
       "2 0.921            ⋯ 106.918      -61.320      35.378       -81.928     \n",
       "3 0.489            ⋯  80.621      -59.773      45.979       -46.293     \n",
       "4 0.794            ⋯  96.675      -78.660      41.088       -49.194     \n",
       "5 0.286            ⋯ 110.332      -56.450      37.555       -48.588     \n",
       "6 0.347            ⋯  91.117      -54.378      53.808       -33.183     \n",
       "  timbre_9_max timbre_10_min timbre_10_max timbre_11_min timbre_11_max Top10\n",
       "1 71.642       -126.440       18.658       -44.770       25.989        0    \n",
       "2 74.574       -103.808      121.935       -38.892       22.513        0    \n",
       "3 59.904       -108.313       33.300       -43.733       25.744        0    \n",
       "4 95.440       -102.676       46.422       -59.439       37.082        0    \n",
       "5 67.570        -52.796       22.888       -50.414       32.758        0    \n",
       "6 54.657        -64.478       34.522       -40.922       36.453        0    "
      ]
     },
     "metadata": {},
     "output_type": "display_data"
    }
   ],
   "source": [
    "songs_data = read.csv(\"/dsa/data/all_datasets/songs/songs.csv\")\n",
    "head(songs_data)"
   ]
  },
  {
   "cell_type": "code",
   "execution_count": 4,
   "metadata": {
    "scrolled": true
   },
   "outputs": [
    {
     "name": "stdout",
     "output_type": "stream",
     "text": [
      "'data.frame':\t7574 obs. of  39 variables:\n",
      " $ year                    : int  2010 2010 2010 2010 2010 2010 2010 2010 2010 2010 ...\n",
      " $ songtitle               : Factor w/ 7141 levels \"̈́ l'or_e des bois\",..: 6204 5522 241 3115 48 608 255 4419 2886 6756 ...\n",
      " $ artistname              : Factor w/ 1032 levels \"50 Cent\",\"98 Degrees\",..: 3 3 3 3 3 3 3 3 3 12 ...\n",
      " $ songID                  : Factor w/ 7549 levels \"SOAACNI1315CD4AC42\",..: 595 5439 5252 1716 3431 1020 1831 3964 6904 2473 ...\n",
      " $ artistID                : Factor w/ 1047 levels \"AR00B1I1187FB433EB\",..: 671 671 671 671 671 671 671 671 671 507 ...\n",
      " $ timesignature           : int  3 4 4 4 4 4 4 4 4 4 ...\n",
      " $ timesignature_confidence: num  0.853 1 1 1 0.788 1 0.968 0.861 0.622 0.938 ...\n",
      " $ loudness                : num  -4.26 -4.05 -3.57 -3.81 -4.71 ...\n",
      " $ tempo                   : num  91.5 140 160.5 97.5 140.1 ...\n",
      " $ tempo_confidence        : num  0.953 0.921 0.489 0.794 0.286 0.347 0.273 0.83 0.018 0.929 ...\n",
      " $ key                     : int  11 10 2 1 6 4 10 5 9 11 ...\n",
      " $ key_confidence          : num  0.453 0.469 0.209 0.632 0.483 0.627 0.715 0.423 0.751 0.602 ...\n",
      " $ energy                  : num  0.967 0.985 0.99 0.939 0.988 ...\n",
      " $ pitch                   : num  0.024 0.025 0.026 0.013 0.063 0.038 0.026 0.033 0.027 0.004 ...\n",
      " $ timbre_0_min            : num  0.002 0 0.003 0 0 ...\n",
      " $ timbre_0_max            : num  57.3 57.4 57.4 57.8 56.9 ...\n",
      " $ timbre_1_min            : num  -6.5 -37.4 -17.2 -32.1 -223.9 ...\n",
      " $ timbre_1_max            : num  171 171 171 221 171 ...\n",
      " $ timbre_2_min            : num  -81.7 -149.6 -72.9 -138.6 -147.2 ...\n",
      " $ timbre_2_max            : num  95.1 180.3 157.9 173.4 166 ...\n",
      " $ timbre_3_min            : num  -285 -380.1 -204 -73.5 -128.1 ...\n",
      " $ timbre_3_max            : num  259 384 251 373 389 ...\n",
      " $ timbre_4_min            : num  -40.4 -48.7 -66 -55.6 -43.9 ...\n",
      " $ timbre_4_max            : num  73.6 100.4 152.1 119.2 99.3 ...\n",
      " $ timbre_5_min            : num  -104.7 -87.3 -98.7 -77.5 -96.1 ...\n",
      " $ timbre_5_max            : num  183.1 42.8 141.4 141.2 38.3 ...\n",
      " $ timbre_6_min            : num  -88.8 -86.9 -88.9 -70.8 -110.8 ...\n",
      " $ timbre_6_max            : num  73.5 75.5 66.5 64.5 72.4 ...\n",
      " $ timbre_7_min            : num  -71.1 -65.8 -67.4 -63.7 -55.9 ...\n",
      " $ timbre_7_max            : num  82.5 106.9 80.6 96.7 110.3 ...\n",
      " $ timbre_8_min            : num  -52 -61.3 -59.8 -78.7 -56.5 ...\n",
      " $ timbre_8_max            : num  39.1 35.4 46 41.1 37.6 ...\n",
      " $ timbre_9_min            : num  -35.4 -81.9 -46.3 -49.2 -48.6 ...\n",
      " $ timbre_9_max            : num  71.6 74.6 59.9 95.4 67.6 ...\n",
      " $ timbre_10_min           : num  -126.4 -103.8 -108.3 -102.7 -52.8 ...\n",
      " $ timbre_10_max           : num  18.7 121.9 33.3 46.4 22.9 ...\n",
      " $ timbre_11_min           : num  -44.8 -38.9 -43.7 -59.4 -50.4 ...\n",
      " $ timbre_11_max           : num  26 22.5 25.7 37.1 32.8 ...\n",
      " $ Top10                   : int  0 0 0 0 0 0 0 0 0 1 ...\n"
     ]
    },
    {
     "data": {
      "text/plain": [
       "\n",
       "1990 1991 1992 1993 1994 1995 1996 1997 1998 1999 2000 2001 2002 2003 2004 2005 \n",
       " 328  196  186  324  198  258  178  329  380  357  363  282  518  434  479  392 \n",
       "2006 2007 2008 2009 2010 \n",
       " 479  622  415  483  373 "
      ]
     },
     "metadata": {},
     "output_type": "display_data"
    }
   ],
   "source": [
    "str(songs_data)\n",
    "table(songs_data$year)"
   ]
  },
  {
   "cell_type": "markdown",
   "metadata": {},
   "source": [
    "<span style=\"color:#1d80ba; font-size:14px; font-weight:700\">Activity 1:</span> Split the songs_data dataframe into train and test sets. \n",
    "Use subset function to create songs_traindata and songs_testdata subsets. \n",
    "songs_traindata should contain songs with year less than or equal to (<=) 2009 \n",
    "and songs_testdata should contain songs from year 2010."
   ]
  },
  {
   "cell_type": "code",
   "execution_count": 5,
   "metadata": {},
   "outputs": [],
   "source": [
    "# Your code for Activity 1 goes here\n",
    "\n",
    "#split the data into train and test sets\n",
    "\n",
    "songs_traindata = subset(songs_data, year <= 2009)\n",
    "\n",
    "songs_testdata = subset(songs_data, year >= 2010)\n"
   ]
  },
  {
   "cell_type": "markdown",
   "metadata": {},
   "source": [
    "<span style=\"color:#1d80ba; font-size:14px; font-weight:700\">Activity 2:</span> \n",
    "Remove the following independent variables (\"year\", \"songtitle\", \"artistname\", \"songID\", and \"artistID\") \n",
    "from songs_traindata and songs_testdata. \n",
    "Make sure you are assigning this new data back to songs_traindata dataframe. "
   ]
  },
  {
   "cell_type": "code",
   "execution_count": 6,
   "metadata": {},
   "outputs": [
    {
     "data": {
      "text/html": [
       "<table>\n",
       "<caption>A data.frame: 6 × 34</caption>\n",
       "<thead>\n",
       "\t<tr><th></th><th scope=col>timesignature</th><th scope=col>timesignature_confidence</th><th scope=col>loudness</th><th scope=col>tempo</th><th scope=col>tempo_confidence</th><th scope=col>key</th><th scope=col>key_confidence</th><th scope=col>energy</th><th scope=col>pitch</th><th scope=col>timbre_0_min</th><th scope=col>⋯</th><th scope=col>timbre_7_max</th><th scope=col>timbre_8_min</th><th scope=col>timbre_8_max</th><th scope=col>timbre_9_min</th><th scope=col>timbre_9_max</th><th scope=col>timbre_10_min</th><th scope=col>timbre_10_max</th><th scope=col>timbre_11_min</th><th scope=col>timbre_11_max</th><th scope=col>Top10</th></tr>\n",
       "\t<tr><th></th><th scope=col>&lt;int&gt;</th><th scope=col>&lt;dbl&gt;</th><th scope=col>&lt;dbl&gt;</th><th scope=col>&lt;dbl&gt;</th><th scope=col>&lt;dbl&gt;</th><th scope=col>&lt;int&gt;</th><th scope=col>&lt;dbl&gt;</th><th scope=col>&lt;dbl&gt;</th><th scope=col>&lt;dbl&gt;</th><th scope=col>&lt;dbl&gt;</th><th scope=col>⋯</th><th scope=col>&lt;dbl&gt;</th><th scope=col>&lt;dbl&gt;</th><th scope=col>&lt;dbl&gt;</th><th scope=col>&lt;dbl&gt;</th><th scope=col>&lt;dbl&gt;</th><th scope=col>&lt;dbl&gt;</th><th scope=col>&lt;dbl&gt;</th><th scope=col>&lt;dbl&gt;</th><th scope=col>&lt;dbl&gt;</th><th scope=col>&lt;int&gt;</th></tr>\n",
       "</thead>\n",
       "<tbody>\n",
       "\t<tr><th scope=row>374</th><td>3</td><td>0.732</td><td>-6.320</td><td> 89.614</td><td>0.652</td><td>1</td><td>0.773</td><td>0.5985294</td><td>0.004</td><td>0.000</td><td>⋯</td><td> 70.975</td><td>-71.776</td><td>58.432</td><td>-53.816</td><td>88.571</td><td>-89.816</td><td>38.026</td><td>-52.075</td><td>52.827</td><td>0</td></tr>\n",
       "\t<tr><th scope=row>375</th><td>3</td><td>0.906</td><td>-9.541</td><td>117.742</td><td>0.542</td><td>0</td><td>0.722</td><td>0.3633990</td><td>0.006</td><td>0.739</td><td>⋯</td><td>112.879</td><td>-64.470</td><td>58.086</td><td>-76.937</td><td>74.441</td><td>-88.244</td><td>42.209</td><td>-66.812</td><td>40.749</td><td>0</td></tr>\n",
       "\t<tr><th scope=row>376</th><td>4</td><td>0.987</td><td>-4.842</td><td>119.018</td><td>0.838</td><td>6</td><td>0.106</td><td>0.7601515</td><td>0.003</td><td>0.000</td><td>⋯</td><td> 90.400</td><td>-52.459</td><td>40.679</td><td>-50.408</td><td>58.811</td><td>-78.239</td><td>35.264</td><td>-54.200</td><td>46.490</td><td>0</td></tr>\n",
       "\t<tr><th scope=row>377</th><td>4</td><td>0.822</td><td>-5.272</td><td> 71.479</td><td>0.613</td><td>4</td><td>0.781</td><td>0.7550336</td><td>0.014</td><td>0.000</td><td>⋯</td><td> 93.373</td><td>-55.811</td><td>78.963</td><td>-51.504</td><td>70.455</td><td>-74.928</td><td>30.839</td><td>-51.377</td><td>27.768</td><td>0</td></tr>\n",
       "\t<tr><th scope=row>378</th><td>4</td><td>0.983</td><td>-6.233</td><td> 77.492</td><td>0.740</td><td>8</td><td>0.552</td><td>0.5236583</td><td>0.008</td><td>0.000</td><td>⋯</td><td>100.766</td><td>-61.392</td><td>50.309</td><td>-62.994</td><td>96.837</td><td>-90.397</td><td>60.549</td><td>-52.122</td><td>48.059</td><td>0</td></tr>\n",
       "\t<tr><th scope=row>379</th><td>4</td><td>1.000</td><td>-6.793</td><td> 81.859</td><td>0.821</td><td>9</td><td>0.218</td><td>0.6546091</td><td>0.012</td><td>0.000</td><td>⋯</td><td> 89.443</td><td>-70.718</td><td>50.515</td><td>-54.980</td><td>80.278</td><td>-70.317</td><td>54.084</td><td>-43.651</td><td>43.261</td><td>0</td></tr>\n",
       "</tbody>\n",
       "</table>\n"
      ],
      "text/latex": [
       "A data.frame: 6 × 34\n",
       "\\begin{tabular}{r|llllllllllllllllllllllllllllllllll}\n",
       "  & timesignature & timesignature\\_confidence & loudness & tempo & tempo\\_confidence & key & key\\_confidence & energy & pitch & timbre\\_0\\_min & timbre\\_0\\_max & timbre\\_1\\_min & timbre\\_1\\_max & timbre\\_2\\_min & timbre\\_2\\_max & timbre\\_3\\_min & timbre\\_3\\_max & timbre\\_4\\_min & timbre\\_4\\_max & timbre\\_5\\_min & timbre\\_5\\_max & timbre\\_6\\_min & timbre\\_6\\_max & timbre\\_7\\_min & timbre\\_7\\_max & timbre\\_8\\_min & timbre\\_8\\_max & timbre\\_9\\_min & timbre\\_9\\_max & timbre\\_10\\_min & timbre\\_10\\_max & timbre\\_11\\_min & timbre\\_11\\_max & Top10\\\\\n",
       "  & <int> & <dbl> & <dbl> & <dbl> & <dbl> & <int> & <dbl> & <dbl> & <dbl> & <dbl> & <dbl> & <dbl> & <dbl> & <dbl> & <dbl> & <dbl> & <dbl> & <dbl> & <dbl> & <dbl> & <dbl> & <dbl> & <dbl> & <dbl> & <dbl> & <dbl> & <dbl> & <dbl> & <dbl> & <dbl> & <dbl> & <dbl> & <dbl> & <int>\\\\\n",
       "\\hline\n",
       "\t374 & 3 & 0.732 & -6.320 &  89.614 & 0.652 & 1 & 0.773 & 0.5985294 & 0.004 & 0.000 & 57.831 &  -62.306 & 285.818 &  -81.802 & 211.084 & -217.025 & 203.151 & -55.874 &  97.646 & -62.492 &  82.169 & -82.129 & 59.197 & -109.384 &  70.975 & -71.776 & 58.432 & -53.816 & 88.571 & -89.816 & 38.026 & -52.075 & 52.827 & 0\\\\\n",
       "\t375 & 3 & 0.906 & -9.541 & 117.742 & 0.542 & 0 & 0.722 & 0.3633990 & 0.006 & 0.739 & 57.059 & -220.205 & 241.091 &  -96.833 & 214.510 & -201.889 & 124.200 & -52.389 & 131.859 & -73.875 &  73.628 & -63.496 & 70.133 &  -90.092 & 112.879 & -64.470 & 58.086 & -76.937 & 74.441 & -88.244 & 42.209 & -66.812 & 40.749 & 0\\\\\n",
       "\t376 & 4 & 0.987 & -4.842 & 119.018 & 0.838 & 6 & 0.106 & 0.7601515 & 0.003 & 0.000 & 57.815 & -189.660 & 187.282 & -139.053 & 134.508 & -116.316 &  94.698 & -55.617 &  79.292 & -73.474 &  41.025 & -41.489 & 62.759 &  -69.311 &  90.400 & -52.459 & 40.679 & -50.408 & 58.811 & -78.239 & 35.264 & -54.200 & 46.490 & 0\\\\\n",
       "\t377 & 4 & 0.822 & -5.272 &  71.479 & 0.613 & 4 & 0.781 & 0.7550336 & 0.014 & 0.000 & 58.330 & -113.885 & 171.130 &  -71.640 & 194.788 & -276.297 & 146.268 & -59.374 & 121.707 & -71.135 &  39.607 & -77.786 & 94.525 &  -69.088 &  93.373 & -55.811 & 78.963 & -51.504 & 70.455 & -74.928 & 30.839 & -51.377 & 27.768 & 0\\\\\n",
       "\t378 & 4 & 0.983 & -6.233 &  77.492 & 0.740 & 8 & 0.552 & 0.5236583 & 0.008 & 0.000 & 57.643 & -160.579 & 216.778 &  -79.456 & 114.093 & -183.559 & 108.719 & -31.922 & 169.734 & -73.004 & 233.930 & -76.026 & 58.016 &  -78.803 & 100.766 & -61.392 & 50.309 & -62.994 & 96.837 & -90.397 & 60.549 & -52.122 & 48.059 & 0\\\\\n",
       "\t379 & 4 & 1.000 & -6.793 &  81.859 & 0.821 & 9 & 0.218 & 0.6546091 & 0.012 & 0.000 & 57.389 & -103.691 & 227.209 & -155.016 & 174.758 & -386.464 & 185.756 & -69.700 & 103.106 & -75.267 & 184.309 & -62.755 & 45.283 &  -61.878 &  89.443 & -70.718 & 50.515 & -54.980 & 80.278 & -70.317 & 54.084 & -43.651 & 43.261 & 0\\\\\n",
       "\\end{tabular}\n"
      ],
      "text/markdown": [
       "\n",
       "A data.frame: 6 × 34\n",
       "\n",
       "| <!--/--> | timesignature &lt;int&gt; | timesignature_confidence &lt;dbl&gt; | loudness &lt;dbl&gt; | tempo &lt;dbl&gt; | tempo_confidence &lt;dbl&gt; | key &lt;int&gt; | key_confidence &lt;dbl&gt; | energy &lt;dbl&gt; | pitch &lt;dbl&gt; | timbre_0_min &lt;dbl&gt; | ⋯ ⋯ | timbre_7_max &lt;dbl&gt; | timbre_8_min &lt;dbl&gt; | timbre_8_max &lt;dbl&gt; | timbre_9_min &lt;dbl&gt; | timbre_9_max &lt;dbl&gt; | timbre_10_min &lt;dbl&gt; | timbre_10_max &lt;dbl&gt; | timbre_11_min &lt;dbl&gt; | timbre_11_max &lt;dbl&gt; | Top10 &lt;int&gt; |\n",
       "|---|---|---|---|---|---|---|---|---|---|---|---|---|---|---|---|---|---|---|---|---|---|\n",
       "| 374 | 3 | 0.732 | -6.320 |  89.614 | 0.652 | 1 | 0.773 | 0.5985294 | 0.004 | 0.000 | ⋯ |  70.975 | -71.776 | 58.432 | -53.816 | 88.571 | -89.816 | 38.026 | -52.075 | 52.827 | 0 |\n",
       "| 375 | 3 | 0.906 | -9.541 | 117.742 | 0.542 | 0 | 0.722 | 0.3633990 | 0.006 | 0.739 | ⋯ | 112.879 | -64.470 | 58.086 | -76.937 | 74.441 | -88.244 | 42.209 | -66.812 | 40.749 | 0 |\n",
       "| 376 | 4 | 0.987 | -4.842 | 119.018 | 0.838 | 6 | 0.106 | 0.7601515 | 0.003 | 0.000 | ⋯ |  90.400 | -52.459 | 40.679 | -50.408 | 58.811 | -78.239 | 35.264 | -54.200 | 46.490 | 0 |\n",
       "| 377 | 4 | 0.822 | -5.272 |  71.479 | 0.613 | 4 | 0.781 | 0.7550336 | 0.014 | 0.000 | ⋯ |  93.373 | -55.811 | 78.963 | -51.504 | 70.455 | -74.928 | 30.839 | -51.377 | 27.768 | 0 |\n",
       "| 378 | 4 | 0.983 | -6.233 |  77.492 | 0.740 | 8 | 0.552 | 0.5236583 | 0.008 | 0.000 | ⋯ | 100.766 | -61.392 | 50.309 | -62.994 | 96.837 | -90.397 | 60.549 | -52.122 | 48.059 | 0 |\n",
       "| 379 | 4 | 1.000 | -6.793 |  81.859 | 0.821 | 9 | 0.218 | 0.6546091 | 0.012 | 0.000 | ⋯ |  89.443 | -70.718 | 50.515 | -54.980 | 80.278 | -70.317 | 54.084 | -43.651 | 43.261 | 0 |\n",
       "\n"
      ],
      "text/plain": [
       "    timesignature timesignature_confidence loudness tempo   tempo_confidence\n",
       "374 3             0.732                    -6.320    89.614 0.652           \n",
       "375 3             0.906                    -9.541   117.742 0.542           \n",
       "376 4             0.987                    -4.842   119.018 0.838           \n",
       "377 4             0.822                    -5.272    71.479 0.613           \n",
       "378 4             0.983                    -6.233    77.492 0.740           \n",
       "379 4             1.000                    -6.793    81.859 0.821           \n",
       "    key key_confidence energy    pitch timbre_0_min ⋯ timbre_7_max timbre_8_min\n",
       "374 1   0.773          0.5985294 0.004 0.000        ⋯  70.975      -71.776     \n",
       "375 0   0.722          0.3633990 0.006 0.739        ⋯ 112.879      -64.470     \n",
       "376 6   0.106          0.7601515 0.003 0.000        ⋯  90.400      -52.459     \n",
       "377 4   0.781          0.7550336 0.014 0.000        ⋯  93.373      -55.811     \n",
       "378 8   0.552          0.5236583 0.008 0.000        ⋯ 100.766      -61.392     \n",
       "379 9   0.218          0.6546091 0.012 0.000        ⋯  89.443      -70.718     \n",
       "    timbre_8_max timbre_9_min timbre_9_max timbre_10_min timbre_10_max\n",
       "374 58.432       -53.816      88.571       -89.816       38.026       \n",
       "375 58.086       -76.937      74.441       -88.244       42.209       \n",
       "376 40.679       -50.408      58.811       -78.239       35.264       \n",
       "377 78.963       -51.504      70.455       -74.928       30.839       \n",
       "378 50.309       -62.994      96.837       -90.397       60.549       \n",
       "379 50.515       -54.980      80.278       -70.317       54.084       \n",
       "    timbre_11_min timbre_11_max Top10\n",
       "374 -52.075       52.827        0    \n",
       "375 -66.812       40.749        0    \n",
       "376 -54.200       46.490        0    \n",
       "377 -51.377       27.768        0    \n",
       "378 -52.122       48.059        0    \n",
       "379 -43.651       43.261        0    "
      ]
     },
     "metadata": {},
     "output_type": "display_data"
    },
    {
     "data": {
      "text/html": [
       "<table>\n",
       "<caption>A data.frame: 6 × 34</caption>\n",
       "<thead>\n",
       "\t<tr><th scope=col>timesignature</th><th scope=col>timesignature_confidence</th><th scope=col>loudness</th><th scope=col>tempo</th><th scope=col>tempo_confidence</th><th scope=col>key</th><th scope=col>key_confidence</th><th scope=col>energy</th><th scope=col>pitch</th><th scope=col>timbre_0_min</th><th scope=col>⋯</th><th scope=col>timbre_7_max</th><th scope=col>timbre_8_min</th><th scope=col>timbre_8_max</th><th scope=col>timbre_9_min</th><th scope=col>timbre_9_max</th><th scope=col>timbre_10_min</th><th scope=col>timbre_10_max</th><th scope=col>timbre_11_min</th><th scope=col>timbre_11_max</th><th scope=col>Top10</th></tr>\n",
       "\t<tr><th scope=col>&lt;int&gt;</th><th scope=col>&lt;dbl&gt;</th><th scope=col>&lt;dbl&gt;</th><th scope=col>&lt;dbl&gt;</th><th scope=col>&lt;dbl&gt;</th><th scope=col>&lt;int&gt;</th><th scope=col>&lt;dbl&gt;</th><th scope=col>&lt;dbl&gt;</th><th scope=col>&lt;dbl&gt;</th><th scope=col>&lt;dbl&gt;</th><th scope=col>⋯</th><th scope=col>&lt;dbl&gt;</th><th scope=col>&lt;dbl&gt;</th><th scope=col>&lt;dbl&gt;</th><th scope=col>&lt;dbl&gt;</th><th scope=col>&lt;dbl&gt;</th><th scope=col>&lt;dbl&gt;</th><th scope=col>&lt;dbl&gt;</th><th scope=col>&lt;dbl&gt;</th><th scope=col>&lt;dbl&gt;</th><th scope=col>&lt;int&gt;</th></tr>\n",
       "</thead>\n",
       "<tbody>\n",
       "\t<tr><td>3</td><td>0.853</td><td>-4.262</td><td> 91.525</td><td>0.953</td><td>11</td><td>0.453</td><td>0.9666556</td><td>0.024</td><td>0.002</td><td>⋯</td><td> 82.475</td><td>-52.025</td><td>39.116</td><td>-35.368</td><td>71.642</td><td>-126.440</td><td> 18.658</td><td>-44.770</td><td>25.989</td><td>0</td></tr>\n",
       "\t<tr><td>4</td><td>1.000</td><td>-4.051</td><td>140.048</td><td>0.921</td><td>10</td><td>0.469</td><td>0.9847095</td><td>0.025</td><td>0.000</td><td>⋯</td><td>106.918</td><td>-61.320</td><td>35.378</td><td>-81.928</td><td>74.574</td><td>-103.808</td><td>121.935</td><td>-38.892</td><td>22.513</td><td>0</td></tr>\n",
       "\t<tr><td>4</td><td>1.000</td><td>-3.571</td><td>160.512</td><td>0.489</td><td> 2</td><td>0.209</td><td>0.9899004</td><td>0.026</td><td>0.003</td><td>⋯</td><td> 80.621</td><td>-59.773</td><td>45.979</td><td>-46.293</td><td>59.904</td><td>-108.313</td><td> 33.300</td><td>-43.733</td><td>25.744</td><td>0</td></tr>\n",
       "\t<tr><td>4</td><td>1.000</td><td>-3.815</td><td> 97.525</td><td>0.794</td><td> 1</td><td>0.632</td><td>0.9392072</td><td>0.013</td><td>0.000</td><td>⋯</td><td> 96.675</td><td>-78.660</td><td>41.088</td><td>-49.194</td><td>95.440</td><td>-102.676</td><td> 46.422</td><td>-59.439</td><td>37.082</td><td>0</td></tr>\n",
       "\t<tr><td>4</td><td>0.788</td><td>-4.707</td><td>140.053</td><td>0.286</td><td> 6</td><td>0.483</td><td>0.9877376</td><td>0.063</td><td>0.000</td><td>⋯</td><td>110.332</td><td>-56.450</td><td>37.555</td><td>-48.588</td><td>67.570</td><td> -52.796</td><td> 22.888</td><td>-50.414</td><td>32.758</td><td>0</td></tr>\n",
       "\t<tr><td>4</td><td>1.000</td><td>-3.807</td><td>160.366</td><td>0.347</td><td> 4</td><td>0.627</td><td>0.9799530</td><td>0.038</td><td>0.000</td><td>⋯</td><td> 91.117</td><td>-54.378</td><td>53.808</td><td>-33.183</td><td>54.657</td><td> -64.478</td><td> 34.522</td><td>-40.922</td><td>36.453</td><td>0</td></tr>\n",
       "</tbody>\n",
       "</table>\n"
      ],
      "text/latex": [
       "A data.frame: 6 × 34\n",
       "\\begin{tabular}{r|llllllllllllllllllllllllllllllllll}\n",
       " timesignature & timesignature\\_confidence & loudness & tempo & tempo\\_confidence & key & key\\_confidence & energy & pitch & timbre\\_0\\_min & timbre\\_0\\_max & timbre\\_1\\_min & timbre\\_1\\_max & timbre\\_2\\_min & timbre\\_2\\_max & timbre\\_3\\_min & timbre\\_3\\_max & timbre\\_4\\_min & timbre\\_4\\_max & timbre\\_5\\_min & timbre\\_5\\_max & timbre\\_6\\_min & timbre\\_6\\_max & timbre\\_7\\_min & timbre\\_7\\_max & timbre\\_8\\_min & timbre\\_8\\_max & timbre\\_9\\_min & timbre\\_9\\_max & timbre\\_10\\_min & timbre\\_10\\_max & timbre\\_11\\_min & timbre\\_11\\_max & Top10\\\\\n",
       " <int> & <dbl> & <dbl> & <dbl> & <dbl> & <int> & <dbl> & <dbl> & <dbl> & <dbl> & <dbl> & <dbl> & <dbl> & <dbl> & <dbl> & <dbl> & <dbl> & <dbl> & <dbl> & <dbl> & <dbl> & <dbl> & <dbl> & <dbl> & <dbl> & <dbl> & <dbl> & <dbl> & <dbl> & <dbl> & <dbl> & <dbl> & <dbl> & <int>\\\\\n",
       "\\hline\n",
       "\t 3 & 0.853 & -4.262 &  91.525 & 0.953 & 11 & 0.453 & 0.9666556 & 0.024 & 0.002 & 57.342 &   -6.496 & 171.093 &  -81.664 &  95.117 & -285.049 & 259.426 & -40.385 &  73.630 & -104.683 & 183.089 &  -88.771 & 73.549 & -71.127 &  82.475 & -52.025 & 39.116 & -35.368 & 71.642 & -126.440 &  18.658 & -44.770 & 25.989 & 0\\\\\n",
       "\t 4 & 1.000 & -4.051 & 140.048 & 0.921 & 10 & 0.469 & 0.9847095 & 0.025 & 0.000 & 57.414 &  -37.351 & 171.130 & -149.589 & 180.334 & -380.143 & 384.166 & -48.662 & 100.414 &  -87.267 &  42.798 &  -86.895 & 75.455 & -65.807 & 106.918 & -61.320 & 35.378 & -81.928 & 74.574 & -103.808 & 121.935 & -38.892 & 22.513 & 0\\\\\n",
       "\t 4 & 1.000 & -3.571 & 160.512 & 0.489 &  2 & 0.209 & 0.9899004 & 0.026 & 0.003 & 57.422 &  -17.222 & 171.060 &  -72.912 & 157.925 & -203.984 & 251.258 & -66.044 & 152.095 &  -98.673 & 141.365 &  -88.874 & 66.504 & -67.433 &  80.621 & -59.773 & 45.979 & -46.293 & 59.904 & -108.313 &  33.300 & -43.733 & 25.744 & 0\\\\\n",
       "\t 4 & 1.000 & -3.815 &  97.525 & 0.794 &  1 & 0.632 & 0.9392072 & 0.013 & 0.000 & 57.765 &  -32.083 & 220.895 & -138.596 & 173.365 &  -73.490 & 373.492 & -55.607 & 119.158 &  -77.515 & 141.178 &  -70.790 & 64.540 & -63.667 &  96.675 & -78.660 & 41.088 & -49.194 & 95.440 & -102.676 &  46.422 & -59.439 & 37.082 & 0\\\\\n",
       "\t 4 & 0.788 & -4.707 & 140.053 & 0.286 &  6 & 0.483 & 0.9877376 & 0.063 & 0.000 & 56.872 & -223.922 & 171.130 & -147.153 & 166.008 & -128.082 & 389.419 & -43.908 &  99.332 &  -96.147 &  38.303 & -110.757 & 72.391 & -55.935 & 110.332 & -56.450 & 37.555 & -48.588 & 67.570 &  -52.796 &  22.888 & -50.414 & 32.758 & 0\\\\\n",
       "\t 4 & 1.000 & -3.807 & 160.366 & 0.347 &  4 & 0.627 & 0.9799530 & 0.038 & 0.000 & 57.083 &  -40.408 & 174.002 &  -83.829 & 126.879 & -100.119 & 173.607 & -33.789 &  66.904 &  -84.451 &  47.268 &  -71.219 & 71.239 & -79.948 &  91.117 & -54.378 & 53.808 & -33.183 & 54.657 &  -64.478 &  34.522 & -40.922 & 36.453 & 0\\\\\n",
       "\\end{tabular}\n"
      ],
      "text/markdown": [
       "\n",
       "A data.frame: 6 × 34\n",
       "\n",
       "| timesignature &lt;int&gt; | timesignature_confidence &lt;dbl&gt; | loudness &lt;dbl&gt; | tempo &lt;dbl&gt; | tempo_confidence &lt;dbl&gt; | key &lt;int&gt; | key_confidence &lt;dbl&gt; | energy &lt;dbl&gt; | pitch &lt;dbl&gt; | timbre_0_min &lt;dbl&gt; | ⋯ ⋯ | timbre_7_max &lt;dbl&gt; | timbre_8_min &lt;dbl&gt; | timbre_8_max &lt;dbl&gt; | timbre_9_min &lt;dbl&gt; | timbre_9_max &lt;dbl&gt; | timbre_10_min &lt;dbl&gt; | timbre_10_max &lt;dbl&gt; | timbre_11_min &lt;dbl&gt; | timbre_11_max &lt;dbl&gt; | Top10 &lt;int&gt; |\n",
       "|---|---|---|---|---|---|---|---|---|---|---|---|---|---|---|---|---|---|---|---|---|\n",
       "| 3 | 0.853 | -4.262 |  91.525 | 0.953 | 11 | 0.453 | 0.9666556 | 0.024 | 0.002 | ⋯ |  82.475 | -52.025 | 39.116 | -35.368 | 71.642 | -126.440 |  18.658 | -44.770 | 25.989 | 0 |\n",
       "| 4 | 1.000 | -4.051 | 140.048 | 0.921 | 10 | 0.469 | 0.9847095 | 0.025 | 0.000 | ⋯ | 106.918 | -61.320 | 35.378 | -81.928 | 74.574 | -103.808 | 121.935 | -38.892 | 22.513 | 0 |\n",
       "| 4 | 1.000 | -3.571 | 160.512 | 0.489 |  2 | 0.209 | 0.9899004 | 0.026 | 0.003 | ⋯ |  80.621 | -59.773 | 45.979 | -46.293 | 59.904 | -108.313 |  33.300 | -43.733 | 25.744 | 0 |\n",
       "| 4 | 1.000 | -3.815 |  97.525 | 0.794 |  1 | 0.632 | 0.9392072 | 0.013 | 0.000 | ⋯ |  96.675 | -78.660 | 41.088 | -49.194 | 95.440 | -102.676 |  46.422 | -59.439 | 37.082 | 0 |\n",
       "| 4 | 0.788 | -4.707 | 140.053 | 0.286 |  6 | 0.483 | 0.9877376 | 0.063 | 0.000 | ⋯ | 110.332 | -56.450 | 37.555 | -48.588 | 67.570 |  -52.796 |  22.888 | -50.414 | 32.758 | 0 |\n",
       "| 4 | 1.000 | -3.807 | 160.366 | 0.347 |  4 | 0.627 | 0.9799530 | 0.038 | 0.000 | ⋯ |  91.117 | -54.378 | 53.808 | -33.183 | 54.657 |  -64.478 |  34.522 | -40.922 | 36.453 | 0 |\n",
       "\n"
      ],
      "text/plain": [
       "  timesignature timesignature_confidence loudness tempo   tempo_confidence key\n",
       "1 3             0.853                    -4.262    91.525 0.953            11 \n",
       "2 4             1.000                    -4.051   140.048 0.921            10 \n",
       "3 4             1.000                    -3.571   160.512 0.489             2 \n",
       "4 4             1.000                    -3.815    97.525 0.794             1 \n",
       "5 4             0.788                    -4.707   140.053 0.286             6 \n",
       "6 4             1.000                    -3.807   160.366 0.347             4 \n",
       "  key_confidence energy    pitch timbre_0_min ⋯ timbre_7_max timbre_8_min\n",
       "1 0.453          0.9666556 0.024 0.002        ⋯  82.475      -52.025     \n",
       "2 0.469          0.9847095 0.025 0.000        ⋯ 106.918      -61.320     \n",
       "3 0.209          0.9899004 0.026 0.003        ⋯  80.621      -59.773     \n",
       "4 0.632          0.9392072 0.013 0.000        ⋯  96.675      -78.660     \n",
       "5 0.483          0.9877376 0.063 0.000        ⋯ 110.332      -56.450     \n",
       "6 0.627          0.9799530 0.038 0.000        ⋯  91.117      -54.378     \n",
       "  timbre_8_max timbre_9_min timbre_9_max timbre_10_min timbre_10_max\n",
       "1 39.116       -35.368      71.642       -126.440       18.658      \n",
       "2 35.378       -81.928      74.574       -103.808      121.935      \n",
       "3 45.979       -46.293      59.904       -108.313       33.300      \n",
       "4 41.088       -49.194      95.440       -102.676       46.422      \n",
       "5 37.555       -48.588      67.570        -52.796       22.888      \n",
       "6 53.808       -33.183      54.657        -64.478       34.522      \n",
       "  timbre_11_min timbre_11_max Top10\n",
       "1 -44.770       25.989        0    \n",
       "2 -38.892       22.513        0    \n",
       "3 -43.733       25.744        0    \n",
       "4 -59.439       37.082        0    \n",
       "5 -50.414       32.758        0    \n",
       "6 -40.922       36.453        0    "
      ]
     },
     "metadata": {},
     "output_type": "display_data"
    }
   ],
   "source": [
    "# Your code for Activity 2 goes here\n",
    "\n",
    "songs_traindata = subset(songs_traindata, select = -c(year, songtitle, artistname, songID, artistID))\n",
    "head(songs_traindata)\n",
    "\n",
    "songs_testdata = subset(songs_testdata, select = -c(year, songtitle, artistname, songID, artistID))\n",
    "head(songs_testdata)"
   ]
  },
  {
   "cell_type": "code",
   "execution_count": 7,
   "metadata": {
    "scrolled": true
   },
   "outputs": [
    {
     "data": {
      "image/png": "[encoded data removed]",
      "text/plain": [
       "plot without title"
      ]
     },
     "metadata": {},
     "output_type": "display_data"
    }
   ],
   "source": [
    "# Use ggplot to plot the the variables loudness and energy of songs_traindata with Top10 \n",
    "# supplied to color and shape parameters.\n",
    "\n",
    "library(ggplot2)\n",
    "songs_plot <- ggplot(songs_traindata, aes(loudness, energy)) + geom_point(aes(colour=factor(Top10),shape=factor(Top10))) \n",
    "songs_plot"
   ]
  },
  {
   "cell_type": "markdown",
   "metadata": {},
   "source": [
    "According to above graph, there is not a clear linear boundary to separate the songs that \n",
    "made it to Top10 and those not."
   ]
  },
  {
   "cell_type": "markdown",
   "metadata": {},
   "source": [
    "<span style=\"color:#1d80ba; font-size:14px; font-weight:700\">Activity 3:</span> Fit a logistic regression model to predict Top10 using all the independent variables. \n",
    "_Name this model songsLog1_."
   ]
  },
  {
   "cell_type": "code",
   "execution_count": 8,
   "metadata": {},
   "outputs": [],
   "source": [
    "# Your code for Activity 3 goes here\n",
    "\n",
    "songsLog1 = lm(Top10 ~ timesignature + timesignature_confidence + loudness + tempo + tempo_confidence + key + key_confidence + energy + pitch + timbre_0_min + timbre_0_max + timbre_1_min + timbre_1_max + timbre_2_min +timbre_2_max + timbre_3_min + timbre_3_max + timbre_4_min + timbre_4_max + timbre_5_min + timbre_5_max + timbre_6_min + timbre_6_max + timbre_7_min + timbre_7_max + timbre_8_min + timbre_8_max + timbre_9_min + timbre_9_max + timbre_10_min + timbre_10_max + timbre_11_min + timbre_11_max, data=songs_traindata)\n"
   ]
  },
  {
   "cell_type": "code",
   "execution_count": 9,
   "metadata": {
    "scrolled": true
   },
   "outputs": [
    {
     "data": {
      "text/plain": [
       "\n",
       "Call:\n",
       "lm(formula = Top10 ~ timesignature + timesignature_confidence + \n",
       "    loudness + tempo + tempo_confidence + key + key_confidence + \n",
       "    energy + pitch + timbre_0_min + timbre_0_max + timbre_1_min + \n",
       "    timbre_1_max + timbre_2_min + timbre_2_max + timbre_3_min + \n",
       "    timbre_3_max + timbre_4_min + timbre_4_max + timbre_5_min + \n",
       "    timbre_5_max + timbre_6_min + timbre_6_max + timbre_7_min + \n",
       "    timbre_7_max + timbre_8_min + timbre_8_max + timbre_9_min + \n",
       "    timbre_9_max + timbre_10_min + timbre_10_max + timbre_11_min + \n",
       "    timbre_11_max, data = songs_traindata)\n",
       "\n",
       "Residuals:\n",
       "     Min       1Q   Median       3Q      Max \n",
       "-0.64275 -0.18535 -0.09007  0.02058  1.07907 \n",
       "\n",
       "Coefficients:\n",
       "                           Estimate Std. Error t value Pr(>|t|)    \n",
       "(Intercept)               2.518e+00  1.824e-01  13.811  < 2e-16 ***\n",
       "timesignature             8.728e-03  7.718e-03   1.131 0.258154    \n",
       "timesignature_confidence  5.810e-02  1.778e-02   3.267 0.001091 ** \n",
       "loudness                  3.900e-02  2.909e-03  13.408  < 2e-16 ***\n",
       "tempo                     4.161e-05  1.601e-04   0.260 0.794942    \n",
       "tempo_confidence          3.343e-02  1.379e-02   2.425 0.015321 *  \n",
       "key                       1.700e-03  1.074e-03   1.583 0.113574    \n",
       "key_confidence            2.507e-02  1.425e-02   1.759 0.078562 .  \n",
       "energy                   -2.065e-01  3.063e-02  -6.741 1.70e-11 ***\n",
       "pitch                    -1.557e+00  3.386e-01  -4.599 4.33e-06 ***\n",
       "timbre_0_min              2.401e-03  4.740e-04   5.064 4.20e-07 ***\n",
       "timbre_0_max             -4.462e-02  2.616e-03 -17.053  < 2e-16 ***\n",
       "timbre_1_min              6.526e-04  7.407e-05   8.810  < 2e-16 ***\n",
       "timbre_1_max              1.006e-05  7.823e-05   0.129 0.897631    \n",
       "timbre_2_min             -4.121e-04  1.140e-04  -3.614 0.000303 ***\n",
       "timbre_2_max              2.175e-05  9.645e-05   0.226 0.821556    \n",
       "timbre_3_min              1.047e-04  5.739e-05   1.824 0.068217 .  \n",
       "timbre_3_max             -2.676e-04  5.252e-05  -5.095 3.57e-07 ***\n",
       "timbre_4_min              8.391e-04  2.023e-04   4.148 3.40e-05 ***\n",
       "timbre_4_max              7.920e-04  1.650e-04   4.801 1.61e-06 ***\n",
       "timbre_5_min             -5.559e-04  1.344e-04  -4.138 3.55e-05 ***\n",
       "timbre_5_max             -3.784e-05  7.746e-05  -0.488 0.625246    \n",
       "timbre_6_min             -1.805e-03  2.399e-04  -7.524 5.95e-14 ***\n",
       "timbre_6_max              6.559e-04  2.333e-04   2.812 0.004939 ** \n",
       "timbre_7_min             -3.761e-04  1.894e-04  -1.986 0.047083 *  \n",
       "timbre_7_max             -2.656e-04  1.752e-04  -1.516 0.129611    \n",
       "timbre_8_min              5.176e-04  3.000e-04   1.725 0.084498 .  \n",
       "timbre_8_max              4.319e-04  3.174e-04   1.361 0.173605    \n",
       "timbre_9_min              2.807e-04  3.098e-04   0.906 0.365031    \n",
       "timbre_9_max              1.784e-04  2.466e-04   0.724 0.469325    \n",
       "timbre_10_min             2.846e-04  1.606e-04   1.773 0.076354 .  \n",
       "timbre_10_max             5.870e-04  1.808e-04   3.247 0.001172 ** \n",
       "timbre_11_min            -2.773e-03  3.798e-04  -7.300 3.19e-13 ***\n",
       "timbre_11_max             1.909e-03  3.539e-04   5.393 7.15e-08 ***\n",
       "---\n",
       "Signif. codes:  0 ‘***’ 0.001 ‘**’ 0.01 ‘*’ 0.05 ‘.’ 0.1 ‘ ’ 1\n",
       "\n",
       "Residual standard error: 0.3245 on 7167 degrees of freedom\n",
       "Multiple R-squared:  0.1652,\tAdjusted R-squared:  0.1613 \n",
       "F-statistic: 42.97 on 33 and 7167 DF,  p-value: < 2.2e-16\n"
      ]
     },
     "metadata": {},
     "output_type": "display_data"
    }
   ],
   "source": [
    "summary(songsLog1)"
   ]
  },
  {
   "cell_type": "markdown",
   "metadata": {},
   "source": [
    "<span style=\"color:#1d80ba; font-size:14px; font-weight:700\">Activity 4:</span> Make predictions on the test set using songsLog1 model."
   ]
  },
  {
   "cell_type": "code",
   "execution_count": 10,
   "metadata": {},
   "outputs": [],
   "source": [
    "# Your code for Activity 4 goes here\n",
    "\n",
    "# The predict() function can be used to predict the probability that a song from the songs_testdata dataframe\n",
    "# will be in the Top 10, given values of the predictors. For a default binomial model (i.e., logistic regression\n",
    "# model), the default predictions are of log-odds (probabilities on logit scale) and type = \"response\" gives the \n",
    "# predicted probabilities. In other words, the type = \"response\" option tells R to output probabilities of the \n",
    "# form P(Y = 1|X).\n",
    "\n",
    "probs <- predict(songsLog1, type = \"response\")\n"
   ]
  },
  {
   "cell_type": "markdown",
   "metadata": {},
   "source": [
    "<span style=\"color:#1d80ba; font-size:14px; font-weight:700\">Activity 5:</span>\n",
    "What is the accuracy of model 'songsLog1' on the test set, \n",
    "using a threshold of 0.5? (Compute the accuracy as a number between 0 and 1.)\n",
    "\n",
    "**Hint:** Use a 2-way table command between the actual output in test data and the \n",
    "predictions you made in activity 4 with a threshold > 0.5"
   ]
  },
  {
   "cell_type": "code",
   "execution_count": 11,
   "metadata": {},
   "outputs": [
    {
     "data": {
      "text/plain": [
       "    \n",
       "pred    0    1\n",
       "   0 6113  976\n",
       "   1   28   84"
      ]
     },
     "metadata": {},
     "output_type": "display_data"
    }
   ],
   "source": [
    "# Your code for Activity 5 goes here\n",
    "\n",
    "pred = rep(0,length(probs))\n",
    "\n",
    "pred[probs>0.5] <- 1\n",
    "\n",
    "conftable <- table(pred, songs_traindata$Top10)\n",
    "conftable\n"
   ]
  },
  {
   "cell_type": "code",
   "execution_count": 12,
   "metadata": {},
   "outputs": [
    {
     "name": "stdout",
     "output_type": "stream",
     "text": [
      "[1] \"accuracy =  0.860574920149979\"\n"
     ]
    }
   ],
   "source": [
    "# Calculate the accuracy of the model here. R can do the math for you.\n",
    "\n",
    "# Accuracy = (TP + TN) / number of observations in the dataset.\n",
    "\n",
    "print (paste(\"accuracy = \",sum(diag(conftable))/length(pred)))\n"
   ]
  },
  {
   "cell_type": "markdown",
   "metadata": {},
   "source": [
    "<span style=\"color:#1d80ba; font-size:14px; font-weight:700\">Activity 6:</span>:  Calculate baseline model accuracy."
   ]
  },
  {
   "cell_type": "code",
   "execution_count": 13,
   "metadata": {},
   "outputs": [
    {
     "data": {
      "text/html": [
       "0.860574920149979"
      ],
      "text/latex": [
       "0.860574920149979"
      ],
      "text/markdown": [
       "0.860574920149979"
      ],
      "text/plain": [
       "[1] 0.8605749"
      ]
     },
     "metadata": {},
     "output_type": "display_data"
    }
   ],
   "source": [
    "# Your answer for Activity 6 goes here. Just do the math needed to calculate accuracy.\n",
    "\n",
    "\n",
    "(6113 + 84)/7201\n",
    "\n",
    "# 0.860574920149979"
   ]
  },
  {
   "cell_type": "markdown",
   "metadata": {},
   "source": [
    "### LDA and SVM\n",
    "\n",
    "Apply LDA and SVM algorithms on **glass** dataset. \n",
    "The dependent variable in the dataset, `Type`, has 6 different classes. \n",
    "\n",
    "Load the glass dataset from `/dsa/data/all_datasets/glass/glass.txt`. \n",
    "Apply LDA on the dataset to determine the type of glass."
   ]
  },
  {
   "cell_type": "code",
   "execution_count": 1,
   "metadata": {},
   "outputs": [
    {
     "data": {
      "text/html": [
       "<table>\n",
       "<caption>A data.frame: 6 × 11</caption>\n",
       "<thead>\n",
       "\t<tr><th scope=col>V1</th><th scope=col>V2</th><th scope=col>V3</th><th scope=col>V4</th><th scope=col>V5</th><th scope=col>V6</th><th scope=col>V7</th><th scope=col>V8</th><th scope=col>V9</th><th scope=col>V10</th><th scope=col>V11</th></tr>\n",
       "\t<tr><th scope=col>&lt;int&gt;</th><th scope=col>&lt;dbl&gt;</th><th scope=col>&lt;dbl&gt;</th><th scope=col>&lt;dbl&gt;</th><th scope=col>&lt;dbl&gt;</th><th scope=col>&lt;dbl&gt;</th><th scope=col>&lt;dbl&gt;</th><th scope=col>&lt;dbl&gt;</th><th scope=col>&lt;dbl&gt;</th><th scope=col>&lt;dbl&gt;</th><th scope=col>&lt;int&gt;</th></tr>\n",
       "</thead>\n",
       "<tbody>\n",
       "\t<tr><td>1</td><td>1.52101</td><td>13.64</td><td>4.49</td><td>1.10</td><td>71.78</td><td>0.06</td><td>8.75</td><td>0</td><td>0.00</td><td>1</td></tr>\n",
       "\t<tr><td>2</td><td>1.51761</td><td>13.89</td><td>3.60</td><td>1.36</td><td>72.73</td><td>0.48</td><td>7.83</td><td>0</td><td>0.00</td><td>1</td></tr>\n",
       "\t<tr><td>3</td><td>1.51618</td><td>13.53</td><td>3.55</td><td>1.54</td><td>72.99</td><td>0.39</td><td>7.78</td><td>0</td><td>0.00</td><td>1</td></tr>\n",
       "\t<tr><td>4</td><td>1.51766</td><td>13.21</td><td>3.69</td><td>1.29</td><td>72.61</td><td>0.57</td><td>8.22</td><td>0</td><td>0.00</td><td>1</td></tr>\n",
       "\t<tr><td>5</td><td>1.51742</td><td>13.27</td><td>3.62</td><td>1.24</td><td>73.08</td><td>0.55</td><td>8.07</td><td>0</td><td>0.00</td><td>1</td></tr>\n",
       "\t<tr><td>6</td><td>1.51596</td><td>12.79</td><td>3.61</td><td>1.62</td><td>72.97</td><td>0.64</td><td>8.07</td><td>0</td><td>0.26</td><td>1</td></tr>\n",
       "</tbody>\n",
       "</table>\n"
      ],
      "text/latex": [
       "A data.frame: 6 × 11\n",
       "\\begin{tabular}{r|lllllllllll}\n",
       " V1 & V2 & V3 & V4 & V5 & V6 & V7 & V8 & V9 & V10 & V11\\\\\n",
       " <int> & <dbl> & <dbl> & <dbl> & <dbl> & <dbl> & <dbl> & <dbl> & <dbl> & <dbl> & <int>\\\\\n",
       "\\hline\n",
       "\t 1 & 1.52101 & 13.64 & 4.49 & 1.10 & 71.78 & 0.06 & 8.75 & 0 & 0.00 & 1\\\\\n",
       "\t 2 & 1.51761 & 13.89 & 3.60 & 1.36 & 72.73 & 0.48 & 7.83 & 0 & 0.00 & 1\\\\\n",
       "\t 3 & 1.51618 & 13.53 & 3.55 & 1.54 & 72.99 & 0.39 & 7.78 & 0 & 0.00 & 1\\\\\n",
       "\t 4 & 1.51766 & 13.21 & 3.69 & 1.29 & 72.61 & 0.57 & 8.22 & 0 & 0.00 & 1\\\\\n",
       "\t 5 & 1.51742 & 13.27 & 3.62 & 1.24 & 73.08 & 0.55 & 8.07 & 0 & 0.00 & 1\\\\\n",
       "\t 6 & 1.51596 & 12.79 & 3.61 & 1.62 & 72.97 & 0.64 & 8.07 & 0 & 0.26 & 1\\\\\n",
       "\\end{tabular}\n"
      ],
      "text/markdown": [
       "\n",
       "A data.frame: 6 × 11\n",
       "\n",
       "| V1 &lt;int&gt; | V2 &lt;dbl&gt; | V3 &lt;dbl&gt; | V4 &lt;dbl&gt; | V5 &lt;dbl&gt; | V6 &lt;dbl&gt; | V7 &lt;dbl&gt; | V8 &lt;dbl&gt; | V9 &lt;dbl&gt; | V10 &lt;dbl&gt; | V11 &lt;int&gt; |\n",
       "|---|---|---|---|---|---|---|---|---|---|---|\n",
       "| 1 | 1.52101 | 13.64 | 4.49 | 1.10 | 71.78 | 0.06 | 8.75 | 0 | 0.00 | 1 |\n",
       "| 2 | 1.51761 | 13.89 | 3.60 | 1.36 | 72.73 | 0.48 | 7.83 | 0 | 0.00 | 1 |\n",
       "| 3 | 1.51618 | 13.53 | 3.55 | 1.54 | 72.99 | 0.39 | 7.78 | 0 | 0.00 | 1 |\n",
       "| 4 | 1.51766 | 13.21 | 3.69 | 1.29 | 72.61 | 0.57 | 8.22 | 0 | 0.00 | 1 |\n",
       "| 5 | 1.51742 | 13.27 | 3.62 | 1.24 | 73.08 | 0.55 | 8.07 | 0 | 0.00 | 1 |\n",
       "| 6 | 1.51596 | 12.79 | 3.61 | 1.62 | 72.97 | 0.64 | 8.07 | 0 | 0.26 | 1 |\n",
       "\n"
      ],
      "text/plain": [
       "  V1 V2      V3    V4   V5   V6    V7   V8   V9 V10  V11\n",
       "1 1  1.52101 13.64 4.49 1.10 71.78 0.06 8.75 0  0.00 1  \n",
       "2 2  1.51761 13.89 3.60 1.36 72.73 0.48 7.83 0  0.00 1  \n",
       "3 3  1.51618 13.53 3.55 1.54 72.99 0.39 7.78 0  0.00 1  \n",
       "4 4  1.51766 13.21 3.69 1.29 72.61 0.57 8.22 0  0.00 1  \n",
       "5 5  1.51742 13.27 3.62 1.24 73.08 0.55 8.07 0  0.00 1  \n",
       "6 6  1.51596 12.79 3.61 1.62 72.97 0.64 8.07 0  0.26 1  "
      ]
     },
     "metadata": {},
     "output_type": "display_data"
    }
   ],
   "source": [
    "glass_data = read.csv(\"/dsa/data/all_datasets/glass/glass.txt\",header=FALSE,sep=',')\n",
    "head(glass_data)"
   ]
  },
  {
   "cell_type": "code",
   "execution_count": 2,
   "metadata": {},
   "outputs": [],
   "source": [
    "# The data file doesn't have headers. So read the column names into a vector and add column names to the glass dataset.\n",
    "header = c(\"Id\", \"Refractive_Index\",\"Sodium\",\"Magnesium\",\"Aluminium\",\"Silicon\",\"Potassium\",\"Calcium\",\"Barium\",\"Iron\",\"Type\")\n",
    "names(glass_data)=header"
   ]
  },
  {
   "cell_type": "code",
   "execution_count": 3,
   "metadata": {},
   "outputs": [
    {
     "data": {
      "text/html": [
       "<table>\n",
       "<caption>A data.frame: 6 × 11</caption>\n",
       "<thead>\n",
       "\t<tr><th scope=col>Id</th><th scope=col>Refractive_Index</th><th scope=col>Sodium</th><th scope=col>Magnesium</th><th scope=col>Aluminium</th><th scope=col>Silicon</th><th scope=col>Potassium</th><th scope=col>Calcium</th><th scope=col>Barium</th><th scope=col>Iron</th><th scope=col>Type</th></tr>\n",
       "\t<tr><th scope=col>&lt;int&gt;</th><th scope=col>&lt;dbl&gt;</th><th scope=col>&lt;dbl&gt;</th><th scope=col>&lt;dbl&gt;</th><th scope=col>&lt;dbl&gt;</th><th scope=col>&lt;dbl&gt;</th><th scope=col>&lt;dbl&gt;</th><th scope=col>&lt;dbl&gt;</th><th scope=col>&lt;dbl&gt;</th><th scope=col>&lt;dbl&gt;</th><th scope=col>&lt;int&gt;</th></tr>\n",
       "</thead>\n",
       "<tbody>\n",
       "\t<tr><td>1</td><td>1.52101</td><td>13.64</td><td>4.49</td><td>1.10</td><td>71.78</td><td>0.06</td><td>8.75</td><td>0</td><td>0.00</td><td>1</td></tr>\n",
       "\t<tr><td>2</td><td>1.51761</td><td>13.89</td><td>3.60</td><td>1.36</td><td>72.73</td><td>0.48</td><td>7.83</td><td>0</td><td>0.00</td><td>1</td></tr>\n",
       "\t<tr><td>3</td><td>1.51618</td><td>13.53</td><td>3.55</td><td>1.54</td><td>72.99</td><td>0.39</td><td>7.78</td><td>0</td><td>0.00</td><td>1</td></tr>\n",
       "\t<tr><td>4</td><td>1.51766</td><td>13.21</td><td>3.69</td><td>1.29</td><td>72.61</td><td>0.57</td><td>8.22</td><td>0</td><td>0.00</td><td>1</td></tr>\n",
       "\t<tr><td>5</td><td>1.51742</td><td>13.27</td><td>3.62</td><td>1.24</td><td>73.08</td><td>0.55</td><td>8.07</td><td>0</td><td>0.00</td><td>1</td></tr>\n",
       "\t<tr><td>6</td><td>1.51596</td><td>12.79</td><td>3.61</td><td>1.62</td><td>72.97</td><td>0.64</td><td>8.07</td><td>0</td><td>0.26</td><td>1</td></tr>\n",
       "</tbody>\n",
       "</table>\n"
      ],
      "text/latex": [
       "A data.frame: 6 × 11\n",
       "\\begin{tabular}{r|lllllllllll}\n",
       " Id & Refractive\\_Index & Sodium & Magnesium & Aluminium & Silicon & Potassium & Calcium & Barium & Iron & Type\\\\\n",
       " <int> & <dbl> & <dbl> & <dbl> & <dbl> & <dbl> & <dbl> & <dbl> & <dbl> & <dbl> & <int>\\\\\n",
       "\\hline\n",
       "\t 1 & 1.52101 & 13.64 & 4.49 & 1.10 & 71.78 & 0.06 & 8.75 & 0 & 0.00 & 1\\\\\n",
       "\t 2 & 1.51761 & 13.89 & 3.60 & 1.36 & 72.73 & 0.48 & 7.83 & 0 & 0.00 & 1\\\\\n",
       "\t 3 & 1.51618 & 13.53 & 3.55 & 1.54 & 72.99 & 0.39 & 7.78 & 0 & 0.00 & 1\\\\\n",
       "\t 4 & 1.51766 & 13.21 & 3.69 & 1.29 & 72.61 & 0.57 & 8.22 & 0 & 0.00 & 1\\\\\n",
       "\t 5 & 1.51742 & 13.27 & 3.62 & 1.24 & 73.08 & 0.55 & 8.07 & 0 & 0.00 & 1\\\\\n",
       "\t 6 & 1.51596 & 12.79 & 3.61 & 1.62 & 72.97 & 0.64 & 8.07 & 0 & 0.26 & 1\\\\\n",
       "\\end{tabular}\n"
      ],
      "text/markdown": [
       "\n",
       "A data.frame: 6 × 11\n",
       "\n",
       "| Id &lt;int&gt; | Refractive_Index &lt;dbl&gt; | Sodium &lt;dbl&gt; | Magnesium &lt;dbl&gt; | Aluminium &lt;dbl&gt; | Silicon &lt;dbl&gt; | Potassium &lt;dbl&gt; | Calcium &lt;dbl&gt; | Barium &lt;dbl&gt; | Iron &lt;dbl&gt; | Type &lt;int&gt; |\n",
       "|---|---|---|---|---|---|---|---|---|---|---|\n",
       "| 1 | 1.52101 | 13.64 | 4.49 | 1.10 | 71.78 | 0.06 | 8.75 | 0 | 0.00 | 1 |\n",
       "| 2 | 1.51761 | 13.89 | 3.60 | 1.36 | 72.73 | 0.48 | 7.83 | 0 | 0.00 | 1 |\n",
       "| 3 | 1.51618 | 13.53 | 3.55 | 1.54 | 72.99 | 0.39 | 7.78 | 0 | 0.00 | 1 |\n",
       "| 4 | 1.51766 | 13.21 | 3.69 | 1.29 | 72.61 | 0.57 | 8.22 | 0 | 0.00 | 1 |\n",
       "| 5 | 1.51742 | 13.27 | 3.62 | 1.24 | 73.08 | 0.55 | 8.07 | 0 | 0.00 | 1 |\n",
       "| 6 | 1.51596 | 12.79 | 3.61 | 1.62 | 72.97 | 0.64 | 8.07 | 0 | 0.26 | 1 |\n",
       "\n"
      ],
      "text/plain": [
       "  Id Refractive_Index Sodium Magnesium Aluminium Silicon Potassium Calcium\n",
       "1 1  1.52101          13.64  4.49      1.10      71.78   0.06      8.75   \n",
       "2 2  1.51761          13.89  3.60      1.36      72.73   0.48      7.83   \n",
       "3 3  1.51618          13.53  3.55      1.54      72.99   0.39      7.78   \n",
       "4 4  1.51766          13.21  3.69      1.29      72.61   0.57      8.22   \n",
       "5 5  1.51742          13.27  3.62      1.24      73.08   0.55      8.07   \n",
       "6 6  1.51596          12.79  3.61      1.62      72.97   0.64      8.07   \n",
       "  Barium Iron Type\n",
       "1 0      0.00 1   \n",
       "2 0      0.00 1   \n",
       "3 0      0.00 1   \n",
       "4 0      0.00 1   \n",
       "5 0      0.00 1   \n",
       "6 0      0.26 1   "
      ]
     },
     "metadata": {},
     "output_type": "display_data"
    }
   ],
   "source": [
    "head(glass_data)"
   ]
  },
  {
   "cell_type": "code",
   "execution_count": 4,
   "metadata": {},
   "outputs": [
    {
     "name": "stdout",
     "output_type": "stream",
     "text": [
      "'data.frame':\t214 obs. of  11 variables:\n",
      " $ Id              : int  1 2 3 4 5 6 7 8 9 10 ...\n",
      " $ Refractive_Index: num  1.52 1.52 1.52 1.52 1.52 ...\n",
      " $ Sodium          : num  13.6 13.9 13.5 13.2 13.3 ...\n",
      " $ Magnesium       : num  4.49 3.6 3.55 3.69 3.62 3.61 3.6 3.61 3.58 3.6 ...\n",
      " $ Aluminium       : num  1.1 1.36 1.54 1.29 1.24 1.62 1.14 1.05 1.37 1.36 ...\n",
      " $ Silicon         : num  71.8 72.7 73 72.6 73.1 ...\n",
      " $ Potassium       : num  0.06 0.48 0.39 0.57 0.55 0.64 0.58 0.57 0.56 0.57 ...\n",
      " $ Calcium         : num  8.75 7.83 7.78 8.22 8.07 8.07 8.17 8.24 8.3 8.4 ...\n",
      " $ Barium          : num  0 0 0 0 0 0 0 0 0 0 ...\n",
      " $ Iron            : num  0 0 0 0 0 0.26 0 0 0 0.11 ...\n",
      " $ Type            : Factor w/ 6 levels \"1\",\"2\",\"3\",\"5\",..: 1 1 1 1 1 1 1 1 1 1 ...\n"
     ]
    }
   ],
   "source": [
    "# Convert Type variable to factor type. \n",
    "glass_data$Type=as.factor(glass_data$Type)\n",
    "str(glass_data)"
   ]
  },
  {
   "cell_type": "markdown",
   "metadata": {},
   "source": [
    "<span style=\"color:#1d80ba; font-size:14px; font-weight:700\">Activity 7:</span> Use ggplot to plot the variables `Refractive_Index` and `Sodium` of glass_data with `Type` variable supplied to color and shape parameters."
   ]
  },
  {
   "cell_type": "code",
   "execution_count": 5,
   "metadata": {
    "scrolled": true
   },
   "outputs": [
    {
     "data": {
      "image/png": "[encoded data removed]",
      "text/plain": [
       "plot without title"
      ]
     },
     "metadata": {},
     "output_type": "display_data"
    }
   ],
   "source": [
    "# Your code for Activity 7 goes here.\n",
    "\n",
    "library(ggplot2)\n",
    "plot1 <- ggplot(glass_data, aes(Refractive_Index, Sodium)) + geom_point(aes(colour = factor(Type),shape = factor(Type))) + \n",
    "    theme(legend.position = \"none\")\n",
    "plot1\n"
   ]
  },
  {
   "cell_type": "markdown",
   "metadata": {},
   "source": [
    "<span style=\"color:#1d80ba; font-size:14px; font-weight:700\">Activity 8:</span> Split the glass_data into train and test subsets. \n",
    "`glass_train_data` should have 70% data and glass_test_data should have rest 30% of data. \n",
    "Set seed as 123."
   ]
  },
  {
   "cell_type": "code",
   "execution_count": 6,
   "metadata": {},
   "outputs": [],
   "source": [
    "# Your code for Activity 8 goes here.\n",
    "\n",
    "library(devtools)\n",
    "packageurl <- \"https://cran.r-project.org/src/contrib/Archive/caTools/caTools_1.16.tar.gz\"\n",
    "install.packages(packageurl, repos=NULL, type=\"source\")\n",
    "library(caTools)\n",
    "set.seed(123) # set.seed() will help us to reproduce the results.\n",
    "split = sample.split(glass_data, SplitRatio=0.7)\n",
    "\n",
    "# Train data will have the rest 70% of data\n",
    "glass_train_data = subset(glass_data, split==TRUE)\n",
    "\n",
    "# Test data will have the rest 30% of data\n",
    "glass_test_data  = subset(glass_data, split==FALSE)"
   ]
  },
  {
   "cell_type": "markdown",
   "metadata": {},
   "source": [
    "<span style=\"color:#1d80ba; font-size:14px; font-weight:700\">Activity 9:</span> Fit a Linear Discriminant Analysis model on glass_train_data using all independent variables except Id to predict Type variable. Name this model glass_lda_fit."
   ]
  },
  {
   "cell_type": "code",
   "execution_count": 30,
   "metadata": {
    "scrolled": true
   },
   "outputs": [
    {
     "data": {
      "text/plain": [
       "Call:\n",
       "lda(Type ~ Refractive_Index + Sodium + Magnesium + Aluminium + \n",
       "    Silicon + Potassium + Calcium + Barium + Iron, data = glass_train_data)\n",
       "\n",
       "Prior probabilities of groups:\n",
       "         1          2          3          5          6          7 \n",
       "0.33088235 0.36029412 0.07352941 0.05882353 0.04411765 0.13235294 \n",
       "\n",
       "Group means:\n",
       "  Refractive_Index   Sodium Magnesium Aluminium  Silicon Potassium   Calcium\n",
       "1         1.518510 13.20578 3.5400000  1.187333 72.64644 0.4542222  8.778222\n",
       "2         1.518618 13.04796 2.9642857  1.386122 72.64184 0.5238776  9.186122\n",
       "3         1.518053 13.36900 3.5490000  1.214000 72.37900 0.4200000  8.835000\n",
       "5         1.519489 12.74125 0.9850000  2.057500 72.13375 1.3412500 10.228750\n",
       "6         1.517650 14.79500 1.3033333  1.423333 73.02667 0.0000000  9.346667\n",
       "7         1.517374 14.54333 0.5872222  2.148889 72.78333 0.2927778  8.504444\n",
       "       Barium       Iron\n",
       "1 0.015333333 0.06622222\n",
       "2 0.006938776 0.08142857\n",
       "3 0.000000000 0.05600000\n",
       "5 0.305000000 0.06375000\n",
       "6 0.000000000 0.00000000\n",
       "7 1.056111111 0.01277778\n",
       "\n",
       "Coefficients of linear discriminants:\n",
       "                         LD1          LD2        LD3        LD4         LD5\n",
       "Refractive_Index 256.3897883 -18.99847412 243.701820 276.196522 733.7646541\n",
       "Sodium             1.8203314  -1.69501959   1.191137   7.610595  -2.3722544\n",
       "Magnesium          0.4167537  -1.00452683   2.321678   7.383425  -2.6233111\n",
       "Aluminium          2.9886645  -0.13497858   2.075423   7.187018  -0.8296550\n",
       "Silicon            1.7176502  -1.25786080   2.196110   8.218773  -0.6894303\n",
       "Potassium          0.9768758   0.12897696   1.637124   8.832611  -2.4739850\n",
       "Calcium            0.7126401  -0.60920362   1.430834   7.171497  -3.4714873\n",
       "Barium             2.1249161  -0.47817591   3.969384   6.724228  -3.9033370\n",
       "Iron              -0.2898363   0.09722865   1.551575   1.829340   1.9528349\n",
       "\n",
       "Proportion of trace:\n",
       "   LD1    LD2    LD3    LD4    LD5 \n",
       "0.8002 0.1205 0.0510 0.0165 0.0120 "
      ]
     },
     "metadata": {},
     "output_type": "display_data"
    }
   ],
   "source": [
    "# Your code for Activity 9 goes here.\n",
    "\n",
    "library(MASS)\n",
    "\n",
    "glass_lda_fit <- lda(Type ~ Refractive_Index + Sodium + Magnesium + Aluminium + Silicon + Potassium + Calcium + Barium + Iron, data=glass_train_data)\n",
    "glass_lda_fit\n"
   ]
  },
  {
   "cell_type": "code",
   "execution_count": 8,
   "metadata": {},
   "outputs": [
    {
     "data": {
      "text/html": [
       "<dl class=dl-horizontal>\n",
       "\t<dt>1</dt>\n",
       "\t\t<dd>45</dd>\n",
       "\t<dt>2</dt>\n",
       "\t\t<dd>49</dd>\n",
       "\t<dt>3</dt>\n",
       "\t\t<dd>10</dd>\n",
       "\t<dt>5</dt>\n",
       "\t\t<dd>8</dd>\n",
       "\t<dt>6</dt>\n",
       "\t\t<dd>6</dd>\n",
       "\t<dt>7</dt>\n",
       "\t\t<dd>18</dd>\n",
       "</dl>\n"
      ],
      "text/latex": [
       "\\begin{description*}\n",
       "\\item[1] 45\n",
       "\\item[2] 49\n",
       "\\item[3] 10\n",
       "\\item[5] 8\n",
       "\\item[6] 6\n",
       "\\item[7] 18\n",
       "\\end{description*}\n"
      ],
      "text/markdown": [
       "1\n",
       ":   452\n",
       ":   493\n",
       ":   105\n",
       ":   86\n",
       ":   67\n",
       ":   18\n",
       "\n"
      ],
      "text/plain": [
       " 1  2  3  5  6  7 \n",
       "45 49 10  8  6 18 "
      ]
     },
     "metadata": {},
     "output_type": "display_data"
    }
   ],
   "source": [
    "# <lda_model>$count will give the counts for each class in the data\n",
    "glass_lda_fit$count"
   ]
  },
  {
   "cell_type": "code",
   "execution_count": 9,
   "metadata": {},
   "outputs": [
    {
     "data": {
      "text/html": [
       "<ol class=list-inline>\n",
       "\t<li>10.4602069632374</li>\n",
       "\t<li>4.05849655984642</li>\n",
       "\t<li>2.63989465889262</li>\n",
       "\t<li>1.4998316240624</li>\n",
       "\t<li>1.27875915727111</li>\n",
       "</ol>\n"
      ],
      "text/latex": [
       "\\begin{enumerate*}\n",
       "\\item 10.4602069632374\n",
       "\\item 4.05849655984642\n",
       "\\item 2.63989465889262\n",
       "\\item 1.4998316240624\n",
       "\\item 1.27875915727111\n",
       "\\end{enumerate*}\n"
      ],
      "text/markdown": [
       "1. 10.4602069632374\n",
       "2. 4.05849655984642\n",
       "3. 2.63989465889262\n",
       "4. 1.4998316240624\n",
       "5. 1.27875915727111\n",
       "\n",
       "\n"
      ],
      "text/plain": [
       "[1] 10.460207  4.058497  2.639895  1.499832  1.278759"
      ]
     },
     "metadata": {},
     "output_type": "display_data"
    }
   ],
   "source": [
    "# the singular values (svd) gives the ratio of the between and within-group standard deviations of the linear \n",
    "# discriminant variables.\n",
    "glass_lda_fit$svd"
   ]
  },
  {
   "cell_type": "code",
   "execution_count": 10,
   "metadata": {},
   "outputs": [
    {
     "data": {
      "text/html": [
       "<ol class=list-inline>\n",
       "\t<li>0.800168636419326</li>\n",
       "\t<li>0.120456803433177</li>\n",
       "\t<li>0.0509652506469798</li>\n",
       "\t<li>0.0164507606150614</li>\n",
       "\t<li>0.0119585488854557</li>\n",
       "</ol>\n"
      ],
      "text/latex": [
       "\\begin{enumerate*}\n",
       "\\item 0.800168636419326\n",
       "\\item 0.120456803433177\n",
       "\\item 0.0509652506469798\n",
       "\\item 0.0164507606150614\n",
       "\\item 0.0119585488854557\n",
       "\\end{enumerate*}\n"
      ],
      "text/markdown": [
       "1. 0.800168636419326\n",
       "2. 0.120456803433177\n",
       "3. 0.0509652506469798\n",
       "4. 0.0164507606150614\n",
       "5. 0.0119585488854557\n",
       "\n",
       "\n"
      ],
      "text/plain": [
       "[1] 0.80016864 0.12045680 0.05096525 0.01645076 0.01195855"
      ]
     },
     "metadata": {},
     "output_type": "display_data"
    }
   ],
   "source": [
    "# normalized proportions.\n",
    "prop = glass_lda_fit$svd^2/sum(glass_lda_fit$svd^2)\n",
    "prop\n",
    "\n",
    "# Based on values displayed below, 1st LDA can explain more than 79% percent \n",
    "# of between-group variance in this dataset."
   ]
  },
  {
   "cell_type": "markdown",
   "metadata": {},
   "source": [
    "<span style=\"color:#1d80ba; font-size:14px; font-weight:700\">Activity 10:</span> Predict the glass type in glass_test_data using the model glass_lda_fit built above."
   ]
  },
  {
   "cell_type": "code",
   "execution_count": 54,
   "metadata": {},
   "outputs": [],
   "source": [
    "# Your code for Activity 10 goes here.\n",
    "\n",
    "pred <- predict(glass_lda_fit, glass_test_data)\n"
   ]
  },
  {
   "cell_type": "code",
   "execution_count": 37,
   "metadata": {},
   "outputs": [
    {
     "data": {
      "text/html": [
       "<ol class=list-inline>\n",
       "\t<li>'class'</li>\n",
       "\t<li>'posterior'</li>\n",
       "\t<li>'x'</li>\n",
       "</ol>\n"
      ],
      "text/latex": [
       "\\begin{enumerate*}\n",
       "\\item 'class'\n",
       "\\item 'posterior'\n",
       "\\item 'x'\n",
       "\\end{enumerate*}\n"
      ],
      "text/markdown": [
       "1. 'class'\n",
       "2. 'posterior'\n",
       "3. 'x'\n",
       "\n",
       "\n"
      ],
      "text/plain": [
       "[1] \"class\"     \"posterior\" \"x\"        "
      ]
     },
     "metadata": {},
     "output_type": "display_data"
    }
   ],
   "source": [
    "names(pred)"
   ]
  },
  {
   "cell_type": "markdown",
   "metadata": {},
   "source": [
    "<span style=\"color:#1d80ba; font-size:14px; font-weight:700\">Activity 11:</span> Calculate the accuracy of the model using the confusion matrix. "
   ]
  },
  {
   "cell_type": "code",
   "execution_count": 56,
   "metadata": {},
   "outputs": [
    {
     "data": {
      "text/plain": [
       "   \n",
       "     1  2  3  5  6  7\n",
       "  1 21  8  3  0  0  0\n",
       "  2  4 16  4  2  0  0\n",
       "  3  0  0  0  0  0  0\n",
       "  5  0  2  0  3  0  1\n",
       "  6  0  1  0  0  3  0\n",
       "  7  0  0  0  0  0 10"
      ]
     },
     "metadata": {},
     "output_type": "display_data"
    }
   ],
   "source": [
    "# Your code for Activity 11 goes here.\n",
    "\n",
    "# Build a confusion matrix using 2-way table.\n",
    "\n",
    "confusion_table <- table(pred$class, glass_test_data$Type)\n",
    "confusion_table\n"
   ]
  },
  {
   "cell_type": "code",
   "execution_count": 57,
   "metadata": {},
   "outputs": [
    {
     "name": "stdout",
     "output_type": "stream",
     "text": [
      "[1] \"accuracy =  17.6666666666667\"\n"
     ]
    }
   ],
   "source": [
    "# Accuracy of the model. \n",
    "\n",
    "print (paste(\"accuracy = \",sum(diag(confusion_table))/length(pred)))\n"
   ]
  },
  {
   "cell_type": "markdown",
   "metadata": {},
   "source": [
    "LDA did not do a decent job in classifying `glass` Types. \n",
    "Apply SVM on the same data to see if there would be any improvement in the classification accuracy.\n",
    "\n",
    "<span style=\"color:#1d80ba; font-size:14px; font-weight:700\">Activity 12:</span>\n",
    "Fit a SVM model on glass_train_data using all independent variables except `Id` to predict `Type` variable. \n",
    "Name this model glass_svm_fit. \n",
    "Make sure to use a **nonlinear kernel**."
   ]
  },
  {
   "cell_type": "code",
   "execution_count": 48,
   "metadata": {},
   "outputs": [
    {
     "data": {
      "text/plain": [
       "\n",
       "Call:\n",
       "svm(formula = Type ~ Refractive_Index + Sodium + Magnesium + Aluminium + \n",
       "    Silicon + Potassium + Calcium + Barium + Iron, data = glass_train_data, \n",
       "    kernel = \"polynomial\", degree = 8, coef0 = 1)\n",
       "\n",
       "\n",
       "Parameters:\n",
       "   SVM-Type:  C-classification \n",
       " SVM-Kernel:  polynomial \n",
       "       cost:  1 \n",
       "     degree:  8 \n",
       "     coef.0:  1 \n",
       "\n",
       "Number of Support Vectors:  96\n"
      ]
     },
     "metadata": {},
     "output_type": "display_data"
    }
   ],
   "source": [
    "# Your code for Activity 12 goes here.\n",
    "\n",
    "library(\"e1071\")\n",
    "\n",
    "glass_svm_fit = svm(Type ~ Refractive_Index + Sodium + Magnesium + Aluminium + Silicon + Potassium + Calcium + Barium + Iron, data=glass_train_data, kernel = \"polynomial\", degree=8, coef0=1)\n",
    "glass_svm_fit\n"
   ]
  },
  {
   "cell_type": "markdown",
   "metadata": {},
   "source": [
    "<span style=\"color:#1d80ba; font-size:14px; font-weight:700\">Activity 13:</span> Predict the glass type in glass_test_data using the SVM model glass_svm_fit built above. Use the confusion matrix function of caret package to find the accuracy of the model."
   ]
  },
  {
   "cell_type": "code",
   "execution_count": 49,
   "metadata": {},
   "outputs": [
    {
     "name": "stderr",
     "output_type": "stream",
     "text": [
      "Loading required package: lattice\n"
     ]
    },
    {
     "data": {
      "text/plain": [
       "    \n",
       "pred  1  2  3  5  6  7\n",
       "   1 42  4  4  0  0  0\n",
       "   2  3 45  1  0  0  0\n",
       "   3  0  0  5  0  0  0\n",
       "   5  0  0  0  8  0  0\n",
       "   6  0  0  0  0  6  0\n",
       "   7  0  0  0  0  0 18"
      ]
     },
     "metadata": {},
     "output_type": "display_data"
    }
   ],
   "source": [
    "# Your code for Activity 13 goes here.\n",
    "\n",
    "library(caret)\n",
    "\n",
    "# show the confusion matrix\n",
    "\n",
    "pred=predict(glass_svm_fit)\n",
    "conftable1=table(pred, glass_train_data$Type)\n",
    "conftable1 "
   ]
  },
  {
   "cell_type": "markdown",
   "metadata": {},
   "source": [
    "# Save your notebook!"
   ]
  }
 ],
 "metadata": {
  "kernelspec": {
   "display_name": "R",
   "language": "R",
   "name": "ir"
  },
  "language_info": {
   "codemirror_mode": "r",
   "file_extension": ".r",
   "mimetype": "text/x-r-source",
   "name": "R",
   "pygments_lexer": "r",
   "version": "3.5.1"
  }
 },
 "nbformat": 4,
 "nbformat_minor": 1
}
