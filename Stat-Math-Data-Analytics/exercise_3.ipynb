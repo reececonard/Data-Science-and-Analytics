{
 "cells": [
  {
   "cell_type": "markdown",
   "metadata": {},
   "source": [
    "## Module 3 Exercises\n",
    "\n",
    "We will work with auto-mpg dataset in this exercises notebook. Most of the exercises will be similar to what you have seen in lab and practice notebooks. You may have to look up for a function or a concept to solve one or two problems in the notebook. But all questions are closed book questions which do not ask beyond what you learned in the class."
   ]
  },
  {
   "cell_type": "markdown",
   "metadata": {
    "collapsed": true
   },
   "source": [
    "Load the data `/dsa/data/all_datasets/auto-mpg/auto-mpg.csv` into R and name the dataframe as `auto_data`"
   ]
  },
  {
   "cell_type": "code",
   "execution_count": 2,
   "metadata": {},
   "outputs": [
    {
     "data": {
      "text/html": [
       "<table>\n",
       "<caption>A data.frame: 6 × 9</caption>\n",
       "<thead>\n",
       "\t<tr><th scope=col>mpg</th><th scope=col>cylinders</th><th scope=col>displacement</th><th scope=col>horsepower</th><th scope=col>weight</th><th scope=col>acceleration</th><th scope=col>model.year</th><th scope=col>origin</th><th scope=col>car.name</th></tr>\n",
       "\t<tr><th scope=col>&lt;dbl&gt;</th><th scope=col>&lt;int&gt;</th><th scope=col>&lt;dbl&gt;</th><th scope=col>&lt;fct&gt;</th><th scope=col>&lt;int&gt;</th><th scope=col>&lt;dbl&gt;</th><th scope=col>&lt;int&gt;</th><th scope=col>&lt;int&gt;</th><th scope=col>&lt;fct&gt;</th></tr>\n",
       "</thead>\n",
       "<tbody>\n",
       "\t<tr><td>18</td><td>8</td><td>307</td><td>130.0</td><td>3504</td><td>12.0</td><td>70</td><td>1</td><td>chevrolet chevelle malibu</td></tr>\n",
       "\t<tr><td>15</td><td>8</td><td>350</td><td>165.0</td><td>3693</td><td>11.5</td><td>70</td><td>1</td><td>buick skylark 320        </td></tr>\n",
       "\t<tr><td>18</td><td>8</td><td>318</td><td>150.0</td><td>3436</td><td>11.0</td><td>70</td><td>1</td><td>plymouth satellite       </td></tr>\n",
       "\t<tr><td>16</td><td>8</td><td>304</td><td>150.0</td><td>3433</td><td>12.0</td><td>70</td><td>1</td><td>amc rebel sst            </td></tr>\n",
       "\t<tr><td>17</td><td>8</td><td>302</td><td>140.0</td><td>3449</td><td>10.5</td><td>70</td><td>1</td><td>ford torino              </td></tr>\n",
       "\t<tr><td>15</td><td>8</td><td>429</td><td>198.0</td><td>4341</td><td>10.0</td><td>70</td><td>1</td><td>ford galaxie 500         </td></tr>\n",
       "</tbody>\n",
       "</table>\n"
      ],
      "text/latex": [
       "A data.frame: 6 × 9\n",
       "\\begin{tabular}{r|lllllllll}\n",
       " mpg & cylinders & displacement & horsepower & weight & acceleration & model.year & origin & car.name\\\\\n",
       " <dbl> & <int> & <dbl> & <fct> & <int> & <dbl> & <int> & <int> & <fct>\\\\\n",
       "\\hline\n",
       "\t 18 & 8 & 307 & 130.0 & 3504 & 12.0 & 70 & 1 & chevrolet chevelle malibu\\\\\n",
       "\t 15 & 8 & 350 & 165.0 & 3693 & 11.5 & 70 & 1 & buick skylark 320        \\\\\n",
       "\t 18 & 8 & 318 & 150.0 & 3436 & 11.0 & 70 & 1 & plymouth satellite       \\\\\n",
       "\t 16 & 8 & 304 & 150.0 & 3433 & 12.0 & 70 & 1 & amc rebel sst            \\\\\n",
       "\t 17 & 8 & 302 & 140.0 & 3449 & 10.5 & 70 & 1 & ford torino              \\\\\n",
       "\t 15 & 8 & 429 & 198.0 & 4341 & 10.0 & 70 & 1 & ford galaxie 500         \\\\\n",
       "\\end{tabular}\n"
      ],
      "text/markdown": [
       "\n",
       "A data.frame: 6 × 9\n",
       "\n",
       "| mpg &lt;dbl&gt; | cylinders &lt;int&gt; | displacement &lt;dbl&gt; | horsepower &lt;fct&gt; | weight &lt;int&gt; | acceleration &lt;dbl&gt; | model.year &lt;int&gt; | origin &lt;int&gt; | car.name &lt;fct&gt; |\n",
       "|---|---|---|---|---|---|---|---|---|\n",
       "| 18 | 8 | 307 | 130.0 | 3504 | 12.0 | 70 | 1 | chevrolet chevelle malibu |\n",
       "| 15 | 8 | 350 | 165.0 | 3693 | 11.5 | 70 | 1 | buick skylark 320         |\n",
       "| 18 | 8 | 318 | 150.0 | 3436 | 11.0 | 70 | 1 | plymouth satellite        |\n",
       "| 16 | 8 | 304 | 150.0 | 3433 | 12.0 | 70 | 1 | amc rebel sst             |\n",
       "| 17 | 8 | 302 | 140.0 | 3449 | 10.5 | 70 | 1 | ford torino               |\n",
       "| 15 | 8 | 429 | 198.0 | 4341 | 10.0 | 70 | 1 | ford galaxie 500          |\n",
       "\n"
      ],
      "text/plain": [
       "  mpg cylinders displacement horsepower weight acceleration model.year origin\n",
       "1 18  8         307          130.0      3504   12.0         70         1     \n",
       "2 15  8         350          165.0      3693   11.5         70         1     \n",
       "3 18  8         318          150.0      3436   11.0         70         1     \n",
       "4 16  8         304          150.0      3433   12.0         70         1     \n",
       "5 17  8         302          140.0      3449   10.5         70         1     \n",
       "6 15  8         429          198.0      4341   10.0         70         1     \n",
       "  car.name                 \n",
       "1 chevrolet chevelle malibu\n",
       "2 buick skylark 320        \n",
       "3 plymouth satellite       \n",
       "4 amc rebel sst            \n",
       "5 ford torino              \n",
       "6 ford galaxie 500         "
      ]
     },
     "metadata": {},
     "output_type": "display_data"
    }
   ],
   "source": [
    "auto_data <- read.csv(\"/dsa/data/all_datasets/auto-mpg/auto-mpg.csv\", header = TRUE, sep = ',')\n",
    "head(auto_data)"
   ]
  },
  {
   "cell_type": "code",
   "execution_count": 3,
   "metadata": {},
   "outputs": [
    {
     "name": "stdout",
     "output_type": "stream",
     "text": [
      "'data.frame':\t398 obs. of  9 variables:\n",
      " $ mpg         : num  18 15 18 16 17 15 14 14 14 15 ...\n",
      " $ cylinders   : int  8 8 8 8 8 8 8 8 8 8 ...\n",
      " $ displacement: num  307 350 318 304 302 429 454 440 455 390 ...\n",
      " $ horsepower  : Factor w/ 94 levels \"?    \",\"100.0\",..: 17 35 29 29 24 42 47 46 48 40 ...\n",
      " $ weight      : int  3504 3693 3436 3433 3449 4341 4354 4312 4425 3850 ...\n",
      " $ acceleration: num  12 11.5 11 12 10.5 10 9 8.5 10 8.5 ...\n",
      " $ model.year  : int  70 70 70 70 70 70 70 70 70 70 ...\n",
      " $ origin      : int  1 1 1 1 1 1 1 1 1 1 ...\n",
      " $ car.name    : Factor w/ 305 levels \"amc ambassador brougham\",..: 50 37 232 15 162 142 55 224 242 2 ...\n"
     ]
    }
   ],
   "source": [
    "str(auto_data)"
   ]
  },
  {
   "cell_type": "markdown",
   "metadata": {},
   "source": [
    "**Question 1: ** Display first 10 rows of data for columns mpg, horsepower and car.name"
   ]
  },
  {
   "cell_type": "code",
   "execution_count": 4,
   "metadata": {
    "scrolled": true
   },
   "outputs": [
    {
     "data": {
      "text/html": [
       "<table>\n",
       "<caption>A data.frame: 10 × 3</caption>\n",
       "<thead>\n",
       "\t<tr><th scope=col>mpg</th><th scope=col>horsepower</th><th scope=col>car.name</th></tr>\n",
       "\t<tr><th scope=col>&lt;dbl&gt;</th><th scope=col>&lt;fct&gt;</th><th scope=col>&lt;fct&gt;</th></tr>\n",
       "</thead>\n",
       "<tbody>\n",
       "\t<tr><td>18</td><td>130.0</td><td>chevrolet chevelle malibu</td></tr>\n",
       "\t<tr><td>15</td><td>165.0</td><td>buick skylark 320        </td></tr>\n",
       "\t<tr><td>18</td><td>150.0</td><td>plymouth satellite       </td></tr>\n",
       "\t<tr><td>16</td><td>150.0</td><td>amc rebel sst            </td></tr>\n",
       "\t<tr><td>17</td><td>140.0</td><td>ford torino              </td></tr>\n",
       "\t<tr><td>15</td><td>198.0</td><td>ford galaxie 500         </td></tr>\n",
       "\t<tr><td>14</td><td>220.0</td><td>chevrolet impala         </td></tr>\n",
       "\t<tr><td>14</td><td>215.0</td><td>plymouth fury iii        </td></tr>\n",
       "\t<tr><td>14</td><td>225.0</td><td>pontiac catalina         </td></tr>\n",
       "\t<tr><td>15</td><td>190.0</td><td>amc ambassador dpl       </td></tr>\n",
       "</tbody>\n",
       "</table>\n"
      ],
      "text/latex": [
       "A data.frame: 10 × 3\n",
       "\\begin{tabular}{r|lll}\n",
       " mpg & horsepower & car.name\\\\\n",
       " <dbl> & <fct> & <fct>\\\\\n",
       "\\hline\n",
       "\t 18 & 130.0 & chevrolet chevelle malibu\\\\\n",
       "\t 15 & 165.0 & buick skylark 320        \\\\\n",
       "\t 18 & 150.0 & plymouth satellite       \\\\\n",
       "\t 16 & 150.0 & amc rebel sst            \\\\\n",
       "\t 17 & 140.0 & ford torino              \\\\\n",
       "\t 15 & 198.0 & ford galaxie 500         \\\\\n",
       "\t 14 & 220.0 & chevrolet impala         \\\\\n",
       "\t 14 & 215.0 & plymouth fury iii        \\\\\n",
       "\t 14 & 225.0 & pontiac catalina         \\\\\n",
       "\t 15 & 190.0 & amc ambassador dpl       \\\\\n",
       "\\end{tabular}\n"
      ],
      "text/markdown": [
       "\n",
       "A data.frame: 10 × 3\n",
       "\n",
       "| mpg &lt;dbl&gt; | horsepower &lt;fct&gt; | car.name &lt;fct&gt; |\n",
       "|---|---|---|\n",
       "| 18 | 130.0 | chevrolet chevelle malibu |\n",
       "| 15 | 165.0 | buick skylark 320         |\n",
       "| 18 | 150.0 | plymouth satellite        |\n",
       "| 16 | 150.0 | amc rebel sst             |\n",
       "| 17 | 140.0 | ford torino               |\n",
       "| 15 | 198.0 | ford galaxie 500          |\n",
       "| 14 | 220.0 | chevrolet impala          |\n",
       "| 14 | 215.0 | plymouth fury iii         |\n",
       "| 14 | 225.0 | pontiac catalina          |\n",
       "| 15 | 190.0 | amc ambassador dpl        |\n",
       "\n"
      ],
      "text/plain": [
       "   mpg horsepower car.name                 \n",
       "1  18  130.0      chevrolet chevelle malibu\n",
       "2  15  165.0      buick skylark 320        \n",
       "3  18  150.0      plymouth satellite       \n",
       "4  16  150.0      amc rebel sst            \n",
       "5  17  140.0      ford torino              \n",
       "6  15  198.0      ford galaxie 500         \n",
       "7  14  220.0      chevrolet impala         \n",
       "8  14  215.0      plymouth fury iii        \n",
       "9  14  225.0      pontiac catalina         \n",
       "10 15  190.0      amc ambassador dpl       "
      ]
     },
     "metadata": {},
     "output_type": "display_data"
    }
   ],
   "source": [
    "#Code for question 1 goes here\n",
    "#---------------------------------\n",
    "\n",
    "df = auto_data[,c(\"mpg\", \"horsepower\", \"car.name\")]\n",
    "\n",
    "head(df, 10)"
   ]
  },
  {
   "cell_type": "markdown",
   "metadata": {},
   "source": [
    "**Question 2: ** Use factor() function to convert the labels of origin column in auto_data from (1,2,3) to (america,europe and asia)"
   ]
  },
  {
   "cell_type": "code",
   "execution_count": 5,
   "metadata": {},
   "outputs": [],
   "source": [
    "#Code for question 2 goes here\n",
    "#---------------------------------\n",
    "\n",
    "auto_data$origin = factor(auto_data$origin)\n",
    "\n",
    "levels(auto_data$origin) <- c(\"america\", \"europe\", \"asia\")"
   ]
  },
  {
   "cell_type": "code",
   "execution_count": 6,
   "metadata": {
    "scrolled": true
   },
   "outputs": [
    {
     "name": "stdout",
     "output_type": "stream",
     "text": [
      "'data.frame':\t398 obs. of  9 variables:\n",
      " $ mpg         : num  18 15 18 16 17 15 14 14 14 15 ...\n",
      " $ cylinders   : int  8 8 8 8 8 8 8 8 8 8 ...\n",
      " $ displacement: num  307 350 318 304 302 429 454 440 455 390 ...\n",
      " $ horsepower  : Factor w/ 94 levels \"?    \",\"100.0\",..: 17 35 29 29 24 42 47 46 48 40 ...\n",
      " $ weight      : int  3504 3693 3436 3433 3449 4341 4354 4312 4425 3850 ...\n",
      " $ acceleration: num  12 11.5 11 12 10.5 10 9 8.5 10 8.5 ...\n",
      " $ model.year  : int  70 70 70 70 70 70 70 70 70 70 ...\n",
      " $ origin      : Factor w/ 3 levels \"america\",\"europe\",..: 1 1 1 1 1 1 1 1 1 1 ...\n",
      " $ car.name    : Factor w/ 305 levels \"amc ambassador brougham\",..: 50 37 232 15 162 142 55 224 242 2 ...\n"
     ]
    },
    {
     "data": {
      "text/html": [
       "<table>\n",
       "<caption>A data.frame: 6 × 9</caption>\n",
       "<thead>\n",
       "\t<tr><th scope=col>mpg</th><th scope=col>cylinders</th><th scope=col>displacement</th><th scope=col>horsepower</th><th scope=col>weight</th><th scope=col>acceleration</th><th scope=col>model.year</th><th scope=col>origin</th><th scope=col>car.name</th></tr>\n",
       "\t<tr><th scope=col>&lt;dbl&gt;</th><th scope=col>&lt;int&gt;</th><th scope=col>&lt;dbl&gt;</th><th scope=col>&lt;fct&gt;</th><th scope=col>&lt;int&gt;</th><th scope=col>&lt;dbl&gt;</th><th scope=col>&lt;int&gt;</th><th scope=col>&lt;fct&gt;</th><th scope=col>&lt;fct&gt;</th></tr>\n",
       "</thead>\n",
       "<tbody>\n",
       "\t<tr><td>18</td><td>8</td><td>307</td><td>130.0</td><td>3504</td><td>12.0</td><td>70</td><td>america</td><td>chevrolet chevelle malibu</td></tr>\n",
       "\t<tr><td>15</td><td>8</td><td>350</td><td>165.0</td><td>3693</td><td>11.5</td><td>70</td><td>america</td><td>buick skylark 320        </td></tr>\n",
       "\t<tr><td>18</td><td>8</td><td>318</td><td>150.0</td><td>3436</td><td>11.0</td><td>70</td><td>america</td><td>plymouth satellite       </td></tr>\n",
       "\t<tr><td>16</td><td>8</td><td>304</td><td>150.0</td><td>3433</td><td>12.0</td><td>70</td><td>america</td><td>amc rebel sst            </td></tr>\n",
       "\t<tr><td>17</td><td>8</td><td>302</td><td>140.0</td><td>3449</td><td>10.5</td><td>70</td><td>america</td><td>ford torino              </td></tr>\n",
       "\t<tr><td>15</td><td>8</td><td>429</td><td>198.0</td><td>4341</td><td>10.0</td><td>70</td><td>america</td><td>ford galaxie 500         </td></tr>\n",
       "</tbody>\n",
       "</table>\n"
      ],
      "text/latex": [
       "A data.frame: 6 × 9\n",
       "\\begin{tabular}{r|lllllllll}\n",
       " mpg & cylinders & displacement & horsepower & weight & acceleration & model.year & origin & car.name\\\\\n",
       " <dbl> & <int> & <dbl> & <fct> & <int> & <dbl> & <int> & <fct> & <fct>\\\\\n",
       "\\hline\n",
       "\t 18 & 8 & 307 & 130.0 & 3504 & 12.0 & 70 & america & chevrolet chevelle malibu\\\\\n",
       "\t 15 & 8 & 350 & 165.0 & 3693 & 11.5 & 70 & america & buick skylark 320        \\\\\n",
       "\t 18 & 8 & 318 & 150.0 & 3436 & 11.0 & 70 & america & plymouth satellite       \\\\\n",
       "\t 16 & 8 & 304 & 150.0 & 3433 & 12.0 & 70 & america & amc rebel sst            \\\\\n",
       "\t 17 & 8 & 302 & 140.0 & 3449 & 10.5 & 70 & america & ford torino              \\\\\n",
       "\t 15 & 8 & 429 & 198.0 & 4341 & 10.0 & 70 & america & ford galaxie 500         \\\\\n",
       "\\end{tabular}\n"
      ],
      "text/markdown": [
       "\n",
       "A data.frame: 6 × 9\n",
       "\n",
       "| mpg &lt;dbl&gt; | cylinders &lt;int&gt; | displacement &lt;dbl&gt; | horsepower &lt;fct&gt; | weight &lt;int&gt; | acceleration &lt;dbl&gt; | model.year &lt;int&gt; | origin &lt;fct&gt; | car.name &lt;fct&gt; |\n",
       "|---|---|---|---|---|---|---|---|---|\n",
       "| 18 | 8 | 307 | 130.0 | 3504 | 12.0 | 70 | america | chevrolet chevelle malibu |\n",
       "| 15 | 8 | 350 | 165.0 | 3693 | 11.5 | 70 | america | buick skylark 320         |\n",
       "| 18 | 8 | 318 | 150.0 | 3436 | 11.0 | 70 | america | plymouth satellite        |\n",
       "| 16 | 8 | 304 | 150.0 | 3433 | 12.0 | 70 | america | amc rebel sst             |\n",
       "| 17 | 8 | 302 | 140.0 | 3449 | 10.5 | 70 | america | ford torino               |\n",
       "| 15 | 8 | 429 | 198.0 | 4341 | 10.0 | 70 | america | ford galaxie 500          |\n",
       "\n"
      ],
      "text/plain": [
       "  mpg cylinders displacement horsepower weight acceleration model.year origin \n",
       "1 18  8         307          130.0      3504   12.0         70         america\n",
       "2 15  8         350          165.0      3693   11.5         70         america\n",
       "3 18  8         318          150.0      3436   11.0         70         america\n",
       "4 16  8         304          150.0      3433   12.0         70         america\n",
       "5 17  8         302          140.0      3449   10.5         70         america\n",
       "6 15  8         429          198.0      4341   10.0         70         america\n",
       "  car.name                 \n",
       "1 chevrolet chevelle malibu\n",
       "2 buick skylark 320        \n",
       "3 plymouth satellite       \n",
       "4 amc rebel sst            \n",
       "5 ford torino              \n",
       "6 ford galaxie 500         "
      ]
     },
     "metadata": {},
     "output_type": "display_data"
    }
   ],
   "source": [
    "str(auto_data)\n",
    "head(auto_data)"
   ]
  },
  {
   "cell_type": "markdown",
   "metadata": {},
   "source": [
    "**Question 3: ** Create a subset called mpg_data of auto_data to include rows which have mpg >= 12 and <= 15. Select columns cylinders, weight, acceleration, car.name to include in the subset. "
   ]
  },
  {
   "cell_type": "code",
   "execution_count": 7,
   "metadata": {},
   "outputs": [
    {
     "name": "stderr",
     "output_type": "stream",
     "text": [
      "── Attaching packages ─────────────────────────────────────── tidyverse 1.2.1 ──\n",
      "✔ ggplot2 3.2.1     ✔ purrr   0.3.2\n",
      "✔ tibble  2.1.3     ✔ dplyr   0.8.3\n",
      "✔ tidyr   1.0.0     ✔ stringr 1.4.0\n",
      "✔ readr   1.3.1     ✔ forcats 0.4.0\n",
      "── Conflicts ────────────────────────────────────────── tidyverse_conflicts() ──\n",
      "✖ dplyr::filter() masks stats::filter()\n",
      "✖ dplyr::lag()    masks stats::lag()\n"
     ]
    },
    {
     "data": {
      "text/html": [
       "<table>\n",
       "<caption>A data.frame: 391 × 9</caption>\n",
       "<thead>\n",
       "\t<tr><th scope=col>mpg</th><th scope=col>cylinders</th><th scope=col>displacement</th><th scope=col>horsepower</th><th scope=col>weight</th><th scope=col>acceleration</th><th scope=col>model.year</th><th scope=col>origin</th><th scope=col>car.name</th></tr>\n",
       "\t<tr><th scope=col>&lt;dbl&gt;</th><th scope=col>&lt;int&gt;</th><th scope=col>&lt;dbl&gt;</th><th scope=col>&lt;fct&gt;</th><th scope=col>&lt;int&gt;</th><th scope=col>&lt;dbl&gt;</th><th scope=col>&lt;int&gt;</th><th scope=col>&lt;fct&gt;</th><th scope=col>&lt;fct&gt;</th></tr>\n",
       "</thead>\n",
       "<tbody>\n",
       "\t<tr><td>18</td><td>8</td><td>307</td><td>130.0</td><td>3504</td><td>12.0</td><td>70</td><td>america</td><td>chevrolet chevelle malibu   </td></tr>\n",
       "\t<tr><td>15</td><td>8</td><td>350</td><td>165.0</td><td>3693</td><td>11.5</td><td>70</td><td>america</td><td>buick skylark 320           </td></tr>\n",
       "\t<tr><td>18</td><td>8</td><td>318</td><td>150.0</td><td>3436</td><td>11.0</td><td>70</td><td>america</td><td>plymouth satellite          </td></tr>\n",
       "\t<tr><td>16</td><td>8</td><td>304</td><td>150.0</td><td>3433</td><td>12.0</td><td>70</td><td>america</td><td>amc rebel sst               </td></tr>\n",
       "\t<tr><td>17</td><td>8</td><td>302</td><td>140.0</td><td>3449</td><td>10.5</td><td>70</td><td>america</td><td>ford torino                 </td></tr>\n",
       "\t<tr><td>15</td><td>8</td><td>429</td><td>198.0</td><td>4341</td><td>10.0</td><td>70</td><td>america</td><td>ford galaxie 500            </td></tr>\n",
       "\t<tr><td>14</td><td>8</td><td>454</td><td>220.0</td><td>4354</td><td> 9.0</td><td>70</td><td>america</td><td>chevrolet impala            </td></tr>\n",
       "\t<tr><td>14</td><td>8</td><td>440</td><td>215.0</td><td>4312</td><td> 8.5</td><td>70</td><td>america</td><td>plymouth fury iii           </td></tr>\n",
       "\t<tr><td>14</td><td>8</td><td>455</td><td>225.0</td><td>4425</td><td>10.0</td><td>70</td><td>america</td><td>pontiac catalina            </td></tr>\n",
       "\t<tr><td>15</td><td>8</td><td>390</td><td>190.0</td><td>3850</td><td> 8.5</td><td>70</td><td>america</td><td>amc ambassador dpl          </td></tr>\n",
       "\t<tr><td>15</td><td>8</td><td>383</td><td>170.0</td><td>3563</td><td>10.0</td><td>70</td><td>america</td><td>dodge challenger se         </td></tr>\n",
       "\t<tr><td>14</td><td>8</td><td>340</td><td>160.0</td><td>3609</td><td> 8.0</td><td>70</td><td>america</td><td>plymouth 'cuda 340          </td></tr>\n",
       "\t<tr><td>15</td><td>8</td><td>400</td><td>150.0</td><td>3761</td><td> 9.5</td><td>70</td><td>america</td><td>chevrolet monte carlo       </td></tr>\n",
       "\t<tr><td>14</td><td>8</td><td>455</td><td>225.0</td><td>3086</td><td>10.0</td><td>70</td><td>america</td><td>buick estate wagon (sw)     </td></tr>\n",
       "\t<tr><td>24</td><td>4</td><td>113</td><td>95.00</td><td>2372</td><td>15.0</td><td>70</td><td>asia   </td><td>toyota corona mark ii       </td></tr>\n",
       "\t<tr><td>22</td><td>6</td><td>198</td><td>95.00</td><td>2833</td><td>15.5</td><td>70</td><td>america</td><td>plymouth duster             </td></tr>\n",
       "\t<tr><td>18</td><td>6</td><td>199</td><td>97.00</td><td>2774</td><td>15.5</td><td>70</td><td>america</td><td>amc hornet                  </td></tr>\n",
       "\t<tr><td>21</td><td>6</td><td>200</td><td>85.00</td><td>2587</td><td>16.0</td><td>70</td><td>america</td><td>ford maverick               </td></tr>\n",
       "\t<tr><td>27</td><td>4</td><td> 97</td><td>88.00</td><td>2130</td><td>14.5</td><td>70</td><td>asia   </td><td>datsun pl510                </td></tr>\n",
       "\t<tr><td>26</td><td>4</td><td> 97</td><td>46.00</td><td>1835</td><td>20.5</td><td>70</td><td>europe </td><td>volkswagen 1131 deluxe sedan</td></tr>\n",
       "\t<tr><td>25</td><td>4</td><td>110</td><td>87.00</td><td>2672</td><td>17.5</td><td>70</td><td>europe </td><td>peugeot 504                 </td></tr>\n",
       "\t<tr><td>24</td><td>4</td><td>107</td><td>90.00</td><td>2430</td><td>14.5</td><td>70</td><td>europe </td><td>audi 100 ls                 </td></tr>\n",
       "\t<tr><td>25</td><td>4</td><td>104</td><td>95.00</td><td>2375</td><td>17.5</td><td>70</td><td>europe </td><td>saab 99e                    </td></tr>\n",
       "\t<tr><td>26</td><td>4</td><td>121</td><td>113.0</td><td>2234</td><td>12.5</td><td>70</td><td>europe </td><td>bmw 2002                    </td></tr>\n",
       "\t<tr><td>21</td><td>6</td><td>199</td><td>90.00</td><td>2648</td><td>15.0</td><td>70</td><td>america</td><td>amc gremlin                 </td></tr>\n",
       "\t<tr><td>27</td><td>4</td><td> 97</td><td>88.00</td><td>2130</td><td>14.5</td><td>71</td><td>asia   </td><td>datsun pl510                </td></tr>\n",
       "\t<tr><td>28</td><td>4</td><td>140</td><td>90.00</td><td>2264</td><td>15.5</td><td>71</td><td>america</td><td>chevrolet vega 2300         </td></tr>\n",
       "\t<tr><td>25</td><td>4</td><td>113</td><td>95.00</td><td>2228</td><td>14.0</td><td>71</td><td>asia   </td><td>toyota corona               </td></tr>\n",
       "\t<tr><td>25</td><td>4</td><td> 98</td><td>?    </td><td>2046</td><td>19.0</td><td>71</td><td>america</td><td>ford pinto                  </td></tr>\n",
       "\t<tr><td>19</td><td>6</td><td>232</td><td>100.0</td><td>2634</td><td>13.0</td><td>71</td><td>america</td><td>amc gremlin                 </td></tr>\n",
       "\t<tr><td>⋮</td><td>⋮</td><td>⋮</td><td>⋮</td><td>⋮</td><td>⋮</td><td>⋮</td><td>⋮</td><td>⋮</td></tr>\n",
       "\t<tr><td>27</td><td>4</td><td>112</td><td>88.00</td><td>2640</td><td>18.6</td><td>82</td><td>america</td><td>chevrolet cavalier wagon         </td></tr>\n",
       "\t<tr><td>34</td><td>4</td><td>112</td><td>88.00</td><td>2395</td><td>18.0</td><td>82</td><td>america</td><td>chevrolet cavalier 2-door        </td></tr>\n",
       "\t<tr><td>31</td><td>4</td><td>112</td><td>85.00</td><td>2575</td><td>16.2</td><td>82</td><td>america</td><td>pontiac j2000 se hatchback       </td></tr>\n",
       "\t<tr><td>29</td><td>4</td><td>135</td><td>84.00</td><td>2525</td><td>16.0</td><td>82</td><td>america</td><td>dodge aries se                   </td></tr>\n",
       "\t<tr><td>27</td><td>4</td><td>151</td><td>90.00</td><td>2735</td><td>18.0</td><td>82</td><td>america</td><td>pontiac phoenix                  </td></tr>\n",
       "\t<tr><td>24</td><td>4</td><td>140</td><td>92.00</td><td>2865</td><td>16.4</td><td>82</td><td>america</td><td>ford fairmont futura             </td></tr>\n",
       "\t<tr><td>23</td><td>4</td><td>151</td><td>?    </td><td>3035</td><td>20.5</td><td>82</td><td>america</td><td>amc concord dl                   </td></tr>\n",
       "\t<tr><td>36</td><td>4</td><td>105</td><td>74.00</td><td>1980</td><td>15.3</td><td>82</td><td>europe </td><td>volkswagen rabbit l              </td></tr>\n",
       "\t<tr><td>37</td><td>4</td><td> 91</td><td>68.00</td><td>2025</td><td>18.2</td><td>82</td><td>asia   </td><td>mazda glc custom l               </td></tr>\n",
       "\t<tr><td>31</td><td>4</td><td> 91</td><td>68.00</td><td>1970</td><td>17.6</td><td>82</td><td>asia   </td><td>mazda glc custom                 </td></tr>\n",
       "\t<tr><td>38</td><td>4</td><td>105</td><td>63.00</td><td>2125</td><td>14.7</td><td>82</td><td>america</td><td>plymouth horizon miser           </td></tr>\n",
       "\t<tr><td>36</td><td>4</td><td> 98</td><td>70.00</td><td>2125</td><td>17.3</td><td>82</td><td>america</td><td>mercury lynx l                   </td></tr>\n",
       "\t<tr><td>36</td><td>4</td><td>120</td><td>88.00</td><td>2160</td><td>14.5</td><td>82</td><td>asia   </td><td>nissan stanza xe                 </td></tr>\n",
       "\t<tr><td>36</td><td>4</td><td>107</td><td>75.00</td><td>2205</td><td>14.5</td><td>82</td><td>asia   </td><td>honda accord                     </td></tr>\n",
       "\t<tr><td>34</td><td>4</td><td>108</td><td>70.00</td><td>2245</td><td>16.9</td><td>82</td><td>asia   </td><td>toyota corolla                   </td></tr>\n",
       "\t<tr><td>38</td><td>4</td><td> 91</td><td>67.00</td><td>1965</td><td>15.0</td><td>82</td><td>asia   </td><td>honda civic                      </td></tr>\n",
       "\t<tr><td>32</td><td>4</td><td> 91</td><td>67.00</td><td>1965</td><td>15.7</td><td>82</td><td>asia   </td><td>honda civic (auto)               </td></tr>\n",
       "\t<tr><td>38</td><td>4</td><td> 91</td><td>67.00</td><td>1995</td><td>16.2</td><td>82</td><td>asia   </td><td>datsun 310 gx                    </td></tr>\n",
       "\t<tr><td>25</td><td>6</td><td>181</td><td>110.0</td><td>2945</td><td>16.4</td><td>82</td><td>america</td><td>buick century limited            </td></tr>\n",
       "\t<tr><td>38</td><td>6</td><td>262</td><td>85.00</td><td>3015</td><td>17.0</td><td>82</td><td>america</td><td>oldsmobile cutlass ciera (diesel)</td></tr>\n",
       "\t<tr><td>26</td><td>4</td><td>156</td><td>92.00</td><td>2585</td><td>14.5</td><td>82</td><td>america</td><td>chrysler lebaron medallion       </td></tr>\n",
       "\t<tr><td>22</td><td>6</td><td>232</td><td>112.0</td><td>2835</td><td>14.7</td><td>82</td><td>america</td><td>ford granada l                   </td></tr>\n",
       "\t<tr><td>32</td><td>4</td><td>144</td><td>96.00</td><td>2665</td><td>13.9</td><td>82</td><td>asia   </td><td>toyota celica gt                 </td></tr>\n",
       "\t<tr><td>36</td><td>4</td><td>135</td><td>84.00</td><td>2370</td><td>13.0</td><td>82</td><td>america</td><td>dodge charger 2.2                </td></tr>\n",
       "\t<tr><td>27</td><td>4</td><td>151</td><td>90.00</td><td>2950</td><td>17.3</td><td>82</td><td>america</td><td>chevrolet camaro                 </td></tr>\n",
       "\t<tr><td>27</td><td>4</td><td>140</td><td>86.00</td><td>2790</td><td>15.6</td><td>82</td><td>america</td><td>ford mustang gl                  </td></tr>\n",
       "\t<tr><td>44</td><td>4</td><td> 97</td><td>52.00</td><td>2130</td><td>24.6</td><td>82</td><td>europe </td><td>vw pickup                        </td></tr>\n",
       "\t<tr><td>32</td><td>4</td><td>135</td><td>84.00</td><td>2295</td><td>11.6</td><td>82</td><td>america</td><td>dodge rampage                    </td></tr>\n",
       "\t<tr><td>28</td><td>4</td><td>120</td><td>79.00</td><td>2625</td><td>18.6</td><td>82</td><td>america</td><td>ford ranger                      </td></tr>\n",
       "\t<tr><td>31</td><td>4</td><td>119</td><td>82.00</td><td>2720</td><td>19.4</td><td>82</td><td>america</td><td>chevy s-10                       </td></tr>\n",
       "</tbody>\n",
       "</table>\n"
      ],
      "text/latex": [
       "A data.frame: 391 × 9\n",
       "\\begin{tabular}{r|lllllllll}\n",
       " mpg & cylinders & displacement & horsepower & weight & acceleration & model.year & origin & car.name\\\\\n",
       " <dbl> & <int> & <dbl> & <fct> & <int> & <dbl> & <int> & <fct> & <fct>\\\\\n",
       "\\hline\n",
       "\t 18 & 8 & 307 & 130.0 & 3504 & 12.0 & 70 & america & chevrolet chevelle malibu   \\\\\n",
       "\t 15 & 8 & 350 & 165.0 & 3693 & 11.5 & 70 & america & buick skylark 320           \\\\\n",
       "\t 18 & 8 & 318 & 150.0 & 3436 & 11.0 & 70 & america & plymouth satellite          \\\\\n",
       "\t 16 & 8 & 304 & 150.0 & 3433 & 12.0 & 70 & america & amc rebel sst               \\\\\n",
       "\t 17 & 8 & 302 & 140.0 & 3449 & 10.5 & 70 & america & ford torino                 \\\\\n",
       "\t 15 & 8 & 429 & 198.0 & 4341 & 10.0 & 70 & america & ford galaxie 500            \\\\\n",
       "\t 14 & 8 & 454 & 220.0 & 4354 &  9.0 & 70 & america & chevrolet impala            \\\\\n",
       "\t 14 & 8 & 440 & 215.0 & 4312 &  8.5 & 70 & america & plymouth fury iii           \\\\\n",
       "\t 14 & 8 & 455 & 225.0 & 4425 & 10.0 & 70 & america & pontiac catalina            \\\\\n",
       "\t 15 & 8 & 390 & 190.0 & 3850 &  8.5 & 70 & america & amc ambassador dpl          \\\\\n",
       "\t 15 & 8 & 383 & 170.0 & 3563 & 10.0 & 70 & america & dodge challenger se         \\\\\n",
       "\t 14 & 8 & 340 & 160.0 & 3609 &  8.0 & 70 & america & plymouth 'cuda 340          \\\\\n",
       "\t 15 & 8 & 400 & 150.0 & 3761 &  9.5 & 70 & america & chevrolet monte carlo       \\\\\n",
       "\t 14 & 8 & 455 & 225.0 & 3086 & 10.0 & 70 & america & buick estate wagon (sw)     \\\\\n",
       "\t 24 & 4 & 113 & 95.00 & 2372 & 15.0 & 70 & asia    & toyota corona mark ii       \\\\\n",
       "\t 22 & 6 & 198 & 95.00 & 2833 & 15.5 & 70 & america & plymouth duster             \\\\\n",
       "\t 18 & 6 & 199 & 97.00 & 2774 & 15.5 & 70 & america & amc hornet                  \\\\\n",
       "\t 21 & 6 & 200 & 85.00 & 2587 & 16.0 & 70 & america & ford maverick               \\\\\n",
       "\t 27 & 4 &  97 & 88.00 & 2130 & 14.5 & 70 & asia    & datsun pl510                \\\\\n",
       "\t 26 & 4 &  97 & 46.00 & 1835 & 20.5 & 70 & europe  & volkswagen 1131 deluxe sedan\\\\\n",
       "\t 25 & 4 & 110 & 87.00 & 2672 & 17.5 & 70 & europe  & peugeot 504                 \\\\\n",
       "\t 24 & 4 & 107 & 90.00 & 2430 & 14.5 & 70 & europe  & audi 100 ls                 \\\\\n",
       "\t 25 & 4 & 104 & 95.00 & 2375 & 17.5 & 70 & europe  & saab 99e                    \\\\\n",
       "\t 26 & 4 & 121 & 113.0 & 2234 & 12.5 & 70 & europe  & bmw 2002                    \\\\\n",
       "\t 21 & 6 & 199 & 90.00 & 2648 & 15.0 & 70 & america & amc gremlin                 \\\\\n",
       "\t 27 & 4 &  97 & 88.00 & 2130 & 14.5 & 71 & asia    & datsun pl510                \\\\\n",
       "\t 28 & 4 & 140 & 90.00 & 2264 & 15.5 & 71 & america & chevrolet vega 2300         \\\\\n",
       "\t 25 & 4 & 113 & 95.00 & 2228 & 14.0 & 71 & asia    & toyota corona               \\\\\n",
       "\t 25 & 4 &  98 & ?     & 2046 & 19.0 & 71 & america & ford pinto                  \\\\\n",
       "\t 19 & 6 & 232 & 100.0 & 2634 & 13.0 & 71 & america & amc gremlin                 \\\\\n",
       "\t ⋮ & ⋮ & ⋮ & ⋮ & ⋮ & ⋮ & ⋮ & ⋮ & ⋮\\\\\n",
       "\t 27 & 4 & 112 & 88.00 & 2640 & 18.6 & 82 & america & chevrolet cavalier wagon         \\\\\n",
       "\t 34 & 4 & 112 & 88.00 & 2395 & 18.0 & 82 & america & chevrolet cavalier 2-door        \\\\\n",
       "\t 31 & 4 & 112 & 85.00 & 2575 & 16.2 & 82 & america & pontiac j2000 se hatchback       \\\\\n",
       "\t 29 & 4 & 135 & 84.00 & 2525 & 16.0 & 82 & america & dodge aries se                   \\\\\n",
       "\t 27 & 4 & 151 & 90.00 & 2735 & 18.0 & 82 & america & pontiac phoenix                  \\\\\n",
       "\t 24 & 4 & 140 & 92.00 & 2865 & 16.4 & 82 & america & ford fairmont futura             \\\\\n",
       "\t 23 & 4 & 151 & ?     & 3035 & 20.5 & 82 & america & amc concord dl                   \\\\\n",
       "\t 36 & 4 & 105 & 74.00 & 1980 & 15.3 & 82 & europe  & volkswagen rabbit l              \\\\\n",
       "\t 37 & 4 &  91 & 68.00 & 2025 & 18.2 & 82 & asia    & mazda glc custom l               \\\\\n",
       "\t 31 & 4 &  91 & 68.00 & 1970 & 17.6 & 82 & asia    & mazda glc custom                 \\\\\n",
       "\t 38 & 4 & 105 & 63.00 & 2125 & 14.7 & 82 & america & plymouth horizon miser           \\\\\n",
       "\t 36 & 4 &  98 & 70.00 & 2125 & 17.3 & 82 & america & mercury lynx l                   \\\\\n",
       "\t 36 & 4 & 120 & 88.00 & 2160 & 14.5 & 82 & asia    & nissan stanza xe                 \\\\\n",
       "\t 36 & 4 & 107 & 75.00 & 2205 & 14.5 & 82 & asia    & honda accord                     \\\\\n",
       "\t 34 & 4 & 108 & 70.00 & 2245 & 16.9 & 82 & asia    & toyota corolla                   \\\\\n",
       "\t 38 & 4 &  91 & 67.00 & 1965 & 15.0 & 82 & asia    & honda civic                      \\\\\n",
       "\t 32 & 4 &  91 & 67.00 & 1965 & 15.7 & 82 & asia    & honda civic (auto)               \\\\\n",
       "\t 38 & 4 &  91 & 67.00 & 1995 & 16.2 & 82 & asia    & datsun 310 gx                    \\\\\n",
       "\t 25 & 6 & 181 & 110.0 & 2945 & 16.4 & 82 & america & buick century limited            \\\\\n",
       "\t 38 & 6 & 262 & 85.00 & 3015 & 17.0 & 82 & america & oldsmobile cutlass ciera (diesel)\\\\\n",
       "\t 26 & 4 & 156 & 92.00 & 2585 & 14.5 & 82 & america & chrysler lebaron medallion       \\\\\n",
       "\t 22 & 6 & 232 & 112.0 & 2835 & 14.7 & 82 & america & ford granada l                   \\\\\n",
       "\t 32 & 4 & 144 & 96.00 & 2665 & 13.9 & 82 & asia    & toyota celica gt                 \\\\\n",
       "\t 36 & 4 & 135 & 84.00 & 2370 & 13.0 & 82 & america & dodge charger 2.2                \\\\\n",
       "\t 27 & 4 & 151 & 90.00 & 2950 & 17.3 & 82 & america & chevrolet camaro                 \\\\\n",
       "\t 27 & 4 & 140 & 86.00 & 2790 & 15.6 & 82 & america & ford mustang gl                  \\\\\n",
       "\t 44 & 4 &  97 & 52.00 & 2130 & 24.6 & 82 & europe  & vw pickup                        \\\\\n",
       "\t 32 & 4 & 135 & 84.00 & 2295 & 11.6 & 82 & america & dodge rampage                    \\\\\n",
       "\t 28 & 4 & 120 & 79.00 & 2625 & 18.6 & 82 & america & ford ranger                      \\\\\n",
       "\t 31 & 4 & 119 & 82.00 & 2720 & 19.4 & 82 & america & chevy s-10                       \\\\\n",
       "\\end{tabular}\n"
      ],
      "text/markdown": [
       "\n",
       "A data.frame: 391 × 9\n",
       "\n",
       "| mpg &lt;dbl&gt; | cylinders &lt;int&gt; | displacement &lt;dbl&gt; | horsepower &lt;fct&gt; | weight &lt;int&gt; | acceleration &lt;dbl&gt; | model.year &lt;int&gt; | origin &lt;fct&gt; | car.name &lt;fct&gt; |\n",
       "|---|---|---|---|---|---|---|---|---|\n",
       "| 18 | 8 | 307 | 130.0 | 3504 | 12.0 | 70 | america | chevrolet chevelle malibu    |\n",
       "| 15 | 8 | 350 | 165.0 | 3693 | 11.5 | 70 | america | buick skylark 320            |\n",
       "| 18 | 8 | 318 | 150.0 | 3436 | 11.0 | 70 | america | plymouth satellite           |\n",
       "| 16 | 8 | 304 | 150.0 | 3433 | 12.0 | 70 | america | amc rebel sst                |\n",
       "| 17 | 8 | 302 | 140.0 | 3449 | 10.5 | 70 | america | ford torino                  |\n",
       "| 15 | 8 | 429 | 198.0 | 4341 | 10.0 | 70 | america | ford galaxie 500             |\n",
       "| 14 | 8 | 454 | 220.0 | 4354 |  9.0 | 70 | america | chevrolet impala             |\n",
       "| 14 | 8 | 440 | 215.0 | 4312 |  8.5 | 70 | america | plymouth fury iii            |\n",
       "| 14 | 8 | 455 | 225.0 | 4425 | 10.0 | 70 | america | pontiac catalina             |\n",
       "| 15 | 8 | 390 | 190.0 | 3850 |  8.5 | 70 | america | amc ambassador dpl           |\n",
       "| 15 | 8 | 383 | 170.0 | 3563 | 10.0 | 70 | america | dodge challenger se          |\n",
       "| 14 | 8 | 340 | 160.0 | 3609 |  8.0 | 70 | america | plymouth 'cuda 340           |\n",
       "| 15 | 8 | 400 | 150.0 | 3761 |  9.5 | 70 | america | chevrolet monte carlo        |\n",
       "| 14 | 8 | 455 | 225.0 | 3086 | 10.0 | 70 | america | buick estate wagon (sw)      |\n",
       "| 24 | 4 | 113 | 95.00 | 2372 | 15.0 | 70 | asia    | toyota corona mark ii        |\n",
       "| 22 | 6 | 198 | 95.00 | 2833 | 15.5 | 70 | america | plymouth duster              |\n",
       "| 18 | 6 | 199 | 97.00 | 2774 | 15.5 | 70 | america | amc hornet                   |\n",
       "| 21 | 6 | 200 | 85.00 | 2587 | 16.0 | 70 | america | ford maverick                |\n",
       "| 27 | 4 |  97 | 88.00 | 2130 | 14.5 | 70 | asia    | datsun pl510                 |\n",
       "| 26 | 4 |  97 | 46.00 | 1835 | 20.5 | 70 | europe  | volkswagen 1131 deluxe sedan |\n",
       "| 25 | 4 | 110 | 87.00 | 2672 | 17.5 | 70 | europe  | peugeot 504                  |\n",
       "| 24 | 4 | 107 | 90.00 | 2430 | 14.5 | 70 | europe  | audi 100 ls                  |\n",
       "| 25 | 4 | 104 | 95.00 | 2375 | 17.5 | 70 | europe  | saab 99e                     |\n",
       "| 26 | 4 | 121 | 113.0 | 2234 | 12.5 | 70 | europe  | bmw 2002                     |\n",
       "| 21 | 6 | 199 | 90.00 | 2648 | 15.0 | 70 | america | amc gremlin                  |\n",
       "| 27 | 4 |  97 | 88.00 | 2130 | 14.5 | 71 | asia    | datsun pl510                 |\n",
       "| 28 | 4 | 140 | 90.00 | 2264 | 15.5 | 71 | america | chevrolet vega 2300          |\n",
       "| 25 | 4 | 113 | 95.00 | 2228 | 14.0 | 71 | asia    | toyota corona                |\n",
       "| 25 | 4 |  98 | ?     | 2046 | 19.0 | 71 | america | ford pinto                   |\n",
       "| 19 | 6 | 232 | 100.0 | 2634 | 13.0 | 71 | america | amc gremlin                  |\n",
       "| ⋮ | ⋮ | ⋮ | ⋮ | ⋮ | ⋮ | ⋮ | ⋮ | ⋮ |\n",
       "| 27 | 4 | 112 | 88.00 | 2640 | 18.6 | 82 | america | chevrolet cavalier wagon          |\n",
       "| 34 | 4 | 112 | 88.00 | 2395 | 18.0 | 82 | america | chevrolet cavalier 2-door         |\n",
       "| 31 | 4 | 112 | 85.00 | 2575 | 16.2 | 82 | america | pontiac j2000 se hatchback        |\n",
       "| 29 | 4 | 135 | 84.00 | 2525 | 16.0 | 82 | america | dodge aries se                    |\n",
       "| 27 | 4 | 151 | 90.00 | 2735 | 18.0 | 82 | america | pontiac phoenix                   |\n",
       "| 24 | 4 | 140 | 92.00 | 2865 | 16.4 | 82 | america | ford fairmont futura              |\n",
       "| 23 | 4 | 151 | ?     | 3035 | 20.5 | 82 | america | amc concord dl                    |\n",
       "| 36 | 4 | 105 | 74.00 | 1980 | 15.3 | 82 | europe  | volkswagen rabbit l               |\n",
       "| 37 | 4 |  91 | 68.00 | 2025 | 18.2 | 82 | asia    | mazda glc custom l                |\n",
       "| 31 | 4 |  91 | 68.00 | 1970 | 17.6 | 82 | asia    | mazda glc custom                  |\n",
       "| 38 | 4 | 105 | 63.00 | 2125 | 14.7 | 82 | america | plymouth horizon miser            |\n",
       "| 36 | 4 |  98 | 70.00 | 2125 | 17.3 | 82 | america | mercury lynx l                    |\n",
       "| 36 | 4 | 120 | 88.00 | 2160 | 14.5 | 82 | asia    | nissan stanza xe                  |\n",
       "| 36 | 4 | 107 | 75.00 | 2205 | 14.5 | 82 | asia    | honda accord                      |\n",
       "| 34 | 4 | 108 | 70.00 | 2245 | 16.9 | 82 | asia    | toyota corolla                    |\n",
       "| 38 | 4 |  91 | 67.00 | 1965 | 15.0 | 82 | asia    | honda civic                       |\n",
       "| 32 | 4 |  91 | 67.00 | 1965 | 15.7 | 82 | asia    | honda civic (auto)                |\n",
       "| 38 | 4 |  91 | 67.00 | 1995 | 16.2 | 82 | asia    | datsun 310 gx                     |\n",
       "| 25 | 6 | 181 | 110.0 | 2945 | 16.4 | 82 | america | buick century limited             |\n",
       "| 38 | 6 | 262 | 85.00 | 3015 | 17.0 | 82 | america | oldsmobile cutlass ciera (diesel) |\n",
       "| 26 | 4 | 156 | 92.00 | 2585 | 14.5 | 82 | america | chrysler lebaron medallion        |\n",
       "| 22 | 6 | 232 | 112.0 | 2835 | 14.7 | 82 | america | ford granada l                    |\n",
       "| 32 | 4 | 144 | 96.00 | 2665 | 13.9 | 82 | asia    | toyota celica gt                  |\n",
       "| 36 | 4 | 135 | 84.00 | 2370 | 13.0 | 82 | america | dodge charger 2.2                 |\n",
       "| 27 | 4 | 151 | 90.00 | 2950 | 17.3 | 82 | america | chevrolet camaro                  |\n",
       "| 27 | 4 | 140 | 86.00 | 2790 | 15.6 | 82 | america | ford mustang gl                   |\n",
       "| 44 | 4 |  97 | 52.00 | 2130 | 24.6 | 82 | europe  | vw pickup                         |\n",
       "| 32 | 4 | 135 | 84.00 | 2295 | 11.6 | 82 | america | dodge rampage                     |\n",
       "| 28 | 4 | 120 | 79.00 | 2625 | 18.6 | 82 | america | ford ranger                       |\n",
       "| 31 | 4 | 119 | 82.00 | 2720 | 19.4 | 82 | america | chevy s-10                        |\n",
       "\n"
      ],
      "text/plain": [
       "    mpg cylinders displacement horsepower weight acceleration model.year\n",
       "1   18  8         307          130.0      3504   12.0         70        \n",
       "2   15  8         350          165.0      3693   11.5         70        \n",
       "3   18  8         318          150.0      3436   11.0         70        \n",
       "4   16  8         304          150.0      3433   12.0         70        \n",
       "5   17  8         302          140.0      3449   10.5         70        \n",
       "6   15  8         429          198.0      4341   10.0         70        \n",
       "7   14  8         454          220.0      4354    9.0         70        \n",
       "8   14  8         440          215.0      4312    8.5         70        \n",
       "9   14  8         455          225.0      4425   10.0         70        \n",
       "10  15  8         390          190.0      3850    8.5         70        \n",
       "11  15  8         383          170.0      3563   10.0         70        \n",
       "12  14  8         340          160.0      3609    8.0         70        \n",
       "13  15  8         400          150.0      3761    9.5         70        \n",
       "14  14  8         455          225.0      3086   10.0         70        \n",
       "15  24  4         113          95.00      2372   15.0         70        \n",
       "16  22  6         198          95.00      2833   15.5         70        \n",
       "17  18  6         199          97.00      2774   15.5         70        \n",
       "18  21  6         200          85.00      2587   16.0         70        \n",
       "19  27  4          97          88.00      2130   14.5         70        \n",
       "20  26  4          97          46.00      1835   20.5         70        \n",
       "21  25  4         110          87.00      2672   17.5         70        \n",
       "22  24  4         107          90.00      2430   14.5         70        \n",
       "23  25  4         104          95.00      2375   17.5         70        \n",
       "24  26  4         121          113.0      2234   12.5         70        \n",
       "25  21  6         199          90.00      2648   15.0         70        \n",
       "26  27  4          97          88.00      2130   14.5         71        \n",
       "27  28  4         140          90.00      2264   15.5         71        \n",
       "28  25  4         113          95.00      2228   14.0         71        \n",
       "29  25  4          98          ?          2046   19.0         71        \n",
       "30  19  6         232          100.0      2634   13.0         71        \n",
       "⋮   ⋮   ⋮         ⋮            ⋮          ⋮      ⋮            ⋮         \n",
       "362 27  4         112          88.00      2640   18.6         82        \n",
       "363 34  4         112          88.00      2395   18.0         82        \n",
       "364 31  4         112          85.00      2575   16.2         82        \n",
       "365 29  4         135          84.00      2525   16.0         82        \n",
       "366 27  4         151          90.00      2735   18.0         82        \n",
       "367 24  4         140          92.00      2865   16.4         82        \n",
       "368 23  4         151          ?          3035   20.5         82        \n",
       "369 36  4         105          74.00      1980   15.3         82        \n",
       "370 37  4          91          68.00      2025   18.2         82        \n",
       "371 31  4          91          68.00      1970   17.6         82        \n",
       "372 38  4         105          63.00      2125   14.7         82        \n",
       "373 36  4          98          70.00      2125   17.3         82        \n",
       "374 36  4         120          88.00      2160   14.5         82        \n",
       "375 36  4         107          75.00      2205   14.5         82        \n",
       "376 34  4         108          70.00      2245   16.9         82        \n",
       "377 38  4          91          67.00      1965   15.0         82        \n",
       "378 32  4          91          67.00      1965   15.7         82        \n",
       "379 38  4          91          67.00      1995   16.2         82        \n",
       "380 25  6         181          110.0      2945   16.4         82        \n",
       "381 38  6         262          85.00      3015   17.0         82        \n",
       "382 26  4         156          92.00      2585   14.5         82        \n",
       "383 22  6         232          112.0      2835   14.7         82        \n",
       "384 32  4         144          96.00      2665   13.9         82        \n",
       "385 36  4         135          84.00      2370   13.0         82        \n",
       "386 27  4         151          90.00      2950   17.3         82        \n",
       "387 27  4         140          86.00      2790   15.6         82        \n",
       "388 44  4          97          52.00      2130   24.6         82        \n",
       "389 32  4         135          84.00      2295   11.6         82        \n",
       "390 28  4         120          79.00      2625   18.6         82        \n",
       "391 31  4         119          82.00      2720   19.4         82        \n",
       "    origin  car.name                         \n",
       "1   america chevrolet chevelle malibu        \n",
       "2   america buick skylark 320                \n",
       "3   america plymouth satellite               \n",
       "4   america amc rebel sst                    \n",
       "5   america ford torino                      \n",
       "6   america ford galaxie 500                 \n",
       "7   america chevrolet impala                 \n",
       "8   america plymouth fury iii                \n",
       "9   america pontiac catalina                 \n",
       "10  america amc ambassador dpl               \n",
       "11  america dodge challenger se              \n",
       "12  america plymouth 'cuda 340               \n",
       "13  america chevrolet monte carlo            \n",
       "14  america buick estate wagon (sw)          \n",
       "15  asia    toyota corona mark ii            \n",
       "16  america plymouth duster                  \n",
       "17  america amc hornet                       \n",
       "18  america ford maverick                    \n",
       "19  asia    datsun pl510                     \n",
       "20  europe  volkswagen 1131 deluxe sedan     \n",
       "21  europe  peugeot 504                      \n",
       "22  europe  audi 100 ls                      \n",
       "23  europe  saab 99e                         \n",
       "24  europe  bmw 2002                         \n",
       "25  america amc gremlin                      \n",
       "26  asia    datsun pl510                     \n",
       "27  america chevrolet vega 2300              \n",
       "28  asia    toyota corona                    \n",
       "29  america ford pinto                       \n",
       "30  america amc gremlin                      \n",
       "⋮   ⋮       ⋮                                \n",
       "362 america chevrolet cavalier wagon         \n",
       "363 america chevrolet cavalier 2-door        \n",
       "364 america pontiac j2000 se hatchback       \n",
       "365 america dodge aries se                   \n",
       "366 america pontiac phoenix                  \n",
       "367 america ford fairmont futura             \n",
       "368 america amc concord dl                   \n",
       "369 europe  volkswagen rabbit l              \n",
       "370 asia    mazda glc custom l               \n",
       "371 asia    mazda glc custom                 \n",
       "372 america plymouth horizon miser           \n",
       "373 america mercury lynx l                   \n",
       "374 asia    nissan stanza xe                 \n",
       "375 asia    honda accord                     \n",
       "376 asia    toyota corolla                   \n",
       "377 asia    honda civic                      \n",
       "378 asia    honda civic (auto)               \n",
       "379 asia    datsun 310 gx                    \n",
       "380 america buick century limited            \n",
       "381 america oldsmobile cutlass ciera (diesel)\n",
       "382 america chrysler lebaron medallion       \n",
       "383 america ford granada l                   \n",
       "384 asia    toyota celica gt                 \n",
       "385 america dodge charger 2.2                \n",
       "386 america chevrolet camaro                 \n",
       "387 america ford mustang gl                  \n",
       "388 europe  vw pickup                        \n",
       "389 america dodge rampage                    \n",
       "390 america ford ranger                      \n",
       "391 america chevy s-10                       "
      ]
     },
     "metadata": {},
     "output_type": "display_data"
    },
    {
     "data": {
      "text/html": [
       "<table>\n",
       "<caption>A data.frame: 69 × 9</caption>\n",
       "<thead>\n",
       "\t<tr><th scope=col>mpg</th><th scope=col>cylinders</th><th scope=col>displacement</th><th scope=col>horsepower</th><th scope=col>weight</th><th scope=col>acceleration</th><th scope=col>model.year</th><th scope=col>origin</th><th scope=col>car.name</th></tr>\n",
       "\t<tr><th scope=col>&lt;dbl&gt;</th><th scope=col>&lt;int&gt;</th><th scope=col>&lt;dbl&gt;</th><th scope=col>&lt;fct&gt;</th><th scope=col>&lt;int&gt;</th><th scope=col>&lt;dbl&gt;</th><th scope=col>&lt;int&gt;</th><th scope=col>&lt;fct&gt;</th><th scope=col>&lt;fct&gt;</th></tr>\n",
       "</thead>\n",
       "<tbody>\n",
       "\t<tr><td>15</td><td>8</td><td>350</td><td>165.0</td><td>3693</td><td>11.5</td><td>70</td><td>america</td><td>buick skylark 320         </td></tr>\n",
       "\t<tr><td>15</td><td>8</td><td>429</td><td>198.0</td><td>4341</td><td>10.0</td><td>70</td><td>america</td><td>ford galaxie 500          </td></tr>\n",
       "\t<tr><td>14</td><td>8</td><td>454</td><td>220.0</td><td>4354</td><td> 9.0</td><td>70</td><td>america</td><td>chevrolet impala          </td></tr>\n",
       "\t<tr><td>14</td><td>8</td><td>440</td><td>215.0</td><td>4312</td><td> 8.5</td><td>70</td><td>america</td><td>plymouth fury iii         </td></tr>\n",
       "\t<tr><td>14</td><td>8</td><td>455</td><td>225.0</td><td>4425</td><td>10.0</td><td>70</td><td>america</td><td>pontiac catalina          </td></tr>\n",
       "\t<tr><td>15</td><td>8</td><td>390</td><td>190.0</td><td>3850</td><td> 8.5</td><td>70</td><td>america</td><td>amc ambassador dpl        </td></tr>\n",
       "\t<tr><td>15</td><td>8</td><td>383</td><td>170.0</td><td>3563</td><td>10.0</td><td>70</td><td>america</td><td>dodge challenger se       </td></tr>\n",
       "\t<tr><td>14</td><td>8</td><td>340</td><td>160.0</td><td>3609</td><td> 8.0</td><td>70</td><td>america</td><td>plymouth 'cuda 340        </td></tr>\n",
       "\t<tr><td>15</td><td>8</td><td>400</td><td>150.0</td><td>3761</td><td> 9.5</td><td>70</td><td>america</td><td>chevrolet monte carlo     </td></tr>\n",
       "\t<tr><td>14</td><td>8</td><td>455</td><td>225.0</td><td>3086</td><td>10.0</td><td>70</td><td>america</td><td>buick estate wagon (sw)   </td></tr>\n",
       "\t<tr><td>10</td><td>8</td><td>360</td><td>215.0</td><td>4615</td><td>14.0</td><td>70</td><td>america</td><td>ford f250                 </td></tr>\n",
       "\t<tr><td>10</td><td>8</td><td>307</td><td>200.0</td><td>4376</td><td>15.0</td><td>70</td><td>america</td><td>chevy c20                 </td></tr>\n",
       "\t<tr><td>11</td><td>8</td><td>318</td><td>210.0</td><td>4382</td><td>13.5</td><td>70</td><td>america</td><td>dodge d200                </td></tr>\n",
       "\t<tr><td> 9</td><td>8</td><td>304</td><td>193.0</td><td>4732</td><td>18.5</td><td>70</td><td>america</td><td>hi 1200d                  </td></tr>\n",
       "\t<tr><td>14</td><td>8</td><td>350</td><td>165.0</td><td>4209</td><td>12.0</td><td>71</td><td>america</td><td>chevrolet impala          </td></tr>\n",
       "\t<tr><td>14</td><td>8</td><td>400</td><td>175.0</td><td>4464</td><td>11.5</td><td>71</td><td>america</td><td>pontiac catalina brougham </td></tr>\n",
       "\t<tr><td>14</td><td>8</td><td>351</td><td>153.0</td><td>4154</td><td>13.5</td><td>71</td><td>america</td><td>ford galaxie 500          </td></tr>\n",
       "\t<tr><td>14</td><td>8</td><td>318</td><td>150.0</td><td>4096</td><td>13.0</td><td>71</td><td>america</td><td>plymouth fury iii         </td></tr>\n",
       "\t<tr><td>12</td><td>8</td><td>383</td><td>180.0</td><td>4955</td><td>11.5</td><td>71</td><td>america</td><td>dodge monaco (sw)         </td></tr>\n",
       "\t<tr><td>13</td><td>8</td><td>400</td><td>170.0</td><td>4746</td><td>12.0</td><td>71</td><td>america</td><td>ford country squire (sw)  </td></tr>\n",
       "\t<tr><td>13</td><td>8</td><td>400</td><td>175.0</td><td>5140</td><td>12.0</td><td>71</td><td>america</td><td>pontiac safari (sw)       </td></tr>\n",
       "\t<tr><td>13</td><td>8</td><td>350</td><td>165.0</td><td>4274</td><td>12.0</td><td>72</td><td>america</td><td>chevrolet impala          </td></tr>\n",
       "\t<tr><td>14</td><td>8</td><td>400</td><td>175.0</td><td>4385</td><td>12.0</td><td>72</td><td>america</td><td>pontiac catalina          </td></tr>\n",
       "\t<tr><td>15</td><td>8</td><td>318</td><td>150.0</td><td>4135</td><td>13.5</td><td>72</td><td>america</td><td>plymouth fury iii         </td></tr>\n",
       "\t<tr><td>14</td><td>8</td><td>351</td><td>153.0</td><td>4129</td><td>13.0</td><td>72</td><td>america</td><td>ford galaxie 500          </td></tr>\n",
       "\t<tr><td>11</td><td>8</td><td>429</td><td>208.0</td><td>4633</td><td>11.0</td><td>72</td><td>america</td><td>mercury marquis           </td></tr>\n",
       "\t<tr><td>13</td><td>8</td><td>350</td><td>155.0</td><td>4502</td><td>13.5</td><td>72</td><td>america</td><td>buick lesabre custom      </td></tr>\n",
       "\t<tr><td>12</td><td>8</td><td>350</td><td>160.0</td><td>4456</td><td>13.5</td><td>72</td><td>america</td><td>oldsmobile delta 88 royale</td></tr>\n",
       "\t<tr><td>13</td><td>8</td><td>400</td><td>190.0</td><td>4422</td><td>12.5</td><td>72</td><td>america</td><td>chrysler newport royal    </td></tr>\n",
       "\t<tr><td>15</td><td>8</td><td>304</td><td>150.0</td><td>3892</td><td>12.5</td><td>72</td><td>america</td><td>amc matador (sw)          </td></tr>\n",
       "\t<tr><td>⋮</td><td>⋮</td><td>⋮</td><td>⋮</td><td>⋮</td><td>⋮</td><td>⋮</td><td>⋮</td><td>⋮</td></tr>\n",
       "\t<tr><td>13.0</td><td>8</td><td>400</td><td>150.0</td><td>4464</td><td>12.0</td><td>73</td><td>america</td><td>chevrolet caprice classic   </td></tr>\n",
       "\t<tr><td>13.0</td><td>8</td><td>351</td><td>158.0</td><td>4363</td><td>13.0</td><td>73</td><td>america</td><td>ford ltd                    </td></tr>\n",
       "\t<tr><td>14.0</td><td>8</td><td>318</td><td>150.0</td><td>4237</td><td>14.5</td><td>73</td><td>america</td><td>plymouth fury gran sedan    </td></tr>\n",
       "\t<tr><td>13.0</td><td>8</td><td>440</td><td>215.0</td><td>4735</td><td>11.0</td><td>73</td><td>america</td><td>chrysler new yorker brougham</td></tr>\n",
       "\t<tr><td>12.0</td><td>8</td><td>455</td><td>225.0</td><td>4951</td><td>11.0</td><td>73</td><td>america</td><td>buick electra 225 custom    </td></tr>\n",
       "\t<tr><td>13.0</td><td>8</td><td>360</td><td>175.0</td><td>3821</td><td>11.0</td><td>73</td><td>america</td><td>amc ambassador brougham     </td></tr>\n",
       "\t<tr><td>11.0</td><td>8</td><td>400</td><td>150.0</td><td>4997</td><td>14.0</td><td>73</td><td>america</td><td>chevrolet impala            </td></tr>\n",
       "\t<tr><td>12.0</td><td>8</td><td>400</td><td>167.0</td><td>4906</td><td>12.5</td><td>73</td><td>america</td><td>ford country                </td></tr>\n",
       "\t<tr><td>13.0</td><td>8</td><td>360</td><td>170.0</td><td>4654</td><td>13.0</td><td>73</td><td>america</td><td>plymouth custom suburb      </td></tr>\n",
       "\t<tr><td>12.0</td><td>8</td><td>350</td><td>180.0</td><td>4499</td><td>12.5</td><td>73</td><td>america</td><td>oldsmobile vista cruiser    </td></tr>\n",
       "\t<tr><td>15.0</td><td>8</td><td>350</td><td>145.0</td><td>4082</td><td>13.0</td><td>73</td><td>america</td><td>chevrolet monte carlo s     </td></tr>\n",
       "\t<tr><td>15.0</td><td>8</td><td>318</td><td>150.0</td><td>3399</td><td>11.0</td><td>73</td><td>america</td><td>dodge dart custom           </td></tr>\n",
       "\t<tr><td>11.0</td><td>8</td><td>350</td><td>180.0</td><td>3664</td><td>11.0</td><td>73</td><td>america</td><td>oldsmobile omega            </td></tr>\n",
       "\t<tr><td>15.0</td><td>6</td><td>250</td><td>100.0</td><td>3336</td><td>17.0</td><td>74</td><td>america</td><td>chevrolet nova              </td></tr>\n",
       "\t<tr><td>13.0</td><td>8</td><td>350</td><td>150.0</td><td>4699</td><td>14.5</td><td>74</td><td>america</td><td>buick century luxus (sw)    </td></tr>\n",
       "\t<tr><td>14.0</td><td>8</td><td>318</td><td>150.0</td><td>4457</td><td>13.5</td><td>74</td><td>america</td><td>dodge coronet custom (sw)   </td></tr>\n",
       "\t<tr><td>14.0</td><td>8</td><td>302</td><td>140.0</td><td>4638</td><td>16.0</td><td>74</td><td>america</td><td>ford gran torino (sw)       </td></tr>\n",
       "\t<tr><td>14.0</td><td>8</td><td>304</td><td>150.0</td><td>4257</td><td>15.5</td><td>74</td><td>america</td><td>amc matador (sw)            </td></tr>\n",
       "\t<tr><td>15.0</td><td>6</td><td>250</td><td>72.00</td><td>3432</td><td>21.0</td><td>75</td><td>america</td><td>mercury monarch             </td></tr>\n",
       "\t<tr><td>15.0</td><td>6</td><td>250</td><td>72.00</td><td>3158</td><td>19.5</td><td>75</td><td>america</td><td>ford maverick               </td></tr>\n",
       "\t<tr><td>15.0</td><td>8</td><td>350</td><td>145.0</td><td>4440</td><td>14.0</td><td>75</td><td>america</td><td>chevrolet bel air           </td></tr>\n",
       "\t<tr><td>14.0</td><td>8</td><td>351</td><td>148.0</td><td>4657</td><td>13.5</td><td>75</td><td>america</td><td>ford ltd                    </td></tr>\n",
       "\t<tr><td>15.0</td><td>6</td><td>258</td><td>110.0</td><td>3730</td><td>19.0</td><td>75</td><td>america</td><td>amc matador                 </td></tr>\n",
       "\t<tr><td>13.0</td><td>8</td><td>302</td><td>129.0</td><td>3169</td><td>12.0</td><td>75</td><td>america</td><td>ford mustang ii             </td></tr>\n",
       "\t<tr><td>14.5</td><td>8</td><td>351</td><td>152.0</td><td>4215</td><td>12.8</td><td>76</td><td>america</td><td>ford gran torino            </td></tr>\n",
       "\t<tr><td>13.0</td><td>8</td><td>318</td><td>150.0</td><td>3940</td><td>13.2</td><td>76</td><td>america</td><td>plymouth volare premier v8  </td></tr>\n",
       "\t<tr><td>13.0</td><td>8</td><td>350</td><td>145.0</td><td>4055</td><td>12.0</td><td>76</td><td>america</td><td>chevy c10                   </td></tr>\n",
       "\t<tr><td>13.0</td><td>8</td><td>302</td><td>130.0</td><td>3870</td><td>15.0</td><td>76</td><td>america</td><td>ford f108                   </td></tr>\n",
       "\t<tr><td>13.0</td><td>8</td><td>318</td><td>150.0</td><td>3755</td><td>14.0</td><td>76</td><td>america</td><td>dodge d100                  </td></tr>\n",
       "\t<tr><td>15.0</td><td>8</td><td>302</td><td>130.0</td><td>4295</td><td>14.9</td><td>77</td><td>america</td><td>mercury cougar brougham     </td></tr>\n",
       "</tbody>\n",
       "</table>\n"
      ],
      "text/latex": [
       "A data.frame: 69 × 9\n",
       "\\begin{tabular}{r|lllllllll}\n",
       " mpg & cylinders & displacement & horsepower & weight & acceleration & model.year & origin & car.name\\\\\n",
       " <dbl> & <int> & <dbl> & <fct> & <int> & <dbl> & <int> & <fct> & <fct>\\\\\n",
       "\\hline\n",
       "\t 15 & 8 & 350 & 165.0 & 3693 & 11.5 & 70 & america & buick skylark 320         \\\\\n",
       "\t 15 & 8 & 429 & 198.0 & 4341 & 10.0 & 70 & america & ford galaxie 500          \\\\\n",
       "\t 14 & 8 & 454 & 220.0 & 4354 &  9.0 & 70 & america & chevrolet impala          \\\\\n",
       "\t 14 & 8 & 440 & 215.0 & 4312 &  8.5 & 70 & america & plymouth fury iii         \\\\\n",
       "\t 14 & 8 & 455 & 225.0 & 4425 & 10.0 & 70 & america & pontiac catalina          \\\\\n",
       "\t 15 & 8 & 390 & 190.0 & 3850 &  8.5 & 70 & america & amc ambassador dpl        \\\\\n",
       "\t 15 & 8 & 383 & 170.0 & 3563 & 10.0 & 70 & america & dodge challenger se       \\\\\n",
       "\t 14 & 8 & 340 & 160.0 & 3609 &  8.0 & 70 & america & plymouth 'cuda 340        \\\\\n",
       "\t 15 & 8 & 400 & 150.0 & 3761 &  9.5 & 70 & america & chevrolet monte carlo     \\\\\n",
       "\t 14 & 8 & 455 & 225.0 & 3086 & 10.0 & 70 & america & buick estate wagon (sw)   \\\\\n",
       "\t 10 & 8 & 360 & 215.0 & 4615 & 14.0 & 70 & america & ford f250                 \\\\\n",
       "\t 10 & 8 & 307 & 200.0 & 4376 & 15.0 & 70 & america & chevy c20                 \\\\\n",
       "\t 11 & 8 & 318 & 210.0 & 4382 & 13.5 & 70 & america & dodge d200                \\\\\n",
       "\t  9 & 8 & 304 & 193.0 & 4732 & 18.5 & 70 & america & hi 1200d                  \\\\\n",
       "\t 14 & 8 & 350 & 165.0 & 4209 & 12.0 & 71 & america & chevrolet impala          \\\\\n",
       "\t 14 & 8 & 400 & 175.0 & 4464 & 11.5 & 71 & america & pontiac catalina brougham \\\\\n",
       "\t 14 & 8 & 351 & 153.0 & 4154 & 13.5 & 71 & america & ford galaxie 500          \\\\\n",
       "\t 14 & 8 & 318 & 150.0 & 4096 & 13.0 & 71 & america & plymouth fury iii         \\\\\n",
       "\t 12 & 8 & 383 & 180.0 & 4955 & 11.5 & 71 & america & dodge monaco (sw)         \\\\\n",
       "\t 13 & 8 & 400 & 170.0 & 4746 & 12.0 & 71 & america & ford country squire (sw)  \\\\\n",
       "\t 13 & 8 & 400 & 175.0 & 5140 & 12.0 & 71 & america & pontiac safari (sw)       \\\\\n",
       "\t 13 & 8 & 350 & 165.0 & 4274 & 12.0 & 72 & america & chevrolet impala          \\\\\n",
       "\t 14 & 8 & 400 & 175.0 & 4385 & 12.0 & 72 & america & pontiac catalina          \\\\\n",
       "\t 15 & 8 & 318 & 150.0 & 4135 & 13.5 & 72 & america & plymouth fury iii         \\\\\n",
       "\t 14 & 8 & 351 & 153.0 & 4129 & 13.0 & 72 & america & ford galaxie 500          \\\\\n",
       "\t 11 & 8 & 429 & 208.0 & 4633 & 11.0 & 72 & america & mercury marquis           \\\\\n",
       "\t 13 & 8 & 350 & 155.0 & 4502 & 13.5 & 72 & america & buick lesabre custom      \\\\\n",
       "\t 12 & 8 & 350 & 160.0 & 4456 & 13.5 & 72 & america & oldsmobile delta 88 royale\\\\\n",
       "\t 13 & 8 & 400 & 190.0 & 4422 & 12.5 & 72 & america & chrysler newport royal    \\\\\n",
       "\t 15 & 8 & 304 & 150.0 & 3892 & 12.5 & 72 & america & amc matador (sw)          \\\\\n",
       "\t ⋮ & ⋮ & ⋮ & ⋮ & ⋮ & ⋮ & ⋮ & ⋮ & ⋮\\\\\n",
       "\t 13.0 & 8 & 400 & 150.0 & 4464 & 12.0 & 73 & america & chevrolet caprice classic   \\\\\n",
       "\t 13.0 & 8 & 351 & 158.0 & 4363 & 13.0 & 73 & america & ford ltd                    \\\\\n",
       "\t 14.0 & 8 & 318 & 150.0 & 4237 & 14.5 & 73 & america & plymouth fury gran sedan    \\\\\n",
       "\t 13.0 & 8 & 440 & 215.0 & 4735 & 11.0 & 73 & america & chrysler new yorker brougham\\\\\n",
       "\t 12.0 & 8 & 455 & 225.0 & 4951 & 11.0 & 73 & america & buick electra 225 custom    \\\\\n",
       "\t 13.0 & 8 & 360 & 175.0 & 3821 & 11.0 & 73 & america & amc ambassador brougham     \\\\\n",
       "\t 11.0 & 8 & 400 & 150.0 & 4997 & 14.0 & 73 & america & chevrolet impala            \\\\\n",
       "\t 12.0 & 8 & 400 & 167.0 & 4906 & 12.5 & 73 & america & ford country                \\\\\n",
       "\t 13.0 & 8 & 360 & 170.0 & 4654 & 13.0 & 73 & america & plymouth custom suburb      \\\\\n",
       "\t 12.0 & 8 & 350 & 180.0 & 4499 & 12.5 & 73 & america & oldsmobile vista cruiser    \\\\\n",
       "\t 15.0 & 8 & 350 & 145.0 & 4082 & 13.0 & 73 & america & chevrolet monte carlo s     \\\\\n",
       "\t 15.0 & 8 & 318 & 150.0 & 3399 & 11.0 & 73 & america & dodge dart custom           \\\\\n",
       "\t 11.0 & 8 & 350 & 180.0 & 3664 & 11.0 & 73 & america & oldsmobile omega            \\\\\n",
       "\t 15.0 & 6 & 250 & 100.0 & 3336 & 17.0 & 74 & america & chevrolet nova              \\\\\n",
       "\t 13.0 & 8 & 350 & 150.0 & 4699 & 14.5 & 74 & america & buick century luxus (sw)    \\\\\n",
       "\t 14.0 & 8 & 318 & 150.0 & 4457 & 13.5 & 74 & america & dodge coronet custom (sw)   \\\\\n",
       "\t 14.0 & 8 & 302 & 140.0 & 4638 & 16.0 & 74 & america & ford gran torino (sw)       \\\\\n",
       "\t 14.0 & 8 & 304 & 150.0 & 4257 & 15.5 & 74 & america & amc matador (sw)            \\\\\n",
       "\t 15.0 & 6 & 250 & 72.00 & 3432 & 21.0 & 75 & america & mercury monarch             \\\\\n",
       "\t 15.0 & 6 & 250 & 72.00 & 3158 & 19.5 & 75 & america & ford maverick               \\\\\n",
       "\t 15.0 & 8 & 350 & 145.0 & 4440 & 14.0 & 75 & america & chevrolet bel air           \\\\\n",
       "\t 14.0 & 8 & 351 & 148.0 & 4657 & 13.5 & 75 & america & ford ltd                    \\\\\n",
       "\t 15.0 & 6 & 258 & 110.0 & 3730 & 19.0 & 75 & america & amc matador                 \\\\\n",
       "\t 13.0 & 8 & 302 & 129.0 & 3169 & 12.0 & 75 & america & ford mustang ii             \\\\\n",
       "\t 14.5 & 8 & 351 & 152.0 & 4215 & 12.8 & 76 & america & ford gran torino            \\\\\n",
       "\t 13.0 & 8 & 318 & 150.0 & 3940 & 13.2 & 76 & america & plymouth volare premier v8  \\\\\n",
       "\t 13.0 & 8 & 350 & 145.0 & 4055 & 12.0 & 76 & america & chevy c10                   \\\\\n",
       "\t 13.0 & 8 & 302 & 130.0 & 3870 & 15.0 & 76 & america & ford f108                   \\\\\n",
       "\t 13.0 & 8 & 318 & 150.0 & 3755 & 14.0 & 76 & america & dodge d100                  \\\\\n",
       "\t 15.0 & 8 & 302 & 130.0 & 4295 & 14.9 & 77 & america & mercury cougar brougham     \\\\\n",
       "\\end{tabular}\n"
      ],
      "text/markdown": [
       "\n",
       "A data.frame: 69 × 9\n",
       "\n",
       "| mpg &lt;dbl&gt; | cylinders &lt;int&gt; | displacement &lt;dbl&gt; | horsepower &lt;fct&gt; | weight &lt;int&gt; | acceleration &lt;dbl&gt; | model.year &lt;int&gt; | origin &lt;fct&gt; | car.name &lt;fct&gt; |\n",
       "|---|---|---|---|---|---|---|---|---|\n",
       "| 15 | 8 | 350 | 165.0 | 3693 | 11.5 | 70 | america | buick skylark 320          |\n",
       "| 15 | 8 | 429 | 198.0 | 4341 | 10.0 | 70 | america | ford galaxie 500           |\n",
       "| 14 | 8 | 454 | 220.0 | 4354 |  9.0 | 70 | america | chevrolet impala           |\n",
       "| 14 | 8 | 440 | 215.0 | 4312 |  8.5 | 70 | america | plymouth fury iii          |\n",
       "| 14 | 8 | 455 | 225.0 | 4425 | 10.0 | 70 | america | pontiac catalina           |\n",
       "| 15 | 8 | 390 | 190.0 | 3850 |  8.5 | 70 | america | amc ambassador dpl         |\n",
       "| 15 | 8 | 383 | 170.0 | 3563 | 10.0 | 70 | america | dodge challenger se        |\n",
       "| 14 | 8 | 340 | 160.0 | 3609 |  8.0 | 70 | america | plymouth 'cuda 340         |\n",
       "| 15 | 8 | 400 | 150.0 | 3761 |  9.5 | 70 | america | chevrolet monte carlo      |\n",
       "| 14 | 8 | 455 | 225.0 | 3086 | 10.0 | 70 | america | buick estate wagon (sw)    |\n",
       "| 10 | 8 | 360 | 215.0 | 4615 | 14.0 | 70 | america | ford f250                  |\n",
       "| 10 | 8 | 307 | 200.0 | 4376 | 15.0 | 70 | america | chevy c20                  |\n",
       "| 11 | 8 | 318 | 210.0 | 4382 | 13.5 | 70 | america | dodge d200                 |\n",
       "|  9 | 8 | 304 | 193.0 | 4732 | 18.5 | 70 | america | hi 1200d                   |\n",
       "| 14 | 8 | 350 | 165.0 | 4209 | 12.0 | 71 | america | chevrolet impala           |\n",
       "| 14 | 8 | 400 | 175.0 | 4464 | 11.5 | 71 | america | pontiac catalina brougham  |\n",
       "| 14 | 8 | 351 | 153.0 | 4154 | 13.5 | 71 | america | ford galaxie 500           |\n",
       "| 14 | 8 | 318 | 150.0 | 4096 | 13.0 | 71 | america | plymouth fury iii          |\n",
       "| 12 | 8 | 383 | 180.0 | 4955 | 11.5 | 71 | america | dodge monaco (sw)          |\n",
       "| 13 | 8 | 400 | 170.0 | 4746 | 12.0 | 71 | america | ford country squire (sw)   |\n",
       "| 13 | 8 | 400 | 175.0 | 5140 | 12.0 | 71 | america | pontiac safari (sw)        |\n",
       "| 13 | 8 | 350 | 165.0 | 4274 | 12.0 | 72 | america | chevrolet impala           |\n",
       "| 14 | 8 | 400 | 175.0 | 4385 | 12.0 | 72 | america | pontiac catalina           |\n",
       "| 15 | 8 | 318 | 150.0 | 4135 | 13.5 | 72 | america | plymouth fury iii          |\n",
       "| 14 | 8 | 351 | 153.0 | 4129 | 13.0 | 72 | america | ford galaxie 500           |\n",
       "| 11 | 8 | 429 | 208.0 | 4633 | 11.0 | 72 | america | mercury marquis            |\n",
       "| 13 | 8 | 350 | 155.0 | 4502 | 13.5 | 72 | america | buick lesabre custom       |\n",
       "| 12 | 8 | 350 | 160.0 | 4456 | 13.5 | 72 | america | oldsmobile delta 88 royale |\n",
       "| 13 | 8 | 400 | 190.0 | 4422 | 12.5 | 72 | america | chrysler newport royal     |\n",
       "| 15 | 8 | 304 | 150.0 | 3892 | 12.5 | 72 | america | amc matador (sw)           |\n",
       "| ⋮ | ⋮ | ⋮ | ⋮ | ⋮ | ⋮ | ⋮ | ⋮ | ⋮ |\n",
       "| 13.0 | 8 | 400 | 150.0 | 4464 | 12.0 | 73 | america | chevrolet caprice classic    |\n",
       "| 13.0 | 8 | 351 | 158.0 | 4363 | 13.0 | 73 | america | ford ltd                     |\n",
       "| 14.0 | 8 | 318 | 150.0 | 4237 | 14.5 | 73 | america | plymouth fury gran sedan     |\n",
       "| 13.0 | 8 | 440 | 215.0 | 4735 | 11.0 | 73 | america | chrysler new yorker brougham |\n",
       "| 12.0 | 8 | 455 | 225.0 | 4951 | 11.0 | 73 | america | buick electra 225 custom     |\n",
       "| 13.0 | 8 | 360 | 175.0 | 3821 | 11.0 | 73 | america | amc ambassador brougham      |\n",
       "| 11.0 | 8 | 400 | 150.0 | 4997 | 14.0 | 73 | america | chevrolet impala             |\n",
       "| 12.0 | 8 | 400 | 167.0 | 4906 | 12.5 | 73 | america | ford country                 |\n",
       "| 13.0 | 8 | 360 | 170.0 | 4654 | 13.0 | 73 | america | plymouth custom suburb       |\n",
       "| 12.0 | 8 | 350 | 180.0 | 4499 | 12.5 | 73 | america | oldsmobile vista cruiser     |\n",
       "| 15.0 | 8 | 350 | 145.0 | 4082 | 13.0 | 73 | america | chevrolet monte carlo s      |\n",
       "| 15.0 | 8 | 318 | 150.0 | 3399 | 11.0 | 73 | america | dodge dart custom            |\n",
       "| 11.0 | 8 | 350 | 180.0 | 3664 | 11.0 | 73 | america | oldsmobile omega             |\n",
       "| 15.0 | 6 | 250 | 100.0 | 3336 | 17.0 | 74 | america | chevrolet nova               |\n",
       "| 13.0 | 8 | 350 | 150.0 | 4699 | 14.5 | 74 | america | buick century luxus (sw)     |\n",
       "| 14.0 | 8 | 318 | 150.0 | 4457 | 13.5 | 74 | america | dodge coronet custom (sw)    |\n",
       "| 14.0 | 8 | 302 | 140.0 | 4638 | 16.0 | 74 | america | ford gran torino (sw)        |\n",
       "| 14.0 | 8 | 304 | 150.0 | 4257 | 15.5 | 74 | america | amc matador (sw)             |\n",
       "| 15.0 | 6 | 250 | 72.00 | 3432 | 21.0 | 75 | america | mercury monarch              |\n",
       "| 15.0 | 6 | 250 | 72.00 | 3158 | 19.5 | 75 | america | ford maverick                |\n",
       "| 15.0 | 8 | 350 | 145.0 | 4440 | 14.0 | 75 | america | chevrolet bel air            |\n",
       "| 14.0 | 8 | 351 | 148.0 | 4657 | 13.5 | 75 | america | ford ltd                     |\n",
       "| 15.0 | 6 | 258 | 110.0 | 3730 | 19.0 | 75 | america | amc matador                  |\n",
       "| 13.0 | 8 | 302 | 129.0 | 3169 | 12.0 | 75 | america | ford mustang ii              |\n",
       "| 14.5 | 8 | 351 | 152.0 | 4215 | 12.8 | 76 | america | ford gran torino             |\n",
       "| 13.0 | 8 | 318 | 150.0 | 3940 | 13.2 | 76 | america | plymouth volare premier v8   |\n",
       "| 13.0 | 8 | 350 | 145.0 | 4055 | 12.0 | 76 | america | chevy c10                    |\n",
       "| 13.0 | 8 | 302 | 130.0 | 3870 | 15.0 | 76 | america | ford f108                    |\n",
       "| 13.0 | 8 | 318 | 150.0 | 3755 | 14.0 | 76 | america | dodge d100                   |\n",
       "| 15.0 | 8 | 302 | 130.0 | 4295 | 14.9 | 77 | america | mercury cougar brougham      |\n",
       "\n"
      ],
      "text/plain": [
       "   mpg  cylinders displacement horsepower weight acceleration model.year\n",
       "1  15   8         350          165.0      3693   11.5         70        \n",
       "2  15   8         429          198.0      4341   10.0         70        \n",
       "3  14   8         454          220.0      4354    9.0         70        \n",
       "4  14   8         440          215.0      4312    8.5         70        \n",
       "5  14   8         455          225.0      4425   10.0         70        \n",
       "6  15   8         390          190.0      3850    8.5         70        \n",
       "7  15   8         383          170.0      3563   10.0         70        \n",
       "8  14   8         340          160.0      3609    8.0         70        \n",
       "9  15   8         400          150.0      3761    9.5         70        \n",
       "10 14   8         455          225.0      3086   10.0         70        \n",
       "11 10   8         360          215.0      4615   14.0         70        \n",
       "12 10   8         307          200.0      4376   15.0         70        \n",
       "13 11   8         318          210.0      4382   13.5         70        \n",
       "14  9   8         304          193.0      4732   18.5         70        \n",
       "15 14   8         350          165.0      4209   12.0         71        \n",
       "16 14   8         400          175.0      4464   11.5         71        \n",
       "17 14   8         351          153.0      4154   13.5         71        \n",
       "18 14   8         318          150.0      4096   13.0         71        \n",
       "19 12   8         383          180.0      4955   11.5         71        \n",
       "20 13   8         400          170.0      4746   12.0         71        \n",
       "21 13   8         400          175.0      5140   12.0         71        \n",
       "22 13   8         350          165.0      4274   12.0         72        \n",
       "23 14   8         400          175.0      4385   12.0         72        \n",
       "24 15   8         318          150.0      4135   13.5         72        \n",
       "25 14   8         351          153.0      4129   13.0         72        \n",
       "26 11   8         429          208.0      4633   11.0         72        \n",
       "27 13   8         350          155.0      4502   13.5         72        \n",
       "28 12   8         350          160.0      4456   13.5         72        \n",
       "29 13   8         400          190.0      4422   12.5         72        \n",
       "30 15   8         304          150.0      3892   12.5         72        \n",
       "⋮  ⋮    ⋮         ⋮            ⋮          ⋮      ⋮            ⋮         \n",
       "40 13.0 8         400          150.0      4464   12.0         73        \n",
       "41 13.0 8         351          158.0      4363   13.0         73        \n",
       "42 14.0 8         318          150.0      4237   14.5         73        \n",
       "43 13.0 8         440          215.0      4735   11.0         73        \n",
       "44 12.0 8         455          225.0      4951   11.0         73        \n",
       "45 13.0 8         360          175.0      3821   11.0         73        \n",
       "46 11.0 8         400          150.0      4997   14.0         73        \n",
       "47 12.0 8         400          167.0      4906   12.5         73        \n",
       "48 13.0 8         360          170.0      4654   13.0         73        \n",
       "49 12.0 8         350          180.0      4499   12.5         73        \n",
       "50 15.0 8         350          145.0      4082   13.0         73        \n",
       "51 15.0 8         318          150.0      3399   11.0         73        \n",
       "52 11.0 8         350          180.0      3664   11.0         73        \n",
       "53 15.0 6         250          100.0      3336   17.0         74        \n",
       "54 13.0 8         350          150.0      4699   14.5         74        \n",
       "55 14.0 8         318          150.0      4457   13.5         74        \n",
       "56 14.0 8         302          140.0      4638   16.0         74        \n",
       "57 14.0 8         304          150.0      4257   15.5         74        \n",
       "58 15.0 6         250          72.00      3432   21.0         75        \n",
       "59 15.0 6         250          72.00      3158   19.5         75        \n",
       "60 15.0 8         350          145.0      4440   14.0         75        \n",
       "61 14.0 8         351          148.0      4657   13.5         75        \n",
       "62 15.0 6         258          110.0      3730   19.0         75        \n",
       "63 13.0 8         302          129.0      3169   12.0         75        \n",
       "64 14.5 8         351          152.0      4215   12.8         76        \n",
       "65 13.0 8         318          150.0      3940   13.2         76        \n",
       "66 13.0 8         350          145.0      4055   12.0         76        \n",
       "67 13.0 8         302          130.0      3870   15.0         76        \n",
       "68 13.0 8         318          150.0      3755   14.0         76        \n",
       "69 15.0 8         302          130.0      4295   14.9         77        \n",
       "   origin  car.name                    \n",
       "1  america buick skylark 320           \n",
       "2  america ford galaxie 500            \n",
       "3  america chevrolet impala            \n",
       "4  america plymouth fury iii           \n",
       "5  america pontiac catalina            \n",
       "6  america amc ambassador dpl          \n",
       "7  america dodge challenger se         \n",
       "8  america plymouth 'cuda 340          \n",
       "9  america chevrolet monte carlo       \n",
       "10 america buick estate wagon (sw)     \n",
       "11 america ford f250                   \n",
       "12 america chevy c20                   \n",
       "13 america dodge d200                  \n",
       "14 america hi 1200d                    \n",
       "15 america chevrolet impala            \n",
       "16 america pontiac catalina brougham   \n",
       "17 america ford galaxie 500            \n",
       "18 america plymouth fury iii           \n",
       "19 america dodge monaco (sw)           \n",
       "20 america ford country squire (sw)    \n",
       "21 america pontiac safari (sw)         \n",
       "22 america chevrolet impala            \n",
       "23 america pontiac catalina            \n",
       "24 america plymouth fury iii           \n",
       "25 america ford galaxie 500            \n",
       "26 america mercury marquis             \n",
       "27 america buick lesabre custom        \n",
       "28 america oldsmobile delta 88 royale  \n",
       "29 america chrysler newport royal      \n",
       "30 america amc matador (sw)            \n",
       "⋮  ⋮       ⋮                           \n",
       "40 america chevrolet caprice classic   \n",
       "41 america ford ltd                    \n",
       "42 america plymouth fury gran sedan    \n",
       "43 america chrysler new yorker brougham\n",
       "44 america buick electra 225 custom    \n",
       "45 america amc ambassador brougham     \n",
       "46 america chevrolet impala            \n",
       "47 america ford country                \n",
       "48 america plymouth custom suburb      \n",
       "49 america oldsmobile vista cruiser    \n",
       "50 america chevrolet monte carlo s     \n",
       "51 america dodge dart custom           \n",
       "52 america oldsmobile omega            \n",
       "53 america chevrolet nova              \n",
       "54 america buick century luxus (sw)    \n",
       "55 america dodge coronet custom (sw)   \n",
       "56 america ford gran torino (sw)       \n",
       "57 america amc matador (sw)            \n",
       "58 america mercury monarch             \n",
       "59 america ford maverick               \n",
       "60 america chevrolet bel air           \n",
       "61 america ford ltd                    \n",
       "62 america amc matador                 \n",
       "63 america ford mustang ii             \n",
       "64 america ford gran torino            \n",
       "65 america plymouth volare premier v8  \n",
       "66 america chevy c10                   \n",
       "67 america ford f108                   \n",
       "68 america dodge d100                  \n",
       "69 america mercury cougar brougham     "
      ]
     },
     "metadata": {},
     "output_type": "display_data"
    }
   ],
   "source": [
    "library(tidyverse)\n",
    "auto_data %>% filter(mpg >= 12)\n",
    "auto_data %>% filter(mpg <= 15)"
   ]
  },
  {
   "cell_type": "code",
   "execution_count": 8,
   "metadata": {},
   "outputs": [
    {
     "data": {
      "text/html": [
       "<table>\n",
       "<caption>A data.frame: 6 × 4</caption>\n",
       "<thead>\n",
       "\t<tr><th scope=col>cylinders</th><th scope=col>weight</th><th scope=col>acceleration</th><th scope=col>car.name</th></tr>\n",
       "\t<tr><th scope=col>&lt;int&gt;</th><th scope=col>&lt;int&gt;</th><th scope=col>&lt;dbl&gt;</th><th scope=col>&lt;fct&gt;</th></tr>\n",
       "</thead>\n",
       "<tbody>\n",
       "\t<tr><td>8</td><td>3504</td><td>12.0</td><td>chevrolet chevelle malibu</td></tr>\n",
       "\t<tr><td>8</td><td>3693</td><td>11.5</td><td>buick skylark 320        </td></tr>\n",
       "\t<tr><td>8</td><td>3436</td><td>11.0</td><td>plymouth satellite       </td></tr>\n",
       "\t<tr><td>8</td><td>3433</td><td>12.0</td><td>amc rebel sst            </td></tr>\n",
       "\t<tr><td>8</td><td>3449</td><td>10.5</td><td>ford torino              </td></tr>\n",
       "\t<tr><td>8</td><td>4341</td><td>10.0</td><td>ford galaxie 500         </td></tr>\n",
       "</tbody>\n",
       "</table>\n"
      ],
      "text/latex": [
       "A data.frame: 6 × 4\n",
       "\\begin{tabular}{r|llll}\n",
       " cylinders & weight & acceleration & car.name\\\\\n",
       " <int> & <int> & <dbl> & <fct>\\\\\n",
       "\\hline\n",
       "\t 8 & 3504 & 12.0 & chevrolet chevelle malibu\\\\\n",
       "\t 8 & 3693 & 11.5 & buick skylark 320        \\\\\n",
       "\t 8 & 3436 & 11.0 & plymouth satellite       \\\\\n",
       "\t 8 & 3433 & 12.0 & amc rebel sst            \\\\\n",
       "\t 8 & 3449 & 10.5 & ford torino              \\\\\n",
       "\t 8 & 4341 & 10.0 & ford galaxie 500         \\\\\n",
       "\\end{tabular}\n"
      ],
      "text/markdown": [
       "\n",
       "A data.frame: 6 × 4\n",
       "\n",
       "| cylinders &lt;int&gt; | weight &lt;int&gt; | acceleration &lt;dbl&gt; | car.name &lt;fct&gt; |\n",
       "|---|---|---|---|\n",
       "| 8 | 3504 | 12.0 | chevrolet chevelle malibu |\n",
       "| 8 | 3693 | 11.5 | buick skylark 320         |\n",
       "| 8 | 3436 | 11.0 | plymouth satellite        |\n",
       "| 8 | 3433 | 12.0 | amc rebel sst             |\n",
       "| 8 | 3449 | 10.5 | ford torino               |\n",
       "| 8 | 4341 | 10.0 | ford galaxie 500          |\n",
       "\n"
      ],
      "text/plain": [
       "  cylinders weight acceleration car.name                 \n",
       "1 8         3504   12.0         chevrolet chevelle malibu\n",
       "2 8         3693   11.5         buick skylark 320        \n",
       "3 8         3436   11.0         plymouth satellite       \n",
       "4 8         3433   12.0         amc rebel sst            \n",
       "5 8         3449   10.5         ford torino              \n",
       "6 8         4341   10.0         ford galaxie 500         "
      ]
     },
     "metadata": {},
     "output_type": "display_data"
    }
   ],
   "source": [
    "#Code for question 3 goes here\n",
    "#--------------------------------\n",
    "\n",
    "mpg_data = auto_data[,c(\"cylinders\", \"weight\", \"acceleration\", \"car.name\")]\n",
    "head(mpg_data)"
   ]
  },
  {
   "cell_type": "markdown",
   "metadata": {},
   "source": [
    "**Question 4: ** Create a two-way table called \"cars_by_origin\" for origin and cylinders columns of auto_data. Add rows and columns using addmargins() function."
   ]
  },
  {
   "cell_type": "code",
   "execution_count": 9,
   "metadata": {},
   "outputs": [
    {
     "data": {
      "text/html": [
       "<table>\n",
       "<caption>A table: 4 × 6 of type dbl</caption>\n",
       "<thead>\n",
       "\t<tr><th></th><th scope=col>3</th><th scope=col>4</th><th scope=col>5</th><th scope=col>6</th><th scope=col>8</th><th scope=col>Sum</th></tr>\n",
       "</thead>\n",
       "<tbody>\n",
       "\t<tr><th scope=row>america</th><td>0</td><td> 72</td><td>0</td><td>74</td><td>103</td><td>249</td></tr>\n",
       "\t<tr><th scope=row>europe</th><td>0</td><td> 63</td><td>3</td><td> 4</td><td>  0</td><td> 70</td></tr>\n",
       "\t<tr><th scope=row>asia</th><td>4</td><td> 69</td><td>0</td><td> 6</td><td>  0</td><td> 79</td></tr>\n",
       "\t<tr><th scope=row>Sum</th><td>4</td><td>204</td><td>3</td><td>84</td><td>103</td><td>398</td></tr>\n",
       "</tbody>\n",
       "</table>\n"
      ],
      "text/latex": [
       "A table: 4 × 6 of type dbl\n",
       "\\begin{tabular}{r|llllll}\n",
       "  & 3 & 4 & 5 & 6 & 8 & Sum\\\\\n",
       "\\hline\n",
       "\tamerica & 0 &  72 & 0 & 74 & 103 & 249\\\\\n",
       "\teurope & 0 &  63 & 3 &  4 &   0 &  70\\\\\n",
       "\tasia & 4 &  69 & 0 &  6 &   0 &  79\\\\\n",
       "\tSum & 4 & 204 & 3 & 84 & 103 & 398\\\\\n",
       "\\end{tabular}\n"
      ],
      "text/markdown": [
       "\n",
       "A table: 4 × 6 of type dbl\n",
       "\n",
       "| <!--/--> | 3 | 4 | 5 | 6 | 8 | Sum |\n",
       "|---|---|---|---|---|---|---|\n",
       "| america | 0 |  72 | 0 | 74 | 103 | 249 |\n",
       "| europe | 0 |  63 | 3 |  4 |   0 |  70 |\n",
       "| asia | 4 |  69 | 0 |  6 |   0 |  79 |\n",
       "| Sum | 4 | 204 | 3 | 84 | 103 | 398 |\n",
       "\n"
      ],
      "text/plain": [
       "         \n",
       "          3 4   5 6  8   Sum\n",
       "  america 0  72 0 74 103 249\n",
       "  europe  0  63 3  4   0  70\n",
       "  asia    4  69 0  6   0  79\n",
       "  Sum     4 204 3 84 103 398"
      ]
     },
     "metadata": {},
     "output_type": "display_data"
    }
   ],
   "source": [
    "#Code for question 4 goes here\n",
    "#---------------------------------\n",
    "\n",
    "# Two-way table\n",
    "\n",
    "cars_by_origin = table(auto_data$origin, auto_data$cylinders)\n",
    "\n",
    "# Adding row/col margins\n",
    "\n",
    "addmargins(cars_by_origin)"
   ]
  },
  {
   "cell_type": "markdown",
   "metadata": {},
   "source": [
    "**Question 5** Perform chi-squared test for origin and cylinders using the two way table \"cars_by_origin\" we created above. "
   ]
  },
  {
   "cell_type": "code",
   "execution_count": 10,
   "metadata": {},
   "outputs": [
    {
     "name": "stderr",
     "output_type": "stream",
     "text": [
      "Warning message in chisq.test(cars_by_origin):\n",
      "“Chi-squared approximation may be incorrect”"
     ]
    },
    {
     "data": {
      "text/plain": [
       "\n",
       "\tPearson's Chi-squared test\n",
       "\n",
       "data:  cars_by_origin\n",
       "X-squared = 180.1, df = 8, p-value < 2.2e-16\n"
      ]
     },
     "metadata": {},
     "output_type": "display_data"
    }
   ],
   "source": [
    "#Code for question 5 goes here\n",
    "#---------------------------------\n",
    "\n",
    "chisq.test(cars_by_origin)\n"
   ]
  },
  {
   "cell_type": "markdown",
   "metadata": {},
   "source": [
    "**Question 6: ** What conclusions can you draw from the chi-squared test?"
   ]
  },
  {
   "cell_type": "raw",
   "metadata": {},
   "source": [
    "# Write your answer below this comment\n",
    "# ------------------------------------\n",
    "\n",
    "Based on the p-value of the test which is 2.2e-16 is less than the significance level alpha = 0.05 shows that the observed proportions are significantly different from the expected proportions. \n"
   ]
  },
  {
   "cell_type": "markdown",
   "metadata": {},
   "source": [
    "**Question 7: ** Use prop.table function on two way table \"cars_by_origin\" to find column wise proportion of cars in percentages. "
   ]
  },
  {
   "cell_type": "code",
   "execution_count": 11,
   "metadata": {},
   "outputs": [
    {
     "data": {
      "text/plain": [
       "         \n",
       "                    3           4           5           6           8\n",
       "  america 0.000000000 0.180904523 0.000000000 0.185929648 0.258793970\n",
       "  europe  0.000000000 0.158291457 0.007537688 0.010050251 0.000000000\n",
       "  asia    0.010050251 0.173366834 0.000000000 0.015075377 0.000000000"
      ]
     },
     "metadata": {},
     "output_type": "display_data"
    }
   ],
   "source": [
    "#Code for question 7 goes here\n",
    "#---------------------------------\n",
    "\n",
    "prop.table(cars_by_origin)\n"
   ]
  },
  {
   "cell_type": "markdown",
   "metadata": {},
   "source": [
    "**Question 8.a: ** Create a subset from auto_data which includes columns of non factor type. Assign the result to a variable called \"less_data\""
   ]
  },
  {
   "cell_type": "code",
   "execution_count": 12,
   "metadata": {},
   "outputs": [
    {
     "data": {
      "text/html": [
       "<table>\n",
       "<caption>A data.frame: 6 × 6</caption>\n",
       "<thead>\n",
       "\t<tr><th scope=col>mpg</th><th scope=col>cylinders</th><th scope=col>displacement</th><th scope=col>weight</th><th scope=col>acceleration</th><th scope=col>model.year</th></tr>\n",
       "\t<tr><th scope=col>&lt;dbl&gt;</th><th scope=col>&lt;int&gt;</th><th scope=col>&lt;dbl&gt;</th><th scope=col>&lt;int&gt;</th><th scope=col>&lt;dbl&gt;</th><th scope=col>&lt;int&gt;</th></tr>\n",
       "</thead>\n",
       "<tbody>\n",
       "\t<tr><td>18</td><td>8</td><td>307</td><td>3504</td><td>12.0</td><td>70</td></tr>\n",
       "\t<tr><td>15</td><td>8</td><td>350</td><td>3693</td><td>11.5</td><td>70</td></tr>\n",
       "\t<tr><td>18</td><td>8</td><td>318</td><td>3436</td><td>11.0</td><td>70</td></tr>\n",
       "\t<tr><td>16</td><td>8</td><td>304</td><td>3433</td><td>12.0</td><td>70</td></tr>\n",
       "\t<tr><td>17</td><td>8</td><td>302</td><td>3449</td><td>10.5</td><td>70</td></tr>\n",
       "\t<tr><td>15</td><td>8</td><td>429</td><td>4341</td><td>10.0</td><td>70</td></tr>\n",
       "</tbody>\n",
       "</table>\n"
      ],
      "text/latex": [
       "A data.frame: 6 × 6\n",
       "\\begin{tabular}{r|llllll}\n",
       " mpg & cylinders & displacement & weight & acceleration & model.year\\\\\n",
       " <dbl> & <int> & <dbl> & <int> & <dbl> & <int>\\\\\n",
       "\\hline\n",
       "\t 18 & 8 & 307 & 3504 & 12.0 & 70\\\\\n",
       "\t 15 & 8 & 350 & 3693 & 11.5 & 70\\\\\n",
       "\t 18 & 8 & 318 & 3436 & 11.0 & 70\\\\\n",
       "\t 16 & 8 & 304 & 3433 & 12.0 & 70\\\\\n",
       "\t 17 & 8 & 302 & 3449 & 10.5 & 70\\\\\n",
       "\t 15 & 8 & 429 & 4341 & 10.0 & 70\\\\\n",
       "\\end{tabular}\n"
      ],
      "text/markdown": [
       "\n",
       "A data.frame: 6 × 6\n",
       "\n",
       "| mpg &lt;dbl&gt; | cylinders &lt;int&gt; | displacement &lt;dbl&gt; | weight &lt;int&gt; | acceleration &lt;dbl&gt; | model.year &lt;int&gt; |\n",
       "|---|---|---|---|---|---|\n",
       "| 18 | 8 | 307 | 3504 | 12.0 | 70 |\n",
       "| 15 | 8 | 350 | 3693 | 11.5 | 70 |\n",
       "| 18 | 8 | 318 | 3436 | 11.0 | 70 |\n",
       "| 16 | 8 | 304 | 3433 | 12.0 | 70 |\n",
       "| 17 | 8 | 302 | 3449 | 10.5 | 70 |\n",
       "| 15 | 8 | 429 | 4341 | 10.0 | 70 |\n",
       "\n"
      ],
      "text/plain": [
       "  mpg cylinders displacement weight acceleration model.year\n",
       "1 18  8         307          3504   12.0         70        \n",
       "2 15  8         350          3693   11.5         70        \n",
       "3 18  8         318          3436   11.0         70        \n",
       "4 16  8         304          3433   12.0         70        \n",
       "5 17  8         302          3449   10.5         70        \n",
       "6 15  8         429          4341   10.0         70        "
      ]
     },
     "metadata": {},
     "output_type": "display_data"
    }
   ],
   "source": [
    "#Code for question 8.a goes here\n",
    "#---------------------------------\n",
    "\n",
    "\n",
    "less_data = auto_data[!names(auto_data) %in% c('horsepower','origin', 'car.name')]\n",
    "\n",
    "head(less_data)"
   ]
  },
  {
   "cell_type": "markdown",
   "metadata": {},
   "source": [
    "**Question 8.b: ** Find standard deviation of columns in less_data. Use apply() function to find standard deviation of all columns."
   ]
  },
  {
   "cell_type": "code",
   "execution_count": 13,
   "metadata": {},
   "outputs": [
    {
     "data": {
      "text/html": [
       "<dl class=dl-horizontal>\n",
       "\t<dt>mpg</dt>\n",
       "\t\t<dd>7.81598431256578</dd>\n",
       "\t<dt>cylinders</dt>\n",
       "\t\t<dd>1.70100424453321</dd>\n",
       "\t<dt>displacement</dt>\n",
       "\t\t<dd>104.269838171196</dd>\n",
       "\t<dt>weight</dt>\n",
       "\t\t<dd>846.841774197327</dd>\n",
       "\t<dt>acceleration</dt>\n",
       "\t\t<dd>2.75768892981268</dd>\n",
       "\t<dt>model.year</dt>\n",
       "\t\t<dd>3.69762664673262</dd>\n",
       "</dl>\n"
      ],
      "text/latex": [
       "\\begin{description*}\n",
       "\\item[mpg] 7.81598431256578\n",
       "\\item[cylinders] 1.70100424453321\n",
       "\\item[displacement] 104.269838171196\n",
       "\\item[weight] 846.841774197327\n",
       "\\item[acceleration] 2.75768892981268\n",
       "\\item[model.year] 3.69762664673262\n",
       "\\end{description*}\n"
      ],
      "text/markdown": [
       "mpg\n",
       ":   7.81598431256578cylinders\n",
       ":   1.70100424453321displacement\n",
       ":   104.269838171196weight\n",
       ":   846.841774197327acceleration\n",
       ":   2.75768892981268model.year\n",
       ":   3.69762664673262\n",
       "\n"
      ],
      "text/plain": [
       "         mpg    cylinders displacement       weight acceleration   model.year \n",
       "    7.815984     1.701004   104.269838   846.841774     2.757689     3.697627 "
      ]
     },
     "metadata": {},
     "output_type": "display_data"
    }
   ],
   "source": [
    "#Code for question 8.b goes here\n",
    "#---------------------------------\n",
    "\n",
    "apply(less_data, 2, sd)\n"
   ]
  },
  {
   "cell_type": "markdown",
   "metadata": {},
   "source": [
    "**Question 9: ** What conclusions can you draw the results of questions 7, 8.a, and 8.b?"
   ]
  },
  {
   "cell_type": "raw",
   "metadata": {},
   "source": [
    "# Write your answer below this comment\n",
    "# ------------------------------------\n",
    "\n",
    "American cars tend to have more cars with more cylinders, europe is in the middle and asia has more cars with smaller amount of cylinders. Europe is the only region to produce 5 clyinder cars, Asia is the only region to produce 3 cylinder cars and america is the only region to produce 8 clyinder cars. \n"
   ]
  },
  {
   "cell_type": "markdown",
   "metadata": {
    "collapsed": true
   },
   "source": [
    "**Question 10.a: ** Run princomp() function on less_data and assign the result to less_data_pca. Run summary() on the result."
   ]
  },
  {
   "cell_type": "code",
   "execution_count": 14,
   "metadata": {},
   "outputs": [
    {
     "data": {
      "text/plain": [
       "Importance of components:\n",
       "                            Comp.1       Comp.2       Comp.3       Comp.4\n",
       "Standard deviation     851.3762025 37.315935705 4.949109e+00 2.357588e+00\n",
       "Proportion of Variance   0.9980343  0.001917305 3.372535e-05 7.653117e-06\n",
       "Cumulative Proportion    0.9980343  0.999951616 9.999853e-01 9.999930e-01\n",
       "                             Comp.5       Comp.6\n",
       "Standard deviation     2.193819e+00 5.243460e-01\n",
       "Proportion of Variance 6.626804e-06 3.785632e-07\n",
       "Cumulative Proportion  9.999996e-01 1.000000e+00"
      ]
     },
     "metadata": {},
     "output_type": "display_data"
    }
   ],
   "source": [
    "#Code for question 10 goes here\n",
    "# ------------------------------------\n",
    "\n",
    "less_data_pca = princomp(less_data)\n",
    "\n",
    "summary(less_data_pca)"
   ]
  },
  {
   "cell_type": "code",
   "execution_count": 15,
   "metadata": {},
   "outputs": [
    {
     "data": {
      "image/png": "[encoded data removed]",
      "text/plain": [
       "Plot with title “less_data_pca”"
      ]
     },
     "metadata": {},
     "output_type": "display_data"
    }
   ],
   "source": [
    "screeplot(less_data_pca, type=\"lines\")"
   ]
  },
  {
   "cell_type": "markdown",
   "metadata": {},
   "source": [
    "**Question 10.b: ** How many principal components are enough to explain 99% of variance in the data. "
   ]
  },
  {
   "cell_type": "raw",
   "metadata": {},
   "source": [
    "# Write your answer below this comment\n",
    "# ------------------------------------\n",
    "\n",
    "One principal component is enough to explain 99% of variance in the data. \n"
   ]
  },
  {
   "cell_type": "markdown",
   "metadata": {},
   "source": [
    "**Question 11:** Fit a linear regression model to predict mpg using principal component 1 generated above. name the model as model1 "
   ]
  },
  {
   "cell_type": "code",
   "execution_count": 16,
   "metadata": {
    "scrolled": true
   },
   "outputs": [
    {
     "data": {
      "text/plain": [
       "\n",
       "Call:\n",
       "lm(formula = auto_data$mpg ~ less_data_pca$scores[, 1])\n",
       "\n",
       "Residuals:\n",
       "     Min       1Q   Median       3Q      Max \n",
       "-12.0375  -2.7892  -0.3737   2.1325  16.4686 \n",
       "\n",
       "Coefficients:\n",
       "                           Estimate Std. Error t value Pr(>|t|)    \n",
       "(Intercept)               2.351e+01  2.175e-01  108.09   <2e-16 ***\n",
       "less_data_pca$scores[, 1] 7.630e-03  2.555e-04   29.86   <2e-16 ***\n",
       "---\n",
       "Signif. codes:  0 ‘***’ 0.001 ‘**’ 0.01 ‘*’ 0.05 ‘.’ 0.1 ‘ ’ 1\n",
       "\n",
       "Residual standard error: 4.34 on 396 degrees of freedom\n",
       "Multiple R-squared:  0.6925,\tAdjusted R-squared:  0.6917 \n",
       "F-statistic: 891.7 on 1 and 396 DF,  p-value: < 2.2e-16\n"
      ]
     },
     "metadata": {},
     "output_type": "display_data"
    }
   ],
   "source": [
    "#Code for question 11 goes here----\n",
    "model1 = lm(auto_data$mpg ~ less_data_pca$scores[,1])\n",
    "summary(model1)"
   ]
  },
  {
   "cell_type": "markdown",
   "metadata": {},
   "source": [
    "**Question 12.a:** Fit a linear regression model to predict mpg using principal components 1 and 2 generated above. Name the model as model2"
   ]
  },
  {
   "cell_type": "code",
   "execution_count": 17,
   "metadata": {
    "scrolled": true
   },
   "outputs": [
    {
     "data": {
      "text/plain": [
       "\n",
       "Call:\n",
       "lm(formula = auto_data$mpg ~ less_data_pca$scores[, 1] + less_data_pca$scores[, \n",
       "    2])\n",
       "\n",
       "Residuals:\n",
       "     Min       1Q   Median       3Q      Max \n",
       "-12.4433  -2.9596  -0.3757   2.3593  16.3297 \n",
       "\n",
       "Coefficients:\n",
       "                           Estimate Std. Error t value Pr(>|t|)    \n",
       "(Intercept)               2.351e+01  2.157e-01 108.994  < 2e-16 ***\n",
       "less_data_pca$scores[, 1] 7.630e-03  2.534e-04  30.109  < 2e-16 ***\n",
       "less_data_pca$scores[, 2] 1.595e-02  5.782e-03   2.759  0.00607 ** \n",
       "---\n",
       "Signif. codes:  0 ‘***’ 0.001 ‘**’ 0.01 ‘*’ 0.05 ‘.’ 0.1 ‘ ’ 1\n",
       "\n",
       "Residual standard error: 4.304 on 395 degrees of freedom\n",
       "Multiple R-squared:  0.6983,\tAdjusted R-squared:  0.6968 \n",
       "F-statistic: 457.1 on 2 and 395 DF,  p-value: < 2.2e-16\n"
      ]
     },
     "metadata": {},
     "output_type": "display_data"
    }
   ],
   "source": [
    "#Code for question 12 goes here----\n",
    "model2 = lm(auto_data$mpg ~ less_data_pca$scores[,1] + less_data_pca$scores[,2])\n",
    "summary(model2)"
   ]
  },
  {
   "cell_type": "markdown",
   "metadata": {},
   "source": [
    "**Question 12.b** Compare model1 and model2 and write few words about your observations on improvement in model accuracy $R^2$"
   ]
  },
  {
   "cell_type": "raw",
   "metadata": {},
   "source": [
    "# Write your 12.b answer below this comment\n",
    "# ------------------------------------\n",
    "\n",
    "The R-square increased from 0.6917 to 0.6968 from model1 to model2. This is a miniscule increase telling us that the variance of the residuls is 69.17% to 69.68% of the variance in the data.\n"
   ]
  },
  {
   "cell_type": "markdown",
   "metadata": {},
   "source": [
    "# SAVE YOUR NOTEBOOK!"
   ]
  }
 ],
 "metadata": {
  "kernelspec": {
   "display_name": "R",
   "language": "R",
   "name": "ir"
  },
  "language_info": {
   "codemirror_mode": "r",
   "file_extension": ".r",
   "mimetype": "text/x-r-source",
   "name": "R",
   "pygments_lexer": "r",
   "version": "3.5.1"
  }
 },
 "nbformat": 4,
 "nbformat_minor": 1
}
