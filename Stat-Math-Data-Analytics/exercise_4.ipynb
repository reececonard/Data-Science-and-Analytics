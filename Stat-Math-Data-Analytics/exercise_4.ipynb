{
 "cells": [
  {
   "cell_type": "markdown",
   "metadata": {
    "collapsed": true
   },
   "source": [
    "### Module 4 - Probability Exercises "
   ]
  },
  {
   "cell_type": "markdown",
   "metadata": {},
   "source": [
    "Most of the concepts we discussed in this module were theoretical. Examples were used to explain how to apply conditional probability concepts on dataset columns. The exercises in this notebook will be similar to what you have seen in lab and practice notebooks. \n",
    "\n",
    "Refer to your labs: [Bayes](../labs/Bayes.ipynb), [Conditional_Probability](../labs/Conditional_Probability.ipynb) and [Other_Distributions](../labs/Other_Distributions.ipynb).  \n",
    "\n",
    "Practice notebooks: [Conditional_Probability](../practices/Conditional_Probability.ipynb) and [Bayes](../labs/Bayes.ipynb). "
   ]
  },
  {
   "cell_type": "markdown",
   "metadata": {},
   "source": [
    "Let's recall what is an independent and dependent event through below activity. Consider an event of rolling two dice. The sample space S={{1,1}, {1,2}, {1,3},....,{6,6}} contains 36 possible combinations on two dice.\n",
    "\n",
    "<span style=\"color:#1871d6; font-weight:400\">Activity 1.a: </span> What is the probability of getting a 2 on either dice?"
   ]
  },
  {
   "cell_type": "code",
   "execution_count": 14,
   "metadata": {},
   "outputs": [
    {
     "name": "stderr",
     "output_type": "stream",
     "text": [
      "Updating HTML index of packages in '.Library'\n",
      "Making 'packages.html' ... done\n"
     ]
    },
    {
     "data": {
      "text/html": [
       "<table>\n",
       "<caption>A data.frame: 12 × 3</caption>\n",
       "<thead>\n",
       "\t<tr><th></th><th scope=col>X1</th><th scope=col>X2</th><th scope=col>probs</th></tr>\n",
       "\t<tr><th></th><th scope=col>&lt;int&gt;</th><th scope=col>&lt;int&gt;</th><th scope=col>&lt;dbl&gt;</th></tr>\n",
       "</thead>\n",
       "<tbody>\n",
       "\t<tr><th scope=row>2</th><td>2</td><td>1</td><td>0.02777778</td></tr>\n",
       "\t<tr><th scope=row>8</th><td>2</td><td>2</td><td>0.02777778</td></tr>\n",
       "\t<tr><th scope=row>14</th><td>2</td><td>3</td><td>0.02777778</td></tr>\n",
       "\t<tr><th scope=row>20</th><td>2</td><td>4</td><td>0.02777778</td></tr>\n",
       "\t<tr><th scope=row>26</th><td>2</td><td>5</td><td>0.02777778</td></tr>\n",
       "\t<tr><th scope=row>32</th><td>2</td><td>6</td><td>0.02777778</td></tr>\n",
       "\t<tr><th scope=row>7</th><td>1</td><td>2</td><td>0.02777778</td></tr>\n",
       "\t<tr><th scope=row>81</th><td>2</td><td>2</td><td>0.02777778</td></tr>\n",
       "\t<tr><th scope=row>9</th><td>3</td><td>2</td><td>0.02777778</td></tr>\n",
       "\t<tr><th scope=row>10</th><td>4</td><td>2</td><td>0.02777778</td></tr>\n",
       "\t<tr><th scope=row>11</th><td>5</td><td>2</td><td>0.02777778</td></tr>\n",
       "\t<tr><th scope=row>12</th><td>6</td><td>2</td><td>0.02777778</td></tr>\n",
       "</tbody>\n",
       "</table>\n"
      ],
      "text/latex": [
       "A data.frame: 12 × 3\n",
       "\\begin{tabular}{r|lll}\n",
       "  & X1 & X2 & probs\\\\\n",
       "  & <int> & <int> & <dbl>\\\\\n",
       "\\hline\n",
       "\t2 & 2 & 1 & 0.02777778\\\\\n",
       "\t8 & 2 & 2 & 0.02777778\\\\\n",
       "\t14 & 2 & 3 & 0.02777778\\\\\n",
       "\t20 & 2 & 4 & 0.02777778\\\\\n",
       "\t26 & 2 & 5 & 0.02777778\\\\\n",
       "\t32 & 2 & 6 & 0.02777778\\\\\n",
       "\t7 & 1 & 2 & 0.02777778\\\\\n",
       "\t81 & 2 & 2 & 0.02777778\\\\\n",
       "\t9 & 3 & 2 & 0.02777778\\\\\n",
       "\t10 & 4 & 2 & 0.02777778\\\\\n",
       "\t11 & 5 & 2 & 0.02777778\\\\\n",
       "\t12 & 6 & 2 & 0.02777778\\\\\n",
       "\\end{tabular}\n"
      ],
      "text/markdown": [
       "\n",
       "A data.frame: 12 × 3\n",
       "\n",
       "| <!--/--> | X1 &lt;int&gt; | X2 &lt;int&gt; | probs &lt;dbl&gt; |\n",
       "|---|---|---|---|\n",
       "| 2 | 2 | 1 | 0.02777778 |\n",
       "| 8 | 2 | 2 | 0.02777778 |\n",
       "| 14 | 2 | 3 | 0.02777778 |\n",
       "| 20 | 2 | 4 | 0.02777778 |\n",
       "| 26 | 2 | 5 | 0.02777778 |\n",
       "| 32 | 2 | 6 | 0.02777778 |\n",
       "| 7 | 1 | 2 | 0.02777778 |\n",
       "| 81 | 2 | 2 | 0.02777778 |\n",
       "| 9 | 3 | 2 | 0.02777778 |\n",
       "| 10 | 4 | 2 | 0.02777778 |\n",
       "| 11 | 5 | 2 | 0.02777778 |\n",
       "| 12 | 6 | 2 | 0.02777778 |\n",
       "\n"
      ],
      "text/plain": [
       "   X1 X2 probs     \n",
       "2  2  1  0.02777778\n",
       "8  2  2  0.02777778\n",
       "14 2  3  0.02777778\n",
       "20 2  4  0.02777778\n",
       "26 2  5  0.02777778\n",
       "32 2  6  0.02777778\n",
       "7  1  2  0.02777778\n",
       "81 2  2  0.02777778\n",
       "9  3  2  0.02777778\n",
       "10 4  2  0.02777778\n",
       "11 5  2  0.02777778\n",
       "12 6  2  0.02777778"
      ]
     },
     "metadata": {},
     "output_type": "display_data"
    }
   ],
   "source": [
    "# Your code for activity 1.a goes here...\n",
    "\n",
    "install.packages('prob')\n",
    "\n",
    "library(prob)\n",
    "S <- rolldie(2, makespace = TRUE)\n",
    "\n",
    "# Define the event A such that it has all possible combinations including a 2 {{1,2}, {2,2}, {2,3},...} \n",
    "A <- subset(S, X1 == 2)\n",
    "\n",
    "\n",
    "B <- subset(S, X2 == 2)\n",
    "\n",
    "C = rbind(A,B)\n",
    "C"
   ]
  },
  {
   "cell_type": "markdown",
   "metadata": {},
   "source": [
    "<span style=\"color:#1871d6; font-weight:400\">Activity 1.b: </span> What is the probability of getting a 2 on either dice given that the sum of the two outcomes is less than 6? "
   ]
  },
  {
   "cell_type": "code",
   "execution_count": 16,
   "metadata": {},
   "outputs": [
    {
     "data": {
      "text/html": [
       "<table>\n",
       "<caption>A data.frame: 6 × 3</caption>\n",
       "<thead>\n",
       "\t<tr><th></th><th scope=col>X1</th><th scope=col>X2</th><th scope=col>probs</th></tr>\n",
       "\t<tr><th></th><th scope=col>&lt;int&gt;</th><th scope=col>&lt;int&gt;</th><th scope=col>&lt;dbl&gt;</th></tr>\n",
       "</thead>\n",
       "<tbody>\n",
       "\t<tr><th scope=row>2</th><td>2</td><td>1</td><td>0.02777778</td></tr>\n",
       "\t<tr><th scope=row>8</th><td>2</td><td>2</td><td>0.02777778</td></tr>\n",
       "\t<tr><th scope=row>14</th><td>2</td><td>3</td><td>0.02777778</td></tr>\n",
       "\t<tr><th scope=row>7</th><td>1</td><td>2</td><td>0.02777778</td></tr>\n",
       "\t<tr><th scope=row>81</th><td>2</td><td>2</td><td>0.02777778</td></tr>\n",
       "\t<tr><th scope=row>9</th><td>3</td><td>2</td><td>0.02777778</td></tr>\n",
       "</tbody>\n",
       "</table>\n"
      ],
      "text/latex": [
       "A data.frame: 6 × 3\n",
       "\\begin{tabular}{r|lll}\n",
       "  & X1 & X2 & probs\\\\\n",
       "  & <int> & <int> & <dbl>\\\\\n",
       "\\hline\n",
       "\t2 & 2 & 1 & 0.02777778\\\\\n",
       "\t8 & 2 & 2 & 0.02777778\\\\\n",
       "\t14 & 2 & 3 & 0.02777778\\\\\n",
       "\t7 & 1 & 2 & 0.02777778\\\\\n",
       "\t81 & 2 & 2 & 0.02777778\\\\\n",
       "\t9 & 3 & 2 & 0.02777778\\\\\n",
       "\\end{tabular}\n"
      ],
      "text/markdown": [
       "\n",
       "A data.frame: 6 × 3\n",
       "\n",
       "| <!--/--> | X1 &lt;int&gt; | X2 &lt;int&gt; | probs &lt;dbl&gt; |\n",
       "|---|---|---|---|\n",
       "| 2 | 2 | 1 | 0.02777778 |\n",
       "| 8 | 2 | 2 | 0.02777778 |\n",
       "| 14 | 2 | 3 | 0.02777778 |\n",
       "| 7 | 1 | 2 | 0.02777778 |\n",
       "| 81 | 2 | 2 | 0.02777778 |\n",
       "| 9 | 3 | 2 | 0.02777778 |\n",
       "\n"
      ],
      "text/plain": [
       "   X1 X2 probs     \n",
       "2  2  1  0.02777778\n",
       "8  2  2  0.02777778\n",
       "14 2  3  0.02777778\n",
       "7  1  2  0.02777778\n",
       "81 2  2  0.02777778\n",
       "9  3  2  0.02777778"
      ]
     },
     "metadata": {},
     "output_type": "display_data"
    }
   ],
   "source": [
    "# Your code for activity 1.b goes here...\n",
    "\n",
    "# Define the event A such that it has all possible combinations including 2 {{1,2}, {2,2},...}. \n",
    "\n",
    "A <- subset(S, X1 == 2)\n",
    "\n",
    "\n",
    "B <- subset(S, X2 == 2)\n",
    "\n",
    "C = rbind(A,B)\n",
    "\n",
    "# Define event B such that sum of outcomes is less than 6. \n",
    "\n",
    "D <- subset(C, X1 + X2 < 6)\n",
    "D\n",
    "\n",
    "# Event A is conditional on Event B \n"
   ]
  },
  {
   "cell_type": "markdown",
   "metadata": {},
   "source": [
    "<span style=\"color:#1871d6; font-weight:400\">Activity 2: </span> Toss a coin twice. The sample space is given by S = {HH, HT, TH, TT}. Let A = {head occurs} and B = {a head and tail occur}. What are the probabilities P(A|B) and P(B|A)?"
   ]
  },
  {
   "cell_type": "markdown",
   "metadata": {},
   "source": [
    "````\n",
    "        \n",
    "P(A|B) = 0.75\n",
    "\n",
    "P(B|A) = P(A ∩ B)  \n",
    "         --------  = 0.5\n",
    "           P(A)\n",
    "\n",
    "````"
   ]
  },
  {
   "cell_type": "markdown",
   "metadata": {},
   "source": [
    "<span style=\"color:#1871d6; font-weight:400\">Activity 3: </span> We have data about the smoking status versus the gender of people working in a company.\n",
    "\n",
    "<table>\n",
    "    <tr>\n",
    "        <th></th>\n",
    "        <th colspan=\"2\">gender</th>\n",
    "        <th>sum</th>\n",
    "    </tr>\n",
    "    <tr>\n",
    "        <td rowspan=\"2\">smoke</td>\n",
    "        <td>80</td>\n",
    "        <td>54</td>\n",
    "        <td>134</td>\n",
    "    </tr>\n",
    "    <tr>\n",
    "        <td>15</td>\n",
    "        <td>19</td>\n",
    "        <td>34</td>\n",
    "    </tr>\n",
    "    <tr>\n",
    "        <td>sum</td>\n",
    "        <td>95</td>\n",
    "        <td>73</td>\n",
    "        <td>168</td>\n",
    "    </tr>\n",
    "</table>\n",
    "    \n",
    "    \n",
    "3.a) If one person were selected at random from the data set, what is the probability that selected person is female?\n",
    "\n",
    "3.b) What is the probability that selected person is a smoker?"
   ]
  },
  {
   "cell_type": "code",
   "execution_count": 1,
   "metadata": {},
   "outputs": [
    {
     "data": {
      "text/html": [
       "<table>\n",
       "<caption>A table: 3 × 3 of type dbl</caption>\n",
       "<thead>\n",
       "\t<tr><th></th><th scope=col>female</th><th scope=col>male</th><th scope=col>Sum</th></tr>\n",
       "</thead>\n",
       "<tbody>\n",
       "\t<tr><th scope=row>nonsmoker</th><td>80</td><td>54</td><td>134</td></tr>\n",
       "\t<tr><th scope=row>smoker</th><td>15</td><td>19</td><td> 34</td></tr>\n",
       "\t<tr><th scope=row>Sum</th><td>95</td><td>73</td><td>168</td></tr>\n",
       "</tbody>\n",
       "</table>\n"
      ],
      "text/latex": [
       "A table: 3 × 3 of type dbl\n",
       "\\begin{tabular}{r|lll}\n",
       "  & female & male & Sum\\\\\n",
       "\\hline\n",
       "\tnonsmoker & 80 & 54 & 134\\\\\n",
       "\tsmoker & 15 & 19 &  34\\\\\n",
       "\tSum & 95 & 73 & 168\\\\\n",
       "\\end{tabular}\n"
      ],
      "text/markdown": [
       "\n",
       "A table: 3 × 3 of type dbl\n",
       "\n",
       "| <!--/--> | female | male | Sum |\n",
       "|---|---|---|---|\n",
       "| nonsmoker | 80 | 54 | 134 |\n",
       "| smoker | 15 | 19 |  34 |\n",
       "| Sum | 95 | 73 | 168 |\n",
       "\n"
      ],
      "text/plain": [
       "          female male Sum\n",
       "nonsmoker 80     54   134\n",
       "smoker    15     19    34\n",
       "Sum       95     73   168"
      ]
     },
     "metadata": {},
     "output_type": "display_data"
    }
   ],
   "source": [
    "# Code for Activity 3 goes here -----\n",
    "# Generate the matrix required to find probabilities\n",
    "\n",
    "smoking <- matrix(c(80, 15, 54, 19), ncol = 2)\n",
    "colnames(smoking) <- c('female', 'male')\n",
    "rownames(smoking) <- c('nonsmoker', 'smoker')\n",
    "smoking.table <- as.table(smoking)\n",
    "\n",
    "addmargins(smoking.table)"
   ]
  },
  {
   "cell_type": "code",
   "execution_count": 14,
   "metadata": {},
   "outputs": [
    {
     "data": {
      "text/html": [
       "0.56547619047619"
      ],
      "text/latex": [
       "0.56547619047619"
      ],
      "text/markdown": [
       "0.56547619047619"
      ],
      "text/plain": [
       "[1] 0.5654762"
      ]
     },
     "metadata": {},
     "output_type": "display_data"
    }
   ],
   "source": [
    "# Answer for Activity 3.a goes here -----\n",
    "# P(Female) = \n",
    "(80 + 15) / 168 "
   ]
  },
  {
   "cell_type": "code",
   "execution_count": 38,
   "metadata": {},
   "outputs": [
    {
     "data": {
      "text/html": [
       "0.157894736842105"
      ],
      "text/latex": [
       "0.157894736842105"
      ],
      "text/markdown": [
       "0.157894736842105"
      ],
      "text/plain": [
       "[1] 0.1578947"
      ]
     },
     "metadata": {},
     "output_type": "display_data"
    }
   ],
   "source": [
    "# Answer for Activity 3.b goes here -----\n",
    "# P(smoker | female) = \n",
    "15 / (15 + 80)"
   ]
  },
  {
   "cell_type": "markdown",
   "metadata": {},
   "source": [
    "<span style=\"color:#1871d6; font-weight:400\">Activity 4: </span>  Load the framingham data from the directory '/datasets/framingham'. Find out the probability of a randomly subject to have the risk of coronary heart disease given that the subject is a male."
   ]
  },
  {
   "cell_type": "code",
   "execution_count": 17,
   "metadata": {},
   "outputs": [
    {
     "data": {
      "text/html": [
       "<table>\n",
       "<caption>A data.frame: 6 × 16</caption>\n",
       "<thead>\n",
       "\t<tr><th scope=col>male</th><th scope=col>age</th><th scope=col>education</th><th scope=col>currentSmoker</th><th scope=col>cigsPerDay</th><th scope=col>BPMeds</th><th scope=col>prevalentStroke</th><th scope=col>prevalentHyp</th><th scope=col>diabetes</th><th scope=col>totChol</th><th scope=col>sysBP</th><th scope=col>diaBP</th><th scope=col>BMI</th><th scope=col>heartRate</th><th scope=col>glucose</th><th scope=col>TenYearCHD</th></tr>\n",
       "\t<tr><th scope=col>&lt;int&gt;</th><th scope=col>&lt;int&gt;</th><th scope=col>&lt;int&gt;</th><th scope=col>&lt;int&gt;</th><th scope=col>&lt;int&gt;</th><th scope=col>&lt;int&gt;</th><th scope=col>&lt;int&gt;</th><th scope=col>&lt;int&gt;</th><th scope=col>&lt;int&gt;</th><th scope=col>&lt;int&gt;</th><th scope=col>&lt;dbl&gt;</th><th scope=col>&lt;dbl&gt;</th><th scope=col>&lt;dbl&gt;</th><th scope=col>&lt;int&gt;</th><th scope=col>&lt;int&gt;</th><th scope=col>&lt;int&gt;</th></tr>\n",
       "</thead>\n",
       "<tbody>\n",
       "\t<tr><td>1</td><td>39</td><td>4</td><td>0</td><td> 0</td><td>0</td><td>0</td><td>0</td><td>0</td><td>195</td><td>106.0</td><td> 70</td><td>26.97</td><td>80</td><td> 77</td><td>0</td></tr>\n",
       "\t<tr><td>0</td><td>46</td><td>2</td><td>0</td><td> 0</td><td>0</td><td>0</td><td>0</td><td>0</td><td>250</td><td>121.0</td><td> 81</td><td>28.73</td><td>95</td><td> 76</td><td>0</td></tr>\n",
       "\t<tr><td>1</td><td>48</td><td>1</td><td>1</td><td>20</td><td>0</td><td>0</td><td>0</td><td>0</td><td>245</td><td>127.5</td><td> 80</td><td>25.34</td><td>75</td><td> 70</td><td>0</td></tr>\n",
       "\t<tr><td>0</td><td>61</td><td>3</td><td>1</td><td>30</td><td>0</td><td>0</td><td>1</td><td>0</td><td>225</td><td>150.0</td><td> 95</td><td>28.58</td><td>65</td><td>103</td><td>1</td></tr>\n",
       "\t<tr><td>0</td><td>46</td><td>3</td><td>1</td><td>23</td><td>0</td><td>0</td><td>0</td><td>0</td><td>285</td><td>130.0</td><td> 84</td><td>23.10</td><td>85</td><td> 85</td><td>0</td></tr>\n",
       "\t<tr><td>0</td><td>43</td><td>2</td><td>0</td><td> 0</td><td>0</td><td>0</td><td>1</td><td>0</td><td>228</td><td>180.0</td><td>110</td><td>30.30</td><td>77</td><td> 99</td><td>0</td></tr>\n",
       "</tbody>\n",
       "</table>\n"
      ],
      "text/latex": [
       "A data.frame: 6 × 16\n",
       "\\begin{tabular}{r|llllllllllllllll}\n",
       " male & age & education & currentSmoker & cigsPerDay & BPMeds & prevalentStroke & prevalentHyp & diabetes & totChol & sysBP & diaBP & BMI & heartRate & glucose & TenYearCHD\\\\\n",
       " <int> & <int> & <int> & <int> & <int> & <int> & <int> & <int> & <int> & <int> & <dbl> & <dbl> & <dbl> & <int> & <int> & <int>\\\\\n",
       "\\hline\n",
       "\t 1 & 39 & 4 & 0 &  0 & 0 & 0 & 0 & 0 & 195 & 106.0 &  70 & 26.97 & 80 &  77 & 0\\\\\n",
       "\t 0 & 46 & 2 & 0 &  0 & 0 & 0 & 0 & 0 & 250 & 121.0 &  81 & 28.73 & 95 &  76 & 0\\\\\n",
       "\t 1 & 48 & 1 & 1 & 20 & 0 & 0 & 0 & 0 & 245 & 127.5 &  80 & 25.34 & 75 &  70 & 0\\\\\n",
       "\t 0 & 61 & 3 & 1 & 30 & 0 & 0 & 1 & 0 & 225 & 150.0 &  95 & 28.58 & 65 & 103 & 1\\\\\n",
       "\t 0 & 46 & 3 & 1 & 23 & 0 & 0 & 0 & 0 & 285 & 130.0 &  84 & 23.10 & 85 &  85 & 0\\\\\n",
       "\t 0 & 43 & 2 & 0 &  0 & 0 & 0 & 1 & 0 & 228 & 180.0 & 110 & 30.30 & 77 &  99 & 0\\\\\n",
       "\\end{tabular}\n"
      ],
      "text/markdown": [
       "\n",
       "A data.frame: 6 × 16\n",
       "\n",
       "| male &lt;int&gt; | age &lt;int&gt; | education &lt;int&gt; | currentSmoker &lt;int&gt; | cigsPerDay &lt;int&gt; | BPMeds &lt;int&gt; | prevalentStroke &lt;int&gt; | prevalentHyp &lt;int&gt; | diabetes &lt;int&gt; | totChol &lt;int&gt; | sysBP &lt;dbl&gt; | diaBP &lt;dbl&gt; | BMI &lt;dbl&gt; | heartRate &lt;int&gt; | glucose &lt;int&gt; | TenYearCHD &lt;int&gt; |\n",
       "|---|---|---|---|---|---|---|---|---|---|---|---|---|---|---|---|\n",
       "| 1 | 39 | 4 | 0 |  0 | 0 | 0 | 0 | 0 | 195 | 106.0 |  70 | 26.97 | 80 |  77 | 0 |\n",
       "| 0 | 46 | 2 | 0 |  0 | 0 | 0 | 0 | 0 | 250 | 121.0 |  81 | 28.73 | 95 |  76 | 0 |\n",
       "| 1 | 48 | 1 | 1 | 20 | 0 | 0 | 0 | 0 | 245 | 127.5 |  80 | 25.34 | 75 |  70 | 0 |\n",
       "| 0 | 61 | 3 | 1 | 30 | 0 | 0 | 1 | 0 | 225 | 150.0 |  95 | 28.58 | 65 | 103 | 1 |\n",
       "| 0 | 46 | 3 | 1 | 23 | 0 | 0 | 0 | 0 | 285 | 130.0 |  84 | 23.10 | 85 |  85 | 0 |\n",
       "| 0 | 43 | 2 | 0 |  0 | 0 | 0 | 1 | 0 | 228 | 180.0 | 110 | 30.30 | 77 |  99 | 0 |\n",
       "\n"
      ],
      "text/plain": [
       "  male age education currentSmoker cigsPerDay BPMeds prevalentStroke\n",
       "1 1    39  4         0              0         0      0              \n",
       "2 0    46  2         0              0         0      0              \n",
       "3 1    48  1         1             20         0      0              \n",
       "4 0    61  3         1             30         0      0              \n",
       "5 0    46  3         1             23         0      0              \n",
       "6 0    43  2         0              0         0      0              \n",
       "  prevalentHyp diabetes totChol sysBP diaBP BMI   heartRate glucose TenYearCHD\n",
       "1 0            0        195     106.0  70   26.97 80         77     0         \n",
       "2 0            0        250     121.0  81   28.73 95         76     0         \n",
       "3 0            0        245     127.5  80   25.34 75         70     0         \n",
       "4 1            0        225     150.0  95   28.58 65        103     1         \n",
       "5 0            0        285     130.0  84   23.10 85         85     0         \n",
       "6 1            0        228     180.0 110   30.30 77         99     0         "
      ]
     },
     "metadata": {},
     "output_type": "display_data"
    },
    {
     "data": {
      "text/plain": [
       "    TenYearCHD\n",
       "male    0    1\n",
       "   0 2119  301\n",
       "   1 1477  343"
      ]
     },
     "metadata": {},
     "output_type": "display_data"
    }
   ],
   "source": [
    "# Code for Activity 4 goes here -----\n",
    "framingham_data <- read.csv(\"/dsa/data/all_datasets/framingham/framingham.csv\")\n",
    "head(framingham_data)\n",
    "\n",
    "with(framingham_data,table(male,TenYearCHD))"
   ]
  },
  {
   "cell_type": "code",
   "execution_count": 18,
   "metadata": {},
   "outputs": [
    {
     "data": {
      "text/html": [
       "0.188461538461538"
      ],
      "text/latex": [
       "0.188461538461538"
      ],
      "text/markdown": [
       "0.188461538461538"
      ],
      "text/plain": [
       "[1] 0.1884615"
      ]
     },
     "metadata": {},
     "output_type": "display_data"
    }
   ],
   "source": [
    "# P(CHD | male) = P(CHD and male) / P(male)\n",
    "# Enter your answer for Activity 4 -----\n",
    "\n",
    "343 / (1477 + 343)\n",
    "\n",
    "# 0.188461538461538\n",
    "\n",
    "# I assume that 1 in the male column indicates males, otherwise this would be wrong and this would be females."
   ]
  },
  {
   "cell_type": "markdown",
   "metadata": {},
   "source": [
    "<span style=\"color:#1871d6; font-weight:400\">Activity 5: </span> Find out the probability of randomly selected subject to have the risk of coronary heart disease given subject is less than or equal to 40 years of age."
   ]
  },
  {
   "cell_type": "code",
   "execution_count": 19,
   "metadata": {
    "scrolled": true
   },
   "outputs": [
    {
     "data": {
      "text/plain": [
       "    TenYearCHD\n",
       "age    0   1\n",
       "  32   1   0\n",
       "  33   5   0\n",
       "  34  18   0\n",
       "  35  40   2\n",
       "  36  81   3\n",
       "  37  88   4\n",
       "  38 136   8\n",
       "  39 164   6\n",
       "  40 177  15\n",
       "  41 163  11\n",
       "  42 166  14\n",
       "  43 146  13\n",
       "  44 150  16\n",
       "  45 148  14\n",
       "  46 166  16\n",
       "  47 118  23\n",
       "  48 152  21\n",
       "  49 108  24\n",
       "  50 117  23\n",
       "  51 117  29\n",
       "  52 117  32\n",
       "  53 116  23\n",
       "  54 114  18\n",
       "  55 121  24\n",
       "  56  96  27\n",
       "  57  97  26\n",
       "  58  86  31\n",
       "  59  89  30\n",
       "  60  85  26\n",
       "  61  85  25\n",
       "  62  74  25\n",
       "  63  78  32\n",
       "  64  72  21\n",
       "  65  37  20\n",
       "  66  23  15\n",
       "  67  28  17\n",
       "  68  10   8\n",
       "  69   6   1\n",
       "  70   1   1"
      ]
     },
     "metadata": {},
     "output_type": "display_data"
    }
   ],
   "source": [
    "# Code for activity 5 goes here...\n",
    "\n",
    "with(framingham_data,table(age,TenYearCHD))\n"
   ]
  },
  {
   "cell_type": "code",
   "execution_count": 20,
   "metadata": {},
   "outputs": [
    {
     "data": {
      "text/html": [
       "0.0508021390374332"
      ],
      "text/latex": [
       "0.0508021390374332"
      ],
      "text/markdown": [
       "0.0508021390374332"
      ],
      "text/plain": [
       "[1] 0.05080214"
      ]
     },
     "metadata": {},
     "output_type": "display_data"
    }
   ],
   "source": [
    "# P(CHD | age <= 40) = P(CHD and age <= 40) / P(age <= 40)\n",
    "# Enter your answer for Activity 5 -----\n",
    "\n",
    "38 / (38 + 710)"
   ]
  },
  {
   "cell_type": "markdown",
   "metadata": {},
   "source": [
    "<span style=\"color:#1871d6; font-weight:400\">Activity 6: </span> Find out the probability of randomly selected subject to have the risk of coronary heart disease given that the subject smokes less than 10 cigarettes and is a current smoker. \n",
    "\n",
    "**Hint:** Use a 3-way table to include the variables cigsPerDay, TenYearCHD and currentSmoker. Use currentSmoker as the 3rd dimension/input."
   ]
  },
  {
   "cell_type": "code",
   "execution_count": 22,
   "metadata": {
    "scrolled": true
   },
   "outputs": [
    {
     "data": {
      "text/plain": [
       "          TenYearCHD\n",
       "cigsPerDay    0    1\n",
       "        0  1834  311\n",
       "        1    60    7\n",
       "        2    15    3\n",
       "        3    90   10\n",
       "        4     9    0\n",
       "        5   107   14\n",
       "        6    15    3\n",
       "        7     9    3\n",
       "        8    11    0\n",
       "        9   117   13\n",
       "        10  123   20\n",
       "        11    4    1\n",
       "        12    2    1\n",
       "        13    3    0\n",
       "        14    2    0\n",
       "        15  176   34\n",
       "        16    3    0\n",
       "        17    5    2\n",
       "        18    5    3\n",
       "        19    2    0\n",
       "        20  614  120\n",
       "        23    5    1\n",
       "        25   43   12\n",
       "        29    1    0\n",
       "        30  177   41\n",
       "        35   17    5\n",
       "        38    1    0\n",
       "        40   57   23\n",
       "        43   44   12\n",
       "        45    3    0\n",
       "        50    5    1\n",
       "        60    9    2\n",
       "        70    1    0"
      ]
     },
     "metadata": {},
     "output_type": "display_data"
    }
   ],
   "source": [
    "# Code for activity 6 goes here....\n",
    "\n",
    "with(framingham_data,table(cigsPerDay,TenYearCHD))"
   ]
  },
  {
   "cell_type": "code",
   "execution_count": 23,
   "metadata": {},
   "outputs": [
    {
     "data": {
      "text/html": [
       "0.138350437096161"
      ],
      "text/latex": [
       "0.138350437096161"
      ],
      "text/markdown": [
       "0.138350437096161"
      ],
      "text/plain": [
       "[1] 0.1383504"
      ]
     },
     "metadata": {},
     "output_type": "display_data"
    }
   ],
   "source": [
    "# P( risk of CHD | subject smokes <10 cigs ) = P( risk of CHD and subject smokes <10 cigs)/ P(subject smokes <10 cigs)\n",
    "# Enter your answer for Activity 6 -----\n",
    "\n",
    "364 / (364 + 2267)"
   ]
  },
  {
   "cell_type": "markdown",
   "metadata": {},
   "source": [
    "<span style=\"color:#1871d6; font-weight:400\">Activity 7.a: </span> Find out the probability of randomly selected subject to have the risk of coronary heart disease given that the subject has totChol > 300 and has BMI >30. \n",
    "\n",
    "<span style=\"color:#1871d6; font-weight:400\">Activity 7.b: </span> Find out the probability of randomly selected subject to have the risk of coronary heart disease given that the subject has totChol > 300 and has BMI < 30. \n",
    "\n",
    "**Hint:** Use a 3-way table. Use BMI as the 3rd dimension/input."
   ]
  },
  {
   "cell_type": "code",
   "execution_count": 24,
   "metadata": {},
   "outputs": [
    {
     "data": {
      "text/plain": [
       ", , BMI > 30 = FALSE\n",
       "\n",
       "             TenYearCHD\n",
       "totChol > 300    0    1\n",
       "        FALSE 2909  465\n",
       "        TRUE   214   58\n",
       "\n",
       ", , BMI > 30 = TRUE\n",
       "\n",
       "             TenYearCHD\n",
       "totChol > 300    0    1\n",
       "        FALSE  386   91\n",
       "        TRUE    38   11\n"
      ]
     },
     "metadata": {},
     "output_type": "display_data"
    }
   ],
   "source": [
    "# Code for activity 7 goes here....\n",
    "\n",
    "with(framingham_data,xtabs(~(totChol>300)+TenYearCHD+(BMI>30)))"
   ]
  },
  {
   "cell_type": "code",
   "execution_count": 37,
   "metadata": {},
   "outputs": [
    {
     "data": {
      "text/html": [
       "0.224489795918367"
      ],
      "text/latex": [
       "0.224489795918367"
      ],
      "text/markdown": [
       "0.224489795918367"
      ],
      "text/plain": [
       "[1] 0.2244898"
      ]
     },
     "metadata": {},
     "output_type": "display_data"
    }
   ],
   "source": [
    "# Enter your answer for Activity 7.a (BMI > 30) -----  \n",
    "# P(CHD | TotChol > 300 and BMI > 30) = P(CHD and TotChol > 300 and BMI > 30) / P(TotChol > 300 and BMI > 30)\n",
    " \n",
    "11 / (38 + 11)"
   ]
  },
  {
   "cell_type": "code",
   "execution_count": 36,
   "metadata": {},
   "outputs": [
    {
     "data": {
      "text/html": [
       "0.213235294117647"
      ],
      "text/latex": [
       "0.213235294117647"
      ],
      "text/markdown": [
       "0.213235294117647"
      ],
      "text/plain": [
       "[1] 0.2132353"
      ]
     },
     "metadata": {},
     "output_type": "display_data"
    }
   ],
   "source": [
    "# Enter your answer for Activity 7.b (BMI < 30) -----  \n",
    " # P(CHD | TotChol > 300 and BMI < 30) = P(CHD and TotChol > 300 and BMI < 30) / P(TotChol > 300 and BMI < 30)\n",
    "\n",
    "58 / (214 + 58)"
   ]
  },
  {
   "cell_type": "markdown",
   "metadata": {},
   "source": [
    "<span style=\"color:#1871d6; font-weight:400\">Activity 8: </span> Consider two machines producing memory chips. Machine A is in production 18 hours a day producing 80% of the products while machine B is in production for 6 hours a day producing 20% of the products. Both machines have a fault rate of 0.002 and 0.007, respectively. If a randomly selected chip is faulty, which machine could be the most probable source of producing that chip?"
   ]
  },
  {
   "cell_type": "code",
   "execution_count": 34,
   "metadata": {},
   "outputs": [
    {
     "name": "stdout",
     "output_type": "stream",
     "text": [
      "[1] \"P(B | F)\"\n"
     ]
    },
    {
     "data": {
      "text/html": [
       "0.466666666666667"
      ],
      "text/latex": [
       "0.466666666666667"
      ],
      "text/markdown": [
       "0.466666666666667"
      ],
      "text/plain": [
       "[1] 0.4666667"
      ]
     },
     "metadata": {},
     "output_type": "display_data"
    },
    {
     "name": "stdout",
     "output_type": "stream",
     "text": [
      "[1] \"P(not B | F)\"\n"
     ]
    },
    {
     "data": {
      "text/html": [
       "0.533333333333333"
      ],
      "text/latex": [
       "0.533333333333333"
      ],
      "text/markdown": [
       "0.533333333333333"
      ],
      "text/plain": [
       "[1] 0.5333333"
      ]
     },
     "metadata": {},
     "output_type": "display_data"
    }
   ],
   "source": [
    "# Code for activity 8 goes here. \n",
    "\n",
    "# We don't have any prior probabilities for the machines. We consider amount of production they do as our prior.\n",
    "\n",
    "\n",
    "# Both machines A and B have a fault rate of 0.002 and 0.007. WE use this info as likelihood of generating a faulty chip\n",
    "\n",
    "\n",
    "# Generate posterior probabilities based on prior probability and likelihood of each event.\n",
    "\n",
    "print(\"P(B | F)\")\n",
    "\n",
    "0.0014 / (0.0014 + 0.0016)\n",
    "\n",
    "print(\"P(not B | F)\")\n",
    "\n",
    "0.0016 / (0.0014 + 0.0016)"
   ]
  }
 ],
 "metadata": {
  "kernelspec": {
   "display_name": "R",
   "language": "R",
   "name": "ir"
  },
  "language_info": {
   "codemirror_mode": "r",
   "file_extension": ".r",
   "mimetype": "text/x-r-source",
   "name": "R",
   "pygments_lexer": "r",
   "version": "3.5.1"
  }
 },
 "nbformat": 4,
 "nbformat_minor": 1
}
