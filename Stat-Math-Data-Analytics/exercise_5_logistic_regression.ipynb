{
 "cells": [
  {
   "cell_type": "markdown",
   "metadata": {},
   "source": [
    "<span style=\"color:#04c921; font-size:24px; font-weight:700\"> Logistic regression - Exercises</span>"
   ]
  },
  {
   "cell_type": "markdown",
   "metadata": {},
   "source": [
    "Loans data captured information on loan repayment by individuals. We have 13 independent variables and 1 dependent variable called not.fully.paid. Build a logistic regreession model to predict if an individual is a loan defaulter or not. \n",
    "\n",
    "Load the loans dataset from /datasets/loans/ directory into a dataframe called 'loans_data'."
   ]
  },
  {
   "cell_type": "code",
   "execution_count": 11,
   "metadata": {},
   "outputs": [
    {
     "data": {
      "text/html": [
       "<table>\n",
       "<caption>A data.frame: 6 × 14</caption>\n",
       "<thead>\n",
       "\t<tr><th scope=col>credit.policy</th><th scope=col>purpose</th><th scope=col>int.rate</th><th scope=col>installment</th><th scope=col>log.annual.inc</th><th scope=col>dti</th><th scope=col>fico</th><th scope=col>days.with.cr.line</th><th scope=col>revol.bal</th><th scope=col>revol.util</th><th scope=col>inq.last.6mths</th><th scope=col>delinq.2yrs</th><th scope=col>pub.rec</th><th scope=col>not.fully.paid</th></tr>\n",
       "\t<tr><th scope=col>&lt;int&gt;</th><th scope=col>&lt;fct&gt;</th><th scope=col>&lt;dbl&gt;</th><th scope=col>&lt;dbl&gt;</th><th scope=col>&lt;dbl&gt;</th><th scope=col>&lt;dbl&gt;</th><th scope=col>&lt;int&gt;</th><th scope=col>&lt;dbl&gt;</th><th scope=col>&lt;int&gt;</th><th scope=col>&lt;dbl&gt;</th><th scope=col>&lt;int&gt;</th><th scope=col>&lt;int&gt;</th><th scope=col>&lt;int&gt;</th><th scope=col>&lt;int&gt;</th></tr>\n",
       "</thead>\n",
       "<tbody>\n",
       "\t<tr><td>1</td><td>debt_consolidation</td><td>0.1189</td><td>829.10</td><td>11.35041</td><td>19.48</td><td>737</td><td>5639.958</td><td>28854</td><td>52.1</td><td>0</td><td>0</td><td>0</td><td>0</td></tr>\n",
       "\t<tr><td>1</td><td>credit_card       </td><td>0.1071</td><td>228.22</td><td>11.08214</td><td>14.29</td><td>707</td><td>2760.000</td><td>33623</td><td>76.7</td><td>0</td><td>0</td><td>0</td><td>0</td></tr>\n",
       "\t<tr><td>1</td><td>debt_consolidation</td><td>0.1357</td><td>366.86</td><td>10.37349</td><td>11.63</td><td>682</td><td>4710.000</td><td> 3511</td><td>25.6</td><td>1</td><td>0</td><td>0</td><td>0</td></tr>\n",
       "\t<tr><td>1</td><td>debt_consolidation</td><td>0.1008</td><td>162.34</td><td>11.35041</td><td> 8.10</td><td>712</td><td>2699.958</td><td>33667</td><td>73.2</td><td>1</td><td>0</td><td>0</td><td>0</td></tr>\n",
       "\t<tr><td>1</td><td>credit_card       </td><td>0.1426</td><td>102.92</td><td>11.29973</td><td>14.97</td><td>667</td><td>4066.000</td><td> 4740</td><td>39.5</td><td>0</td><td>1</td><td>0</td><td>0</td></tr>\n",
       "\t<tr><td>1</td><td>credit_card       </td><td>0.0788</td><td>125.13</td><td>11.90497</td><td>16.98</td><td>727</td><td>6120.042</td><td>50807</td><td>51.0</td><td>0</td><td>0</td><td>0</td><td>0</td></tr>\n",
       "</tbody>\n",
       "</table>\n"
      ],
      "text/latex": [
       "A data.frame: 6 × 14\n",
       "\\begin{tabular}{r|llllllllllllll}\n",
       " credit.policy & purpose & int.rate & installment & log.annual.inc & dti & fico & days.with.cr.line & revol.bal & revol.util & inq.last.6mths & delinq.2yrs & pub.rec & not.fully.paid\\\\\n",
       " <int> & <fct> & <dbl> & <dbl> & <dbl> & <dbl> & <int> & <dbl> & <int> & <dbl> & <int> & <int> & <int> & <int>\\\\\n",
       "\\hline\n",
       "\t 1 & debt\\_consolidation & 0.1189 & 829.10 & 11.35041 & 19.48 & 737 & 5639.958 & 28854 & 52.1 & 0 & 0 & 0 & 0\\\\\n",
       "\t 1 & credit\\_card        & 0.1071 & 228.22 & 11.08214 & 14.29 & 707 & 2760.000 & 33623 & 76.7 & 0 & 0 & 0 & 0\\\\\n",
       "\t 1 & debt\\_consolidation & 0.1357 & 366.86 & 10.37349 & 11.63 & 682 & 4710.000 &  3511 & 25.6 & 1 & 0 & 0 & 0\\\\\n",
       "\t 1 & debt\\_consolidation & 0.1008 & 162.34 & 11.35041 &  8.10 & 712 & 2699.958 & 33667 & 73.2 & 1 & 0 & 0 & 0\\\\\n",
       "\t 1 & credit\\_card        & 0.1426 & 102.92 & 11.29973 & 14.97 & 667 & 4066.000 &  4740 & 39.5 & 0 & 1 & 0 & 0\\\\\n",
       "\t 1 & credit\\_card        & 0.0788 & 125.13 & 11.90497 & 16.98 & 727 & 6120.042 & 50807 & 51.0 & 0 & 0 & 0 & 0\\\\\n",
       "\\end{tabular}\n"
      ],
      "text/markdown": [
       "\n",
       "A data.frame: 6 × 14\n",
       "\n",
       "| credit.policy &lt;int&gt; | purpose &lt;fct&gt; | int.rate &lt;dbl&gt; | installment &lt;dbl&gt; | log.annual.inc &lt;dbl&gt; | dti &lt;dbl&gt; | fico &lt;int&gt; | days.with.cr.line &lt;dbl&gt; | revol.bal &lt;int&gt; | revol.util &lt;dbl&gt; | inq.last.6mths &lt;int&gt; | delinq.2yrs &lt;int&gt; | pub.rec &lt;int&gt; | not.fully.paid &lt;int&gt; |\n",
       "|---|---|---|---|---|---|---|---|---|---|---|---|---|---|\n",
       "| 1 | debt_consolidation | 0.1189 | 829.10 | 11.35041 | 19.48 | 737 | 5639.958 | 28854 | 52.1 | 0 | 0 | 0 | 0 |\n",
       "| 1 | credit_card        | 0.1071 | 228.22 | 11.08214 | 14.29 | 707 | 2760.000 | 33623 | 76.7 | 0 | 0 | 0 | 0 |\n",
       "| 1 | debt_consolidation | 0.1357 | 366.86 | 10.37349 | 11.63 | 682 | 4710.000 |  3511 | 25.6 | 1 | 0 | 0 | 0 |\n",
       "| 1 | debt_consolidation | 0.1008 | 162.34 | 11.35041 |  8.10 | 712 | 2699.958 | 33667 | 73.2 | 1 | 0 | 0 | 0 |\n",
       "| 1 | credit_card        | 0.1426 | 102.92 | 11.29973 | 14.97 | 667 | 4066.000 |  4740 | 39.5 | 0 | 1 | 0 | 0 |\n",
       "| 1 | credit_card        | 0.0788 | 125.13 | 11.90497 | 16.98 | 727 | 6120.042 | 50807 | 51.0 | 0 | 0 | 0 | 0 |\n",
       "\n"
      ],
      "text/plain": [
       "  credit.policy purpose            int.rate installment log.annual.inc dti  \n",
       "1 1             debt_consolidation 0.1189   829.10      11.35041       19.48\n",
       "2 1             credit_card        0.1071   228.22      11.08214       14.29\n",
       "3 1             debt_consolidation 0.1357   366.86      10.37349       11.63\n",
       "4 1             debt_consolidation 0.1008   162.34      11.35041        8.10\n",
       "5 1             credit_card        0.1426   102.92      11.29973       14.97\n",
       "6 1             credit_card        0.0788   125.13      11.90497       16.98\n",
       "  fico days.with.cr.line revol.bal revol.util inq.last.6mths delinq.2yrs\n",
       "1 737  5639.958          28854     52.1       0              0          \n",
       "2 707  2760.000          33623     76.7       0              0          \n",
       "3 682  4710.000           3511     25.6       1              0          \n",
       "4 712  2699.958          33667     73.2       1              0          \n",
       "5 667  4066.000           4740     39.5       0              1          \n",
       "6 727  6120.042          50807     51.0       0              0          \n",
       "  pub.rec not.fully.paid\n",
       "1 0       0             \n",
       "2 0       0             \n",
       "3 0       0             \n",
       "4 0       0             \n",
       "5 0       0             \n",
       "6 0       0             "
      ]
     },
     "metadata": {},
     "output_type": "display_data"
    }
   ],
   "source": [
    "#load the loans dataset\n",
    "loans_data=read.csv(\"/dsa/data/all_datasets/loans/loans.csv\")\n",
    "head(loans_data)"
   ]
  },
  {
   "cell_type": "code",
   "execution_count": 21,
   "metadata": {},
   "outputs": [
    {
     "name": "stderr",
     "output_type": "stream",
     "text": [
      "\n",
      "Attaching package: ‘dplyr’\n",
      "\n",
      "The following objects are masked from ‘package:stats’:\n",
      "\n",
      "    filter, lag\n",
      "\n",
      "The following objects are masked from ‘package:base’:\n",
      "\n",
      "    intersect, setdiff, setequal, union\n",
      "\n"
     ]
    }
   ],
   "source": [
    "library(dplyr)\n",
    "\n",
    "loans_data <- loans_data %>%\n",
    "mutate_if(is.factor, as.numeric)"
   ]
  },
  {
   "cell_type": "code",
   "execution_count": 22,
   "metadata": {},
   "outputs": [
    {
     "name": "stdout",
     "output_type": "stream",
     "text": [
      "'data.frame':\t9578 obs. of  14 variables:\n",
      " $ credit.policy    : int  1 1 1 1 1 1 1 1 1 1 ...\n",
      " $ purpose          : num  3 2 3 3 2 2 3 1 5 3 ...\n",
      " $ int.rate         : num  0.119 0.107 0.136 0.101 0.143 ...\n",
      " $ installment      : num  829 228 367 162 103 ...\n",
      " $ log.annual.inc   : num  11.4 11.1 10.4 11.4 11.3 ...\n",
      " $ dti              : num  19.5 14.3 11.6 8.1 15 ...\n",
      " $ fico             : int  737 707 682 712 667 727 667 722 682 707 ...\n",
      " $ days.with.cr.line: num  5640 2760 4710 2700 4066 ...\n",
      " $ revol.bal        : int  28854 33623 3511 33667 4740 50807 3839 24220 69909 5630 ...\n",
      " $ revol.util       : num  52.1 76.7 25.6 73.2 39.5 51 76.8 68.6 51.1 23 ...\n",
      " $ inq.last.6mths   : int  0 0 1 1 0 0 0 0 1 1 ...\n",
      " $ delinq.2yrs      : int  0 0 0 0 1 0 0 0 0 0 ...\n",
      " $ pub.rec          : int  0 0 0 0 0 0 1 0 0 0 ...\n",
      " $ not.fully.paid   : int  0 0 0 0 0 0 1 1 0 0 ...\n"
     ]
    }
   ],
   "source": [
    "str(loans_data)"
   ]
  },
  {
   "cell_type": "markdown",
   "metadata": {},
   "source": [
    "<span style=\"color:#1d80ba; font-size:14px; font-weight:700\">Activity 1:</span> What proportion of the loans in the dataset were not paid in full?"
   ]
  },
  {
   "cell_type": "code",
   "execution_count": 23,
   "metadata": {},
   "outputs": [
    {
     "data": {
      "text/plain": [
       "\n",
       "   0    1 \n",
       "8045 1533 "
      ]
     },
     "metadata": {},
     "output_type": "display_data"
    },
    {
     "data": {
      "text/html": [
       "0.839945708916266"
      ],
      "text/latex": [
       "0.839945708916266"
      ],
      "text/markdown": [
       "0.839945708916266"
      ],
      "text/plain": [
       "[1] 0.8399457"
      ]
     },
     "metadata": {},
     "output_type": "display_data"
    }
   ],
   "source": [
    "# Your code for activity 1 goes here..\n",
    "\n",
    "table(loans_data$not.fully.paid)\n",
    "\n",
    "\n",
    "8045/9578\n"
   ]
  },
  {
   "cell_type": "markdown",
   "metadata": {},
   "source": [
    "<span style=\"color:#1d80ba; font-size:14px; font-weight:700\">Activity 2:</span> split data into a training and testing set. Use the seed as 144. Put 70% data into train_data dataframe and 30% in test_data dataframe. "
   ]
  },
  {
   "cell_type": "code",
   "execution_count": 24,
   "metadata": {},
   "outputs": [],
   "source": [
    "# Your code for activity 2 goes here..\n",
    "library(devtools)\n",
    "packageurl <- \"https://cran.r-project.org/src/contrib/Archive/caTools/caTools_1.16.tar.gz\"\n",
    "install.packages(packageurl, repos=NULL, type=\"source\")\n",
    "library(caTools)\n",
    "set.seed(144) # set.seed() will help us to reproduce the results.\n",
    "split = sample.split(loans_data, SplitRatio=0.7)\n",
    "# Your code for activity 2 goes here..\n",
    "\n",
    "# Train data will have 70% of data\n",
    "train_data  = subset(loans_data, split==TRUE)\n",
    "\n",
    "# Test data will have the rest 30% of data\n",
    "test_data  = subset(loans_data, split==FALSE)\n"
   ]
  },
  {
   "cell_type": "markdown",
   "metadata": {},
   "source": [
    "<span style=\"color:#1d80ba; font-size:14px; font-weight:700\">Activity 3:</span> Build a logistic regression model on train_data to predict not.fully.paid using all the independent variables."
   ]
  },
  {
   "cell_type": "code",
   "execution_count": 31,
   "metadata": {
    "scrolled": true
   },
   "outputs": [
    {
     "data": {
      "text/plain": [
       "\n",
       "Call:\n",
       "lm(formula = not.fully.paid ~ credit.policy + purpose + int.rate + \n",
       "    installment + log.annual.inc + dti + fico + days.with.cr.line + \n",
       "    revol.bal + revol.util + inq.last.6mths + delinq.2yrs + pub.rec, \n",
       "    data = train_data)\n",
       "\n",
       "Residuals:\n",
       "     Min       1Q   Median       3Q      Max \n",
       "-0.65919 -0.18738 -0.13323 -0.06452  0.99624 \n",
       "\n",
       "Coefficients:\n",
       "                    Estimate Std. Error t value Pr(>|t|)    \n",
       "(Intercept)        1.143e+00  2.046e-01   5.588 2.40e-08 ***\n",
       "credit.policy     -6.961e-02  1.519e-02  -4.581 4.71e-06 ***\n",
       "purpose            7.268e-03  2.836e-03   2.563  0.01041 *  \n",
       "int.rate           3.154e-01  2.901e-01   1.087  0.27702    \n",
       "installment        1.445e-04  2.826e-05   5.113 3.27e-07 ***\n",
       "log.annual.inc    -5.589e-02  9.339e-03  -5.984 2.30e-09 ***\n",
       "dti               -1.103e-03  7.405e-04  -1.490  0.13628    \n",
       "fico              -6.617e-04  2.233e-04  -2.963  0.00306 ** \n",
       "days.with.cr.line  3.369e-06  2.124e-06   1.586  0.11274    \n",
       "revol.bal          2.651e-07  1.712e-07   1.548  0.12164    \n",
       "revol.util         4.859e-04  2.117e-04   2.295  0.02177 *  \n",
       "inq.last.6mths     1.519e-02  2.524e-03   6.020 1.84e-09 ***\n",
       "delinq.2yrs       -2.258e-03  9.459e-03  -0.239  0.81131    \n",
       "pub.rec            2.172e-02  1.793e-02   1.211  0.22579    \n",
       "---\n",
       "Signif. codes:  0 ‘***’ 0.001 ‘**’ 0.01 ‘*’ 0.05 ‘.’ 0.1 ‘ ’ 1\n",
       "\n",
       "Residual standard error: 0.3635 on 6143 degrees of freedom\n",
       "Multiple R-squared:  0.04972,\tAdjusted R-squared:  0.04771 \n",
       "F-statistic: 24.72 on 13 and 6143 DF,  p-value: < 2.2e-16\n"
      ]
     },
     "metadata": {},
     "output_type": "display_data"
    }
   ],
   "source": [
    "# Your code for activity 3 goes here..\n",
    "\n",
    "predict_train = lm(not.fully.paid ~ credit.policy + purpose + int.rate + installment + log.annual.inc + dti + fico + days.with.cr.line + revol.bal + revol.util + inq.last.6mths + delinq.2yrs + pub.rec, data=train_data)\n",
    "\n",
    "summary(predict_train)\n"
   ]
  },
  {
   "cell_type": "markdown",
   "metadata": {},
   "source": [
    "<span style=\"color:#1d80ba; font-size:14px; font-weight:700\">Activity 4:</span> Above model predict_train has some variables that are not significant. Remove the variables (purpose, int.rate, dti, days.with.cr.line, revol.util, delinq.2yrs) from the model and rebuild it. Name this new model predict_train1. Look for any change in the AIC value. "
   ]
  },
  {
   "cell_type": "code",
   "execution_count": 28,
   "metadata": {
    "scrolled": true
   },
   "outputs": [
    {
     "data": {
      "text/plain": [
       "\n",
       "Call:\n",
       "lm(formula = not.fully.paid ~ credit.policy + installment + log.annual.inc + \n",
       "    fico + revol.bal + inq.last.6mths + pub.rec, data = train_data)\n",
       "\n",
       "Residuals:\n",
       "     Min       1Q   Median       3Q      Max \n",
       "-0.66004 -0.18527 -0.13537 -0.06952  0.98411 \n",
       "\n",
       "Coefficients:\n",
       "                 Estimate Std. Error t value Pr(>|t|)    \n",
       "(Intercept)     1.345e+00  1.252e-01  10.743  < 2e-16 ***\n",
       "credit.policy  -6.673e-02  1.511e-02  -4.417 1.02e-05 ***\n",
       "installment     1.703e-04  2.524e-05   6.748 1.64e-11 ***\n",
       "log.annual.inc -5.094e-02  9.016e-03  -5.650 1.68e-08 ***\n",
       "fico           -9.194e-04  1.327e-04  -6.929 4.68e-12 ***\n",
       "revol.bal       3.448e-07  1.630e-07   2.115   0.0345 *  \n",
       "inq.last.6mths  1.518e-02  2.499e-03   6.074 1.32e-09 ***\n",
       "pub.rec         2.603e-02  1.779e-02   1.463   0.1435    \n",
       "---\n",
       "Signif. codes:  0 ‘***’ 0.001 ‘**’ 0.01 ‘*’ 0.05 ‘.’ 0.1 ‘ ’ 1\n",
       "\n",
       "Residual standard error: 0.3639 on 6149 degrees of freedom\n",
       "Multiple R-squared:  0.04683,\tAdjusted R-squared:  0.04575 \n",
       "F-statistic: 43.16 on 7 and 6149 DF,  p-value: < 2.2e-16\n"
      ]
     },
     "metadata": {},
     "output_type": "display_data"
    }
   ],
   "source": [
    "# Your code for activity 4 goes here..\n",
    "\n",
    "predict_train1 = lm(not.fully.paid ~ credit.policy + installment + log.annual.inc + fico + revol.bal + inq.last.6mths + pub.rec, data=train_data)\n",
    "\n",
    "summary(predict_train1)\n"
   ]
  },
  {
   "cell_type": "markdown",
   "metadata": {},
   "source": [
    "The AIC value has increased from 5523 to 5568. A model with minimum AIC is the preferred one. So will stick with the model predict_train for doing predictions on test dataset. "
   ]
  },
  {
   "cell_type": "markdown",
   "metadata": {},
   "source": [
    "<span style=\"color:#1d80ba; font-size:14px; font-weight:700\">Activity 5:</span> Predict the outcomes on test dataset loans which are not being paid back in full. Store these predicted probabilities in a variable named predicted.risk."
   ]
  },
  {
   "cell_type": "code",
   "execution_count": 32,
   "metadata": {
    "scrolled": true
   },
   "outputs": [],
   "source": [
    "# Your code for activity 5 goes here..\n",
    "\n",
    "predicted.risk = predict(predict_train, type=\"response\", newdata=test_data)\n"
   ]
  },
  {
   "cell_type": "markdown",
   "metadata": {},
   "source": [
    "<span style=\"color:#1d80ba; font-size:14px; font-weight:700\">Activity 6:</span> Compute the confusion matrix between variables not.fully.paid in test_data and predicted.risk using a threshold of 0.5"
   ]
  },
  {
   "cell_type": "code",
   "execution_count": 33,
   "metadata": {},
   "outputs": [
    {
     "data": {
      "text/plain": [
       "   \n",
       "    FALSE TRUE\n",
       "  0  2909    4\n",
       "  1   505    3"
      ]
     },
     "metadata": {},
     "output_type": "display_data"
    }
   ],
   "source": [
    "# Your code for activity 6 goes here..\n",
    "\n",
    "table(test_data$not.fully.paid, predicted.risk>0.5)\n"
   ]
  },
  {
   "cell_type": "markdown",
   "metadata": {},
   "source": [
    "<span style=\"color:#1d80ba; font-size:14px; font-weight:700\">Activity 7:</span> What is the accuracy of the model predict_train?"
   ]
  },
  {
   "cell_type": "code",
   "execution_count": 35,
   "metadata": {},
   "outputs": [
    {
     "data": {
      "text/html": [
       "0.851213095586086"
      ],
      "text/latex": [
       "0.851213095586086"
      ],
      "text/markdown": [
       "0.851213095586086"
      ],
      "text/plain": [
       "[1] 0.8512131"
      ]
     },
     "metadata": {},
     "output_type": "display_data"
    }
   ],
   "source": [
    "# Your answer for activity 7 goes here.\n",
    "\n",
    "# Just do the math here using the numbers you got in above confusion matrix. No need of any code. \n",
    "\n",
    "# (TP + TN) / number of observations in the dataset\n",
    "\n",
    "# In R, 0 = FALSE and 1 = TRUE, so the values for 0 are those that are paid, and the values for 1 are those that are\n",
    "# not paid.\n",
    "\n",
    "(3+2909)/(2909+4+505+3)\n"
   ]
  },
  {
   "cell_type": "markdown",
   "metadata": {},
   "source": [
    "<span style=\"color:#1d80ba; font-size:14px; font-weight:700\">Activity 8:</span> What is the accuracy of the baseline model?"
   ]
  },
  {
   "cell_type": "code",
   "execution_count": 36,
   "metadata": {},
   "outputs": [
    {
     "data": {
      "text/html": [
       "0.851505407775504"
      ],
      "text/latex": [
       "0.851505407775504"
      ],
      "text/markdown": [
       "0.851505407775504"
      ],
      "text/plain": [
       "[1] 0.8515054"
      ]
     },
     "metadata": {},
     "output_type": "display_data"
    }
   ],
   "source": [
    "# Your answer for activity 8 goes here..\n",
    "\n",
    "# Just do the math here using the numbers you got in above confusion matrix. No need of any code. \n",
    "\n",
    "(4+2909)/(2909+4+505+3)\n"
   ]
  },
  {
   "cell_type": "markdown",
   "metadata": {},
   "source": [
    "<span style=\"color:#1d80ba; font-size:14px; font-weight:700\">Activity 9:</span> Compute the AUC of the model predict_train using the ROCR package."
   ]
  },
  {
   "cell_type": "code",
   "execution_count": 39,
   "metadata": {},
   "outputs": [
    {
     "name": "stderr",
     "output_type": "stream",
     "text": [
      "Updating HTML index of packages in '.Library'\n",
      "Making 'packages.html' ... done\n"
     ]
    },
    {
     "data": {
      "text/html": [
       "0.68392097872421"
      ],
      "text/latex": [
       "0.68392097872421"
      ],
      "text/markdown": [
       "0.68392097872421"
      ],
      "text/plain": [
       "[1] 0.683921"
      ]
     },
     "metadata": {},
     "output_type": "display_data"
    }
   ],
   "source": [
    "install.packages(\"gplots\")\n",
    "packageurl <- 'https://cran.r-project.org/src/contrib/Archive/ROCR/ROCR_1.0-7.tar.gz'\n",
    "install.packages(packageurl, repos=NULL, type=\"source\")\n",
    "library(ROCR)\n",
    "\n",
    "# Your answer for activity 9 goes here..\n",
    "\n",
    "ROCR_predictions = prediction(predicted.risk, test_data$not.fully.paid)\n",
    "as.numeric(performance(ROCR_predictions,\"auc\")@y.values)\n",
    "\n"
   ]
  },
  {
   "cell_type": "markdown",
   "metadata": {},
   "source": [
    "<span style=\"color:#1d80ba; font-size:14px; font-weight:700\">Activity 10:</span> Determine the 100th smallest predicted probability of not paying in full by sorting the predicted risks in increasing order and selecting the 100th element of this sorted list"
   ]
  },
  {
   "cell_type": "code",
   "execution_count": 59,
   "metadata": {},
   "outputs": [
    {
     "data": {
      "text/html": [
       "<strong>500:</strong> 0.0300663598249534"
      ],
      "text/latex": [
       "\\textbf{500:} 0.0300663598249534"
      ],
      "text/markdown": [
       "**500:** 0.0300663598249534"
      ],
      "text/plain": [
       "       500 \n",
       "0.03006636 "
      ]
     },
     "metadata": {},
     "output_type": "display_data"
    }
   ],
   "source": [
    "# Your answer for activity 10 goes here..\n",
    "\n",
    "x = sort(predicted.risk, decreasing = FALSE)[100]\n",
    "\n",
    "x"
   ]
  },
  {
   "cell_type": "markdown",
   "metadata": {},
   "source": [
    "# Save your notebook!"
   ]
  }
 ],
 "metadata": {
  "kernelspec": {
   "display_name": "R",
   "language": "R",
   "name": "ir"
  },
  "language_info": {
   "codemirror_mode": "r",
   "file_extension": ".r",
   "mimetype": "text/x-r-source",
   "name": "R",
   "pygments_lexer": "r",
   "version": "3.5.1"
  }
 },
 "nbformat": 4,
 "nbformat_minor": 1
}
