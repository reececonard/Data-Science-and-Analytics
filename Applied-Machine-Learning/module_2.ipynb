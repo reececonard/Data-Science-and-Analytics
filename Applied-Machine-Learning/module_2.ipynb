{
 "cells": [
  {
   "cell_type": "markdown",
   "metadata": {},
   "source": [
    "# Train, Validate $\\rightarrow$ Train, Test\n",
    "\n",
    "In this exercise, you will perform empirical comparison of the results of a ten-fold cross validated model with a fully trained model.\n",
    "\n",
    "## Notes and Guidelines\n",
    "* Read a dataset from disk and use it for a classification task.\n",
    "* Construct a Gaussian Naive Bayes classifier and fit it to the phoneme dataset provided.\n",
    "* Save and re-load a trained classifier.\n",
    "* Compare K-fold cross-validation scores with the success rate of a fully-trained model.\n",
    "\n",
    "\n",
    "### Dataset\n",
    "* Dataset acquired from [KEEL](http://sci2s.ugr.es/keel/dataset.php?cod=105), an excellent resource for finding 'toy' datasets (and a few more serious ones).\n",
    "    * A description of the dataset is provided at the above link - **read it.**\n",
    "    * Excerpt: \n",
    "    *The aim of this dataset is to distinguish between nasal (class 0) and oral sounds (class 1).\n",
    "    The class distribution is 3,818 samples in class 0 and 1,586 samples in class 1.\n",
    "    The phonemes are transcribed as follows: sh as in she, dcl as in dark, iy as the vowel in she, aa as the vowel in dark, and ao as the first vowel in water.*\n",
    "    \n",
    "* It is not necessary to fully understand the nature or context of the values in the dataset - only that there are five columns of input (featural) data and one column of output (class) data."
   ]
  },
  {
   "cell_type": "markdown",
   "metadata": {},
   "source": [
    "## Handling imports and dataset inclusion"
   ]
  },
  {
   "cell_type": "code",
   "execution_count": 1,
   "metadata": {},
   "outputs": [],
   "source": [
    "import os\n",
    "import pandas as pd\n",
    "import numpy as np\n",
    "\n",
    "# <import necessary modules> \n",
    "import numpy as np\n",
    "import matplotlib.pyplot as plt\n",
    "import seaborn as sns\n",
    "from sklearn.model_selection import cross_val_score, train_test_split\n",
    "from sklearn.metrics import classification_report\n",
    "from sklearn.naive_bayes import GaussianNB\n",
    "from collections import OrderedDict\n",
    "import sklearn.model_selection\n",
    "from sklearn.naive_bayes import GaussianNB\n",
    "\n",
    "# locate dataset\n",
    "DATASET = '/dsa/data/all_datasets/phoneme.csv'  # phoneme classification dataset\n",
    "assert os.path.exists(DATASET)  # check if the file actually exists"
   ]
  },
  {
   "cell_type": "markdown",
   "metadata": {},
   "source": [
    "## Constructing DataFrame from raw dataset\n",
    "\n",
    "<span style=\"background:yellow\">**Note**</span>: Variable `dataset` should be used for the dataframe."
   ]
  },
  {
   "cell_type": "code",
   "execution_count": 2,
   "metadata": {},
   "outputs": [
    {
     "name": "stdout",
     "output_type": "stream",
     "text": [
      "Dataset shape:  (5404, 6)\n"
     ]
    }
   ],
   "source": [
    "\n",
    "dataset = pd.read_csv(DATASET, header=0).sample(frac=1)\n",
    "\n",
    "# verify dataset shape\n",
    "print(\"Dataset shape: \", dataset.shape)"
   ]
  },
  {
   "cell_type": "code",
   "execution_count": 3,
   "metadata": {},
   "outputs": [
    {
     "data": {
      "text/html": [
       "<div>\n",
       "<style scoped>\n",
       "    .dataframe tbody tr th:only-of-type {\n",
       "        vertical-align: middle;\n",
       "    }\n",
       "\n",
       "    .dataframe tbody tr th {\n",
       "        vertical-align: top;\n",
       "    }\n",
       "\n",
       "    .dataframe thead th {\n",
       "        text-align: right;\n",
       "    }\n",
       "</style>\n",
       "<table border=\"1\" class=\"dataframe\">\n",
       "  <thead>\n",
       "    <tr style=\"text-align: right;\">\n",
       "      <th></th>\n",
       "      <th>Aa</th>\n",
       "      <th>Ao</th>\n",
       "      <th>Dcl</th>\n",
       "      <th>Iy</th>\n",
       "      <th>Sh</th>\n",
       "      <th>Class</th>\n",
       "    </tr>\n",
       "  </thead>\n",
       "  <tbody>\n",
       "    <tr>\n",
       "      <th>2488</th>\n",
       "      <td>0.381</td>\n",
       "      <td>2.045</td>\n",
       "      <td>-0.306</td>\n",
       "      <td>-0.163</td>\n",
       "      <td>-0.091</td>\n",
       "      <td>0</td>\n",
       "    </tr>\n",
       "    <tr>\n",
       "      <th>2066</th>\n",
       "      <td>0.857</td>\n",
       "      <td>2.735</td>\n",
       "      <td>-0.450</td>\n",
       "      <td>-0.187</td>\n",
       "      <td>-0.199</td>\n",
       "      <td>0</td>\n",
       "    </tr>\n",
       "    <tr>\n",
       "      <th>5076</th>\n",
       "      <td>0.171</td>\n",
       "      <td>0.958</td>\n",
       "      <td>2.044</td>\n",
       "      <td>-0.762</td>\n",
       "      <td>-0.596</td>\n",
       "      <td>0</td>\n",
       "    </tr>\n",
       "    <tr>\n",
       "      <th>1083</th>\n",
       "      <td>0.278</td>\n",
       "      <td>1.134</td>\n",
       "      <td>2.136</td>\n",
       "      <td>0.838</td>\n",
       "      <td>1.005</td>\n",
       "      <td>1</td>\n",
       "    </tr>\n",
       "    <tr>\n",
       "      <th>5006</th>\n",
       "      <td>0.682</td>\n",
       "      <td>1.980</td>\n",
       "      <td>1.237</td>\n",
       "      <td>-0.433</td>\n",
       "      <td>-0.517</td>\n",
       "      <td>0</td>\n",
       "    </tr>\n",
       "  </tbody>\n",
       "</table>\n",
       "</div>"
      ],
      "text/plain": [
       "         Aa     Ao    Dcl     Iy     Sh  Class\n",
       "2488  0.381  2.045 -0.306 -0.163 -0.091      0\n",
       "2066  0.857  2.735 -0.450 -0.187 -0.199      0\n",
       "5076  0.171  0.958  2.044 -0.762 -0.596      0\n",
       "1083  0.278  1.134  2.136  0.838  1.005      1\n",
       "5006  0.682  1.980  1.237 -0.433 -0.517      0"
      ]
     },
     "execution_count": 3,
     "metadata": {},
     "output_type": "execute_result"
    }
   ],
   "source": [
    "# show first few lines of the dataset\n",
    "dataset.head()"
   ]
  },
  {
   "cell_type": "markdown",
   "metadata": {},
   "source": [
    "## Splitting data into training and test sets\n",
    "\n",
    "Split the datasets into training (80%) and testing (20%) sets. \n",
    "\n",
    "The below is only necessary if you are interested in visualizing\n",
    "the data or providing neatly-labeled output within the program.\n",
    "\n",
    "```python\n",
    "# extract labels from column headers\n",
    "phonemes = dataset.columns[0:5].tolist()  # Feature labels\n",
    "labels = {0: 'Nasal', 1: 'Oral'}  # Class labels\n",
    "```"
   ]
  },
  {
   "cell_type": "code",
   "execution_count": 4,
   "metadata": {},
   "outputs": [
    {
     "name": "stdout",
     "output_type": "stream",
     "text": [
      "Training shapes (X, y):  (4323, 5) (4323,)\n",
      "Testing shapes (X, y):  (1081, 5) (1081,)\n"
     ]
    }
   ],
   "source": [
    "# extract features and class data from primary data frame\n",
    "X = np.array(dataset.iloc[:, :-1])\n",
    "y = np.array(dataset.Class)\n",
    "\n",
    "# split data into training and test sets\n",
    "X_train, X_test, y_train, y_test = train_test_split(X, y, test_size=0.2)\n",
    "print(\"Training shapes (X, y): \", X_train.shape, y_train.shape)\n",
    "print(\"Testing shapes (X, y): \", X_test.shape, y_test.shape)"
   ]
  },
  {
   "cell_type": "markdown",
   "metadata": {},
   "source": [
    "## Constructing the classifier and running automated cross-validation\n",
    "\n",
    "* Run a 10-fold cross validation with `GaussianNB` classifier\n",
    "* Print the accuracy scores for these 10 folds"
   ]
  },
  {
   "cell_type": "code",
   "execution_count": 5,
   "metadata": {},
   "outputs": [
    {
     "name": "stdout",
     "output_type": "stream",
     "text": [
      "[0.75288684 0.73903002 0.79445727 0.7662037  0.75       0.71527778\n",
      " 0.78240741 0.77777778 0.78935185 0.75925926]\n"
     ]
    }
   ],
   "source": [
    "# Your code below this line (Question #E101)\n",
    "# --------------------------\n",
    "\n",
    "classifier = GaussianNB()\n",
    "scores = cross_val_score(classifier, X_train, y_train, cv=10)\n",
    "print(scores)"
   ]
  },
  {
   "cell_type": "markdown",
   "metadata": {},
   "source": [
    "## Training the classifier and pickling to disk\n",
    "* Learn the model with all the training instances and store to disk"
   ]
  },
  {
   "cell_type": "code",
   "execution_count": 6,
   "metadata": {},
   "outputs": [
    {
     "data": {
      "text/plain": [
       "['GaussianDigits.pkl']"
      ]
     },
     "execution_count": 6,
     "metadata": {},
     "output_type": "execute_result"
    }
   ],
   "source": [
    "# Your code below this line (Question #E102)\n",
    "# --------------------------\n",
    "classifier.fit(X_train, y_train)\n",
    "\n",
    "import joblib\n",
    "joblib.dump(classifier, 'GaussianDigits.pkl')"
   ]
  },
  {
   "cell_type": "markdown",
   "metadata": {},
   "source": [
    "## Unpickling the model and making predictions\n",
    "\n",
    "* Load the saved model \n",
    "* Make predictions for the testing set\n"
   ]
  },
  {
   "cell_type": "code",
   "execution_count": 7,
   "metadata": {},
   "outputs": [
    {
     "name": "stdout",
     "output_type": "stream",
     "text": [
      "Input vs. output shape:\n",
      "(1081, 5) (1081,)\n"
     ]
    }
   ],
   "source": [
    "# Your code below this line (Question #E103)\n",
    "# --------------------------\n",
    "\n",
    "# load pickled model\n",
    "loaded_model = joblib.load('GaussianDigits.pkl')\n",
    "\n",
    "# make predictions with freshly loaded model\n",
    "y_pred = classifier.predict(X_test)\n",
    "\n",
    "# verify input and output shape are appropriate\n",
    "print(\"Input vs. output shape:\")\n",
    "print(X_test.shape, y_pred.shape)\n"
   ]
  },
  {
   "cell_type": "markdown",
   "metadata": {},
   "source": [
    "## Performing final performance comparison"
   ]
  },
  {
   "cell_type": "code",
   "execution_count": 8,
   "metadata": {},
   "outputs": [
    {
     "data": {
      "text/plain": [
       "7.6266519100000005"
      ]
     },
     "execution_count": 8,
     "metadata": {},
     "output_type": "execute_result"
    }
   ],
   "source": [
    "x = (0.75288684 + 0.73903002 + 0.79445727 + 0.7662037 + 0.75 + 0.71527778 +\n",
    " 0.78240741 + 0.77777778 + 0.78935185 + 0.75925926)\n",
    "x"
   ]
  },
  {
   "cell_type": "code",
   "execution_count": 9,
   "metadata": {},
   "outputs": [
    {
     "name": "stdout",
     "output_type": "stream",
     "text": [
      "Correct guesses: 820\n",
      "Incorrect guesses: 261\n",
      "Percent correct: 75.85568917668826\n",
      "Percent cross-validation score (10 folds, average): 76.26651910000001\n"
     ]
    }
   ],
   "source": [
    "# tally up right + wrong 'guesses' by model\n",
    "true, false = 0, 0\n",
    "for i, j in zip(y_test, y_pred):\n",
    "    # print(i, j)\n",
    "    if i == j:\n",
    "        true += 1\n",
    "    else:\n",
    "        false += 1\n",
    "\n",
    "# report results numerically and by percentage\n",
    "true_percent = true / (true + false) * 100\n",
    "print(\"Correct guesses: \" + str(true) + \"\\nIncorrect guesses: \" + str(false))\n",
    "print(\"Percent correct: \" + str(true_percent))\n",
    "\n",
    "# compare to average of cross-validation scores\n",
    "avg_cv = np.sum(x) / len(scores) * 100\n",
    "print(\"Percent cross-validation score (10 folds, average): \" + str(avg_cv))"
   ]
  },
  {
   "cell_type": "markdown",
   "metadata": {},
   "source": [
    "## Measure performance using Scikit Learn modules \n",
    "\n",
    "Compute and display the following:\n",
    " 1. Compute Confusion Matrix\n",
    " 1. Accuracy\n",
    " 1. Precision\n",
    " 1. Recall\n",
    " 1. $F_1$-Score\n",
    " \n",
    "Add additional cells if required. "
   ]
  },
  {
   "cell_type": "code",
   "execution_count": 15,
   "metadata": {},
   "outputs": [
    {
     "data": {
      "text/plain": [
       "array([[574, 190],\n",
       "       [ 71, 246]])"
      ]
     },
     "execution_count": 15,
     "metadata": {},
     "output_type": "execute_result"
    }
   ],
   "source": [
    "# Your code below this line  (Question #E104)\n",
    "# --------------------------\n",
    "from sklearn.metrics import confusion_matrix\n",
    "# 1.Compute Confusion Matrix\n",
    "confusion_matrix(y_test, classifier.predict(X_test)) "
   ]
  },
  {
   "cell_type": "code",
   "execution_count": 11,
   "metadata": {},
   "outputs": [
    {
     "name": "stdout",
     "output_type": "stream",
     "text": [
      "Accuracy: 0.7065136935603257\n",
      "Accuracy: 0.5009252405625463\n"
     ]
    }
   ],
   "source": [
    "# 2. Accuracy\n",
    "from sklearn.dummy import DummyClassifier\n",
    "dummy_model = DummyClassifier(strategy='most_frequent')\n",
    "dummy_model.fit(X,y)\n",
    "print(f\"Accuracy: {dummy_model.score(X,y)}\")\n",
    "\n",
    "dummy_model = DummyClassifier(strategy='uniform')\n",
    "dummy_model.fit(X,y)\n",
    "print(f\"Accuracy: {dummy_model.score(X,y)}\")"
   ]
  },
  {
   "cell_type": "code",
   "execution_count": 12,
   "metadata": {},
   "outputs": [
    {
     "data": {
      "text/plain": [
       "0.5035290273749374"
      ]
     },
     "execution_count": 12,
     "metadata": {},
     "output_type": "execute_result"
    }
   ],
   "source": [
    "# 3. Percision\n",
    "from sklearn.metrics import average_precision_score\n",
    "average_precision_score(y_test, y_pred)"
   ]
  },
  {
   "cell_type": "code",
   "execution_count": 13,
   "metadata": {},
   "outputs": [
    {
     "data": {
      "text/plain": [
       "0.7585568917668826"
      ]
     },
     "execution_count": 13,
     "metadata": {},
     "output_type": "execute_result"
    }
   ],
   "source": [
    "# 4. Recall\n",
    "from sklearn.metrics import recall_score\n",
    "recall_score(y_pred, y_test, average=\"weighted\")"
   ]
  },
  {
   "cell_type": "code",
   "execution_count": 16,
   "metadata": {},
   "outputs": [
    {
     "data": {
      "text/plain": [
       "0.7585568917668825"
      ]
     },
     "execution_count": 16,
     "metadata": {},
     "output_type": "execute_result"
    }
   ],
   "source": [
    "# 5. 𝐹1 -Score\n",
    "from sklearn.metrics import f1_score\n",
    "f1_score(y_test, np.round(classifier.predict(X_test)).astype('i4'), average='micro')"
   ]
  },
  {
   "cell_type": "markdown",
   "metadata": {},
   "source": [
    "## Conclusions ?\n",
    "\n",
    "How did your trained model perform relative to your expectations based on the cross-validation?\n",
    "Provide your answer in the cell below."
   ]
  },
  {
   "cell_type": "code",
   "execution_count": null,
   "metadata": {},
   "outputs": [],
   "source": [
    "# Add your answer below this comment  (Question #E105)\n",
    "# -----------------------------------\n",
    "\n",
    "The trained model performed slightly worse relative to the expectations based on the cross validation average scores.\n"
   ]
  },
  {
   "cell_type": "markdown",
   "metadata": {},
   "source": [
    "# Save your notebook!  Then `File > Close and Halt`"
   ]
  }
 ],
 "metadata": {
  "kernelspec": {
   "display_name": "Python 3",
   "language": "python",
   "name": "python3"
  },
  "language_info": {
   "codemirror_mode": {
    "name": "ipython",
    "version": 3
   },
   "file_extension": ".py",
   "mimetype": "text/x-python",
   "name": "python",
   "nbconvert_exporter": "python",
   "pygments_lexer": "ipython3",
   "version": "3.7.3"
  }
 },
 "nbformat": 4,
 "nbformat_minor": 4
}
